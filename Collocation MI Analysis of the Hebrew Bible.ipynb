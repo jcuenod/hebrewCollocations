{
 "cells": [
  {
   "cell_type": "markdown",
   "metadata": {},
   "source": [
    "# Text Fabric Setup\n",
    "We begin by importing the lexemes for our Hebrew corpus.\n",
    "We work with lexemes so we don't need to worry about tokenizing."
   ]
  },
  {
   "cell_type": "code",
   "execution_count": 1,
   "metadata": {},
   "outputs": [
    {
     "name": "stdout",
     "output_type": "stream",
     "text": [
      "  0.00s loading features ...\n",
      "   |     0.22s B g_lex_utf8           from /home/jcuenod/Programming/text-fabric-data/bhsa/tf/2017\n",
      "  4.51s All features loaded/computed - for details use loadLog()\n"
     ]
    }
   ],
   "source": [
    "from tf.fabric import Fabric\n",
    "\n",
    "TF = Fabric(locations='../text-fabric-data/bhsa', modules='tf/2017', silent=True)\n",
    "api = TF.load('''\n",
    "\tg_lex_utf8\n",
    "''')"
   ]
  },
  {
   "cell_type": "markdown",
   "metadata": {},
   "source": [
    "First we'll set up a helper function that will help us count occurrences."
   ]
  },
  {
   "cell_type": "code",
   "execution_count": 2,
   "metadata": {},
   "outputs": [],
   "source": [
    "def increment_key(d, i, key):\n",
    "    if key in i:\n",
    "        d[ i[key] ][\"count\"] += 1\n",
    "    else:\n",
    "        i[key] = len(d)\n",
    "        d.append({\n",
    "            \"lexeme\": key,\n",
    "            \"count\": 1\n",
    "        })"
   ]
  },
  {
   "cell_type": "markdown",
   "metadata": {},
   "source": [
    "Now we'll run through every word and count the lexeme occurrences."
   ]
  },
  {
   "cell_type": "code",
   "execution_count": 3,
   "metadata": {},
   "outputs": [],
   "source": [
    "lexeme_key_indices = {}\n",
    "lexeme_dict = []\n",
    "corpus_size = 0\n",
    "for n in api.F.otype.s('word'):\n",
    "    key = api.F.g_lex_utf8.v(n)\n",
    "    increment_key(lexeme_dict, lexeme_key_indices, key)\n",
    "    corpus_size += 1"
   ]
  },
  {
   "cell_type": "markdown",
   "metadata": {},
   "source": [
    "Now let's see what our lexeme_dict contains"
   ]
  },
  {
   "cell_type": "code",
   "execution_count": 4,
   "metadata": {},
   "outputs": [
    {
     "data": {
      "text/plain": [
       "[{'lexeme': 'בְּ', 'count': 6588},\n",
       " {'lexeme': 'רֵאשִׁית', 'count': 49},\n",
       " {'lexeme': 'בָּרָא', 'count': 9},\n",
       " {'lexeme': 'אֱלֹה', 'count': 2389},\n",
       " {'lexeme': 'אֵת', 'count': 1171},\n",
       " {'lexeme': 'הַ', 'count': 17008},\n",
       " {'lexeme': 'שָּׁמַי', 'count': 225},\n",
       " {'lexeme': 'וְ', 'count': 24303},\n",
       " {'lexeme': 'הָ', 'count': 6633},\n",
       " {'lexeme': 'אָרֶץ', 'count': 1350}]"
      ]
     },
     "execution_count": 4,
     "metadata": {},
     "output_type": "execute_result"
    }
   ],
   "source": [
    "lexeme_dict[0:10]"
   ]
  },
  {
   "cell_type": "markdown",
   "metadata": {},
   "source": [
    "# Let's Analyse \"YHWH\" (יְהוָה)\n",
    "\n",
    "## 1. Find Frequencies\n",
    "\n",
    "In this for loop, we find all the words that are collocated with \"יְהוָה\" (that is, words that are found in the same clause).\n",
    "\n",
    "Note: by changing the `WORD_TO_STUDY` at this point, we can do the equivalent analysis on other terms."
   ]
  },
  {
   "cell_type": "code",
   "execution_count": 5,
   "metadata": {},
   "outputs": [],
   "source": [
    "# WORD_TO_STUDY = \"אָרֶץ\"\n",
    "# WORD_TO_STUDY = \"שָּׁמַי\"\n",
    "WORD_TO_STUDY = \"יְהוָה\"\n",
    "\n",
    "collocation_key_indices = {}\n",
    "collocation_dict = []\n",
    "for n in api.F.otype.s('word'):\n",
    "    if api.F.g_lex_utf8.v(n) != WORD_TO_STUDY: continue\n",
    "    relevant_clause = api.L.u(n, otype='clause')[0]\n",
    "    for nn in api.L.d(relevant_clause, otype='word'):\n",
    "        if n == nn: continue\n",
    "        key = api.F.g_lex_utf8.v(nn)\n",
    "        increment_key(collocation_dict, collocation_key_indices, key)"
   ]
  },
  {
   "cell_type": "markdown",
   "metadata": {},
   "source": [
    "Now let's see what the most common collocations were. Remember we are not done at this point, in the next step we will weight these frequencies."
   ]
  },
  {
   "cell_type": "code",
   "execution_count": 6,
   "metadata": {},
   "outputs": [
    {
     "data": {
      "text/plain": [
       "[{'lexeme': 'וַ', 'count': 1100},\n",
       " {'lexeme': 'אֶת', 'count': 907},\n",
       " {'lexeme': 'אֱלֹה', 'count': 871},\n",
       " {'lexeme': 'הַ', 'count': 862},\n",
       " {'lexeme': 'וְ', 'count': 847},\n",
       " {'lexeme': 'בְּ', 'count': 685},\n",
       " {'lexeme': 'אֶל', 'count': 638},\n",
       " {'lexeme': 'כִּי', 'count': 618},\n",
       " {'lexeme': 'אֲשֶׁר', 'count': 580},\n",
       " {'lexeme': 'לְ', 'count': 414}]"
      ]
     },
     "execution_count": 6,
     "metadata": {},
     "output_type": "execute_result"
    }
   ],
   "source": [
    "sorted_collocations = sorted(collocation_dict, key=lambda x: x[\"count\"], reverse=True)\n",
    "sorted_collocations[0:10]"
   ]
  },
  {
   "cell_type": "markdown",
   "metadata": {},
   "source": [
    "## 2. Weight Frequencies\n",
    "\n",
    "We will weight these frequencies using the assocation measure called MI. \"MI\" comes from \"mutual information\" (cf. http://www.collocations.de/AM/)\n",
    "\n",
    "To calculate MI, we need these four values:\n",
    "- Corpus Size\n",
    "- Node (CMJM/) occurrences\n",
    "- Collocate (?) occurrences\n",
    "- Node + Collocate occurrences (i.e. \"observed\")\n",
    "\n",
    "The MI value is then defined by the following function:\n",
    "```\n",
    "MI = log2(observed/expected)\n",
    "```\n",
    "\n",
    "To calculate \"expected\" and then MI, we need these functions:"
   ]
  },
  {
   "cell_type": "code",
   "execution_count": 7,
   "metadata": {},
   "outputs": [],
   "source": [
    "def calculateExpected(node, collocate, corpus_size):\n",
    "    return (node * collocate) / corpus_size\n",
    "\n",
    "from math import log2, pow\n",
    "def calculateMI(observed, expected):\n",
    "    return log2(observed/expected)"
   ]
  },
  {
   "cell_type": "markdown",
   "metadata": {},
   "source": [
    "The `calculateMI` function above favours collocations in which words occur infrequently.\n",
    "This means that hapaxes are automatically given high MI values.\n",
    "\n",
    "Apparently MI2 is better at dealing with this problem (cf. http://www.collocations.de/AM/). The solution offered by MI2 is to do the calculation as:\n",
    "\n",
    "```\n",
    "mi2 = log2(pow(observed,2)/expected)\n",
    "```\n",
    "   \n",
    "In my experience, however, this unduly privileged excessively common lexemes (such as ה and ו). For this reason, it seems better to me to filter out collocations where the other word occurs at very low frequencies. The number is arbitrary but even 2 produces better results. It is helpful to bear in mind that examining collocations is only going to be useful if we have a few occurrences of the collocation so I have settled on 5 at this point."
   ]
  },
  {
   "cell_type": "code",
   "execution_count": 8,
   "metadata": {},
   "outputs": [],
   "source": [
    "MIN_COLLOCATIONS = 5\n",
    "filtered_collocations = list(filter(lambda x: x[\"count\"] > MIN_COLLOCATIONS, collocation_dict))"
   ]
  },
  {
   "cell_type": "markdown",
   "metadata": {},
   "source": [
    "So now let's add that data to our collocation information"
   ]
  },
  {
   "cell_type": "code",
   "execution_count": 9,
   "metadata": {},
   "outputs": [],
   "source": [
    "collocation_mi = []\n",
    "for i in range(len(filtered_collocations)):\n",
    "    key = filtered_collocations[i][\"lexeme\"]\n",
    "    new_entry = {\n",
    "        \"lexeme\": key,\n",
    "        \"count\": filtered_collocations[i][\"count\"]\n",
    "    }\n",
    "    new_entry[\"expected\"] = calculateExpected(\n",
    "        node=lexeme_dict[ lexeme_key_indices[WORD_TO_STUDY] ][\"count\"],\n",
    "        collocate=lexeme_dict[ lexeme_key_indices[key] ][\"count\"],\n",
    "        corpus_size=corpus_size)\n",
    "    new_entry[\"MI\"] = calculateMI(new_entry[\"count\"], new_entry[\"expected\"])\n",
    "    collocation_mi.append(new_entry)"
   ]
  },
  {
   "cell_type": "markdown",
   "metadata": {},
   "source": [
    "## 3. Sort Collocations by MI Weight\n",
    "\n",
    "Let's sort collocations by MI and see what the highest MIs are:"
   ]
  },
  {
   "cell_type": "code",
   "execution_count": 10,
   "metadata": {},
   "outputs": [
    {
     "data": {
      "text/plain": [
       "[{'lexeme': 'מְשִׁיחַ',\n",
       "  'count': 11,\n",
       "  'expected': 0.15983721846107685,\n",
       "  'MI': 6.104756331308513},\n",
       " {'lexeme': 'מַלְאַךְ',\n",
       "  'count': 58,\n",
       "  'expected': 0.9323837743562815,\n",
       "  'MI': 5.958985191574977},\n",
       " {'lexeme': 'דְבַר',\n",
       "  'count': 159,\n",
       "  'expected': 2.6905931774281266,\n",
       "  'MI': 5.884958685924933},\n",
       " {'lexeme': 'הֵיכַל',\n",
       "  'count': 29,\n",
       "  'expected': 0.4928314235883202,\n",
       "  'MI': 5.8788148428909945},\n",
       " {'lexeme': 'שָּׂטָן',\n",
       "  'count': 13,\n",
       "  'expected': 0.2264360594865255,\n",
       "  'MI': 5.8432640902831245},\n",
       " {'lexeme': 'בָּרֲך',\n",
       "  'count': 16,\n",
       "  'expected': 0.2930349005119742,\n",
       "  'MI': 5.770855594755075},\n",
       " {'lexeme': 'חַגַּי',\n",
       "  'count': 8,\n",
       "  'expected': 0.1465174502559871,\n",
       "  'MI': 5.770855594755075},\n",
       " {'lexeme': 'גֹּף',\n",
       "  'count': 7,\n",
       "  'expected': 0.13319768205089735,\n",
       "  'MI': 5.715714040562614},\n",
       " {'lexeme': 'צְבָא',\n",
       "  'count': 252,\n",
       "  'expected': 4.795116553832305,\n",
       "  'MI': 5.715714040562614},\n",
       " {'lexeme': 'נְאֻם',\n",
       "  'count': 260,\n",
       "  'expected': 4.994913076908651,\n",
       "  'MI': 5.701908241037583}]"
      ]
     },
     "execution_count": 10,
     "metadata": {},
     "output_type": "execute_result"
    }
   ],
   "source": [
    "sorted_collocations_mi = sorted(collocation_mi, key=lambda x: x[\"MI\"], reverse=True)\n",
    "sorted_collocations_mi[0:10]"
   ]
  },
  {
   "cell_type": "markdown",
   "metadata": {},
   "source": [
    "## 4. View Results\n",
    "\n",
    "These results are, according to the MI measure the most meaningful assocations with the term studied above. Remember that we adjusted the collocations, removing infrequent ones so this remains an adjusted MI. Still, the results are intriguing and the last result displayed* illustrates the potential of furthering this study with more than three or more lexemes per collocation.\n",
    "\n",
    "**The last result displayed (the 20th), כֹּה, is clearly significant because of the phrase \"כֹּה אָמַר יהוה\" whereas אָמַר is simply too common outside of collocations with יהוה.*"
   ]
  },
  {
   "cell_type": "code",
   "execution_count": 11,
   "metadata": {},
   "outputs": [
    {
     "data": {
      "text/markdown": [
       "**Documentation:** <a target=\"_blank\" href=\"https://etcbc.github.io/bhsa\" title=\"{provenance of this corpus}\">BHSA</a> <a target=\"_blank\" href=\"https://etcbc.github.io/bhsa/features/hebrew/2017/0_home.html\" title=\"{CORPUS.upper()} feature documentation\">Feature docs</a> <a target=\"_blank\" href=\"https://dans-labs.github.io/text-fabric/Api/Bhsa/\" title=\"BHSA API documentation\">BHSA API</a> <a target=\"_blank\" href=\"https://dans-labs.github.io/text-fabric/Api/General/\" title=\"text-fabric-api\">Text-Fabric API 5.4.0</a> <a target=\"_blank\" href=\"https://dans-labs.github.io/text-fabric/Api/General/#search-templates\" title=\"Search Templates Introduction and Reference\">Search Reference</a>"
      ],
      "text/plain": [
       "<IPython.core.display.Markdown object>"
      ]
     },
     "metadata": {},
     "output_type": "display_data"
    },
    {
     "data": {
      "text/html": [
       "\n",
       "<style type=\"text/css\">\n",
       ".verse {\n",
       "    display: flex;\n",
       "    flex-flow: row wrap;\n",
       "    direction: rtl;\n",
       "}\n",
       ".vl {\n",
       "    display: flex;\n",
       "    flex-flow: column nowrap;\n",
       "    justify-content: flex-end;\n",
       "    align-items: flex-end;\n",
       "    direction: ltr;\n",
       "    width: 100%;\n",
       "}\n",
       ".outeritem {\n",
       "    display: flex;\n",
       "    flex-flow: row wrap;\n",
       "    direction: rtl;\n",
       "}\n",
       ".sentence,.clause,.phrase {\n",
       "    margin-top: -1.2em;\n",
       "    margin-left: 1em;\n",
       "    background: #ffffff none repeat scroll 0 0;\n",
       "    padding: 0 0.3em;\n",
       "    border-style: solid;\n",
       "    border-radius: 0.2em;\n",
       "    font-size: small;\n",
       "    display: block;\n",
       "    width: fit-content;\n",
       "    max-width: fit-content;\n",
       "    direction: ltr;\n",
       "}\n",
       ".atoms {\n",
       "    display: flex;\n",
       "    flex-flow: row wrap;\n",
       "    margin: 0.3em;\n",
       "    padding: 0.3em;\n",
       "    direction: rtl;\n",
       "    background-color: #ffffff;\n",
       "}\n",
       ".satom,.catom,.patom {\n",
       "    margin: 0.3em;\n",
       "    padding: 0.3em;\n",
       "    border-radius: 0.3em;\n",
       "    border-style: solid;\n",
       "    display: flex;\n",
       "    flex-flow: column nowrap;\n",
       "    direction: rtl;\n",
       "    background-color: #ffffff;\n",
       "}\n",
       ".sentence {\n",
       "    border-color: #aa3333;\n",
       "    border-width: 1px;\n",
       "}\n",
       ".clause {\n",
       "    border-color: #aaaa33;\n",
       "    border-width: 1px;\n",
       "}\n",
       ".phrase {\n",
       "    border-color: #33aaaa;\n",
       "    border-width: 1px;\n",
       "}\n",
       ".satom {\n",
       "    border-color: #aa3333;\n",
       "    border-width: 4px;\n",
       "}\n",
       ".catom {\n",
       "    border-color: #aaaa33;\n",
       "    border-width: 3px;\n",
       "}\n",
       ".patom {\n",
       "    border-color: #33aaaa;\n",
       "    border-width: 3px;\n",
       "}\n",
       ".word {\n",
       "    padding: 0.1em;\n",
       "    margin: 0.1em;\n",
       "    border-radius: 0.1em;\n",
       "    border: 1px solid #cccccc;\n",
       "    display: flex;\n",
       "    flex-flow: column nowrap;\n",
       "    direction: rtl;\n",
       "    background-color: #ffffff;\n",
       "}\n",
       ".lex {\n",
       "    padding: 0.1em;\n",
       "    margin: 0.1em;\n",
       "    border-radius: 0.1em;\n",
       "    border: 2px solid #888888;\n",
       "    width: fit-content;\n",
       "    display: flex;\n",
       "    flex-flow: column nowrap;\n",
       "    direction: rtl;\n",
       "    background-color: #ffffff;\n",
       "}\n",
       ".occs {\n",
       "    font-size: x-small;\n",
       "}\n",
       ".satom.l,.catom.l,.patom.l {\n",
       "    border-left-style: dotted\n",
       "}\n",
       ".satom.r,.catom.r,.patom.r {\n",
       "    border-right-style: dotted\n",
       "}\n",
       ".satom.L,.catom.L,.patom.L {\n",
       "    border-left-style: none\n",
       "}\n",
       ".satom.R,.catom.R,.patom.R {\n",
       "    border-right-style: none\n",
       "}\n",
       ".h,.h a:visited,.h a:link {\n",
       "    font-family: \"Ezra SIL\", \"SBL Hebrew\", sans-serif;\n",
       "    font-size: large;\n",
       "    color: #000044;\n",
       "    direction: rtl;\n",
       "    text-decoration: none;\n",
       "}\n",
       ".hb,.hb a:visited,.hb a:link {\n",
       "    font-family: \"Ezra SIL\", \"SBL Hebrew\", sans-serif;\n",
       "    font-size: large;\n",
       "    direction: rtl;\n",
       "    text-decoration: none;\n",
       "}\n",
       ".rela,.function,.typ {\n",
       "    font-family: monospace;\n",
       "    font-size: small;\n",
       "    color: #0000bb;\n",
       "}\n",
       ".pdp,.pdp a:visited,.pdp a:link {\n",
       "    font-family: monospace;\n",
       "    font-size: medium;\n",
       "    color: #0000bb;\n",
       "    text-decoration: none;\n",
       "}\n",
       ".voc_lex {\n",
       "    font-family: monospace;\n",
       "    font-size: medium;\n",
       "    color: #0000bb;\n",
       "}\n",
       ".vs {\n",
       "    font-family: monospace;\n",
       "    font-size: medium;\n",
       "    font-weight: bold;\n",
       "    color: #0000bb;\n",
       "}\n",
       ".vt {\n",
       "    font-family: monospace;\n",
       "    font-size: medium;\n",
       "    font-weight: bold;\n",
       "    color: #0000bb;\n",
       "}\n",
       ".gloss {\n",
       "    font-family: sans-serif;\n",
       "    font-size: small;\n",
       "    font-weight: normal;\n",
       "    color: #aaaaaa;\n",
       "}\n",
       ".vrs {\n",
       "    font-family: sans-serif;\n",
       "    font-size: small;\n",
       "    font-weight: bold;\n",
       "    color: #444444;\n",
       "}\n",
       ".nd {\n",
       "    font-family: monospace;\n",
       "    font-size: x-small;\n",
       "    color: #999999;\n",
       "}\n",
       ".features {\n",
       "    font-family: monospace;\n",
       "    font-size: medium;\n",
       "    font-weight: bold;\n",
       "    color: #0a6611;\n",
       "    display: flex;\n",
       "    flex-flow: column nowrap;\n",
       "    padding: 0.1em;\n",
       "    margin: 0.1em;\n",
       "}\n",
       ".features .f {\n",
       "    font-family: sans-serif;\n",
       "    font-size: x-small;\n",
       "    font-weight: normal;\n",
       "    color: #5555bb;\n",
       "}\n",
       ".word .features div,.word .features span {\n",
       "    padding: 0;\n",
       "    margin: -0.1rem 0;\n",
       "}\n",
       "\n",
       ".hl {\n",
       "    background-color: #ffee66;\n",
       "}\n",
       "</style>\n"
      ],
      "text/plain": [
       "<IPython.core.display.HTML object>"
      ]
     },
     "metadata": {},
     "output_type": "display_data"
    },
    {
     "name": "stdout",
     "output_type": "stream",
     "text": [
      "{'lexeme': 'מְשִׁיחַ', 'count': 11, 'expected': 0.15983721846107685, 'MI': 6.104756331308513}\n",
      "  1.26s 11 results\n"
     ]
    },
    {
     "data": {
      "text/markdown": [
       "n | verse | clause | word | word\n",
       "--- | --- | --- | --- | ---\n",
       "1|<a href=\"https://shebanq.ancient-data.org/hebrew/text?book=Samuel_I&chapter=24&verse=7&version=2017&mr=m&qw=q&tp=txt_p&tr=hb&wget=v&qget=v&nget=vt\" title=\"1_Samuel 24:7\">1_Samuel 24:7</a> <span class=\"hb\">וַיֹּ֨אמֶר לַאֲנָשָׁ֜יו חָלִ֧ילָה לִּ֣י מֵֽיהוָ֗ה אִם־אֶעֱשֶׂה֩ אֶת־הַדָּבָ֨ר הַזֶּ֤ה לַֽאדֹנִי֙ לִמְשִׁ֣יחַ יְהוָ֔ה לִשְׁלֹ֥חַ יָדִ֖י בֹּ֑ו כִּֽי־מְשִׁ֥יחַ יְהוָ֖ה הֽוּא׃ </span>|<span class=\"hb\">אִם־אֶעֱשֶׂה֩ אֶת־הַדָּבָ֨ר הַזֶּ֤ה לַֽאדֹנִי֙ לִמְשִׁ֣יחַ יְהוָ֔ה </span>|<span class=\"hb\">יְהוָ֔ה </span>|<span class=\"hb\">מְשִׁ֣יחַ </span>\n",
       "2|<a href=\"https://shebanq.ancient-data.org/hebrew/text?book=Samuel_I&chapter=24&verse=7&version=2017&mr=m&qw=q&tp=txt_p&tr=hb&wget=v&qget=v&nget=vt\" title=\"1_Samuel 24:7\">1_Samuel 24:7</a> <span class=\"hb\">וַיֹּ֨אמֶר לַאֲנָשָׁ֜יו חָלִ֧ילָה לִּ֣י מֵֽיהוָ֗ה אִם־אֶעֱשֶׂה֩ אֶת־הַדָּבָ֨ר הַזֶּ֤ה לַֽאדֹנִי֙ לִמְשִׁ֣יחַ יְהוָ֔ה לִשְׁלֹ֥חַ יָדִ֖י בֹּ֑ו כִּֽי־מְשִׁ֥יחַ יְהוָ֖ה הֽוּא׃ </span>|<span class=\"hb\">כִּֽי־מְשִׁ֥יחַ יְהוָ֖ה הֽוּא׃ </span>|<span class=\"hb\">יְהוָ֖ה </span>|<span class=\"hb\">מְשִׁ֥יחַ </span>\n",
       "3|<a href=\"https://shebanq.ancient-data.org/hebrew/text?book=Samuel_I&chapter=24&verse=11&version=2017&mr=m&qw=q&tp=txt_p&tr=hb&wget=v&qget=v&nget=vt\" title=\"1_Samuel 24:11\">1_Samuel 24:11</a> <span class=\"hb\">הִנֵּה֩ הַיֹּ֨ום הַזֶּ֜ה רָא֣וּ עֵינֶ֗יךָ אֵ֣ת אֲשֶׁר־נְתָנְךָ֩ יְהוָ֨ה׀ הַיֹּ֤ום׀ בְּיָדִי֙ בַּמְּעָרָ֔ה וְאָמַ֥ר לַהֲרָגֲךָ֖ וַתָּ֣חָס עָלֶ֑יךָ וָאֹמַ֗ר לֹא־אֶשְׁלַ֤ח יָדִי֙ בַּֽאדֹנִ֔י כִּי־מְשִׁ֥יחַ יְהוָ֖ה הֽוּא׃ </span>|<span class=\"hb\">כִּי־מְשִׁ֥יחַ יְהוָ֖ה הֽוּא׃ </span>|<span class=\"hb\">יְהוָ֖ה </span>|<span class=\"hb\">מְשִׁ֥יחַ </span>\n",
       "4|<a href=\"https://shebanq.ancient-data.org/hebrew/text?book=Samuel_I&chapter=26&verse=9&version=2017&mr=m&qw=q&tp=txt_p&tr=hb&wget=v&qget=v&nget=vt\" title=\"1_Samuel 26:9\">1_Samuel 26:9</a> <span class=\"hb\">וַיֹּ֧אמֶר דָּוִ֛ד אֶל־אֲבִישַׁ֖י אַל־תַּשְׁחִיתֵ֑הוּ כִּ֠י מִ֣י שָׁלַ֥ח יָדֹ֛ו בִּמְשִׁ֥יחַ יְהוָ֖ה וְנִקָּֽה׃ פ </span>|<span class=\"hb\">כִּ֠י מִ֣י שָׁלַ֥ח יָדֹ֛ו בִּמְשִׁ֥יחַ יְהוָ֖ה </span>|<span class=\"hb\">יְהוָ֖ה </span>|<span class=\"hb\">מְשִׁ֥יחַ </span>\n",
       "5|<a href=\"https://shebanq.ancient-data.org/hebrew/text?book=Samuel_I&chapter=26&verse=11&version=2017&mr=m&qw=q&tp=txt_p&tr=hb&wget=v&qget=v&nget=vt\" title=\"1_Samuel 26:11\">1_Samuel 26:11</a> <span class=\"hb\">חָלִ֤ילָה לִּי֙ מֵֽיהוָ֔ה מִשְּׁלֹ֥חַ יָדִ֖י בִּמְשִׁ֣יחַ יְהוָ֑ה וְ֠עַתָּה קַח־נָ֨א אֶֽת־הַחֲנִ֜ית אֲשֶׁ֧ר מְרַאֲשֹׁתָ֛יו וְאֶת־צַפַּ֥חַת הַמַּ֖יִם וְנֵ֥לֲכָה לָּֽנוּ׃ </span>|<span class=\"hb\">מִשְּׁלֹ֥חַ יָדִ֖י בִּמְשִׁ֣יחַ יְהוָ֑ה </span>|<span class=\"hb\">יְהוָ֑ה </span>|<span class=\"hb\">מְשִׁ֣יחַ </span>\n",
       "6|<a href=\"https://shebanq.ancient-data.org/hebrew/text?book=Samuel_I&chapter=26&verse=16&version=2017&mr=m&qw=q&tp=txt_p&tr=hb&wget=v&qget=v&nget=vt\" title=\"1_Samuel 26:16\">1_Samuel 26:16</a> <span class=\"hb\">לֹא־טֹ֞וב הַדָּבָ֣ר הַזֶּה֮ אֲשֶׁ֣ר עָשִׂיתָ֒ חַי־יְהוָ֗ה כִּ֤י בְנֵי־מָ֨וֶת֙ אַתֶּ֔ם אֲשֶׁ֧ר לֹֽא־שְׁמַרְתֶּ֛ם עַל־אֲדֹנֵיכֶ֖ם עַל־מְשִׁ֣יחַ יְהוָ֑ה וְעַתָּ֣ה׀ רְאֵ֗ה אֵֽי־חֲנִ֥ית הַמֶּ֛לֶךְ וְאֶת־צַפַּ֥חַת הַמַּ֖יִם אֲשֶׁ֥ר מְרַאֲשֹׁתָֽיו׃</span>|<span class=\"hb\">אֲשֶׁ֧ר לֹֽא־שְׁמַרְתֶּ֛ם עַל־אֲדֹנֵיכֶ֖ם עַל־מְשִׁ֣יחַ יְהוָ֑ה </span>|<span class=\"hb\">יְהוָ֑ה </span>|<span class=\"hb\">מְשִׁ֣יחַ </span>\n",
       "7|<a href=\"https://shebanq.ancient-data.org/hebrew/text?book=Samuel_I&chapter=26&verse=23&version=2017&mr=m&qw=q&tp=txt_p&tr=hb&wget=v&qget=v&nget=vt\" title=\"1_Samuel 26:23\">1_Samuel 26:23</a> <span class=\"hb\">וַֽיהוָה֙ יָשִׁ֣יב לָאִ֔ישׁ אֶת־צִדְקָתֹ֖ו וְאֶת־אֱמֻנָתֹ֑ו אֲשֶׁר֩ נְתָנְךָ֙ יְהוָ֤ה׀ הַיֹּום֙ בְּיָ֔ד וְלֹ֣א אָבִ֔יתִי לִשְׁלֹ֥חַ יָדִ֖י בִּמְשִׁ֥יחַ יְהוָֽה׃ </span>|<span class=\"hb\">לִשְׁלֹ֥חַ יָדִ֖י בִּמְשִׁ֥יחַ יְהוָֽה׃ </span>|<span class=\"hb\">יְהוָֽה׃ </span>|<span class=\"hb\">מְשִׁ֥יחַ </span>\n",
       "8|<a href=\"https://shebanq.ancient-data.org/hebrew/text?book=Samuel_II&chapter=1&verse=14&version=2017&mr=m&qw=q&tp=txt_p&tr=hb&wget=v&qget=v&nget=vt\" title=\"2_Samuel 1:14\">2_Samuel 1:14</a> <span class=\"hb\">וַיֹּ֥אמֶר אֵלָ֖יו דָּוִ֑ד אֵ֚יךְ לֹ֣א יָרֵ֔אתָ לִשְׁלֹ֨חַ֙ יָֽדְךָ֔ לְשַׁחֵ֖ת אֶת־מְשִׁ֥יחַ יְהוָֽה׃ </span>|<span class=\"hb\">לְשַׁחֵ֖ת אֶת־מְשִׁ֥יחַ יְהוָֽה׃ </span>|<span class=\"hb\">יְהוָֽה׃ </span>|<span class=\"hb\">מְשִׁ֥יחַ </span>\n",
       "9|<a href=\"https://shebanq.ancient-data.org/hebrew/text?book=Samuel_II&chapter=1&verse=16&version=2017&mr=m&qw=q&tp=txt_p&tr=hb&wget=v&qget=v&nget=vt\" title=\"2_Samuel 1:16\">2_Samuel 1:16</a> <span class=\"hb\">וַיֹּ֤אמֶר אֵלָיו֙ דָּוִ֔ד דָּמְךָ֖ עַל־רֹאשֶׁ֑ךָ כִּ֣י פִ֗יךָ עָנָ֤ה בְךָ֙ לֵאמֹ֔ר אָנֹכִ֥י מֹתַ֖תִּי אֶת־מְשִׁ֥יחַ יְהוָֽה׃ ס </span>|<span class=\"hb\">אָנֹכִ֥י מֹתַ֖תִּי אֶת־מְשִׁ֥יחַ יְהוָֽה׃ ס </span>|<span class=\"hb\">יְהוָֽה׃ ס </span>|<span class=\"hb\">מְשִׁ֥יחַ </span>\n",
       "10|<a href=\"https://shebanq.ancient-data.org/hebrew/text?book=Samuel_II&chapter=19&verse=22&version=2017&mr=m&qw=q&tp=txt_p&tr=hb&wget=v&qget=v&nget=vt\" title=\"2_Samuel 19:22\">2_Samuel 19:22</a> <span class=\"hb\">וַיַּ֨עַן אֲבִישַׁ֤י בֶּן־צְרוּיָה֙ וַיֹּ֔אמֶר הֲתַ֣חַת זֹ֔את לֹ֥א יוּמַ֖ת שִׁמְעִ֑י כִּ֥י קִלֵּ֖ל אֶת־מְשִׁ֥יחַ יְהוָֽה׃ ס </span>|<span class=\"hb\">כִּ֥י קִלֵּ֖ל אֶת־מְשִׁ֥יחַ יְהוָֽה׃ ס </span>|<span class=\"hb\">יְהוָֽה׃ ס </span>|<span class=\"hb\">מְשִׁ֥יחַ </span>"
      ],
      "text/plain": [
       "<IPython.core.display.Markdown object>"
      ]
     },
     "metadata": {},
     "output_type": "display_data"
    },
    {
     "name": "stdout",
     "output_type": "stream",
     "text": [
      "{'lexeme': 'מַלְאַךְ', 'count': 58, 'expected': 0.9323837743562815, 'MI': 5.958985191574977}\n",
      "  1.32s 58 results\n"
     ]
    },
    {
     "data": {
      "text/markdown": [
       "n | verse | clause | word | word\n",
       "--- | --- | --- | --- | ---\n",
       "1|<a href=\"https://shebanq.ancient-data.org/hebrew/text?book=Genesis&chapter=16&verse=7&version=2017&mr=m&qw=q&tp=txt_p&tr=hb&wget=v&qget=v&nget=vt\" title=\"Genesis 16:7\">Genesis 16:7</a> <span class=\"hb\">וַֽיִּמְצָאָ֞הּ מַלְאַ֧ךְ יְהוָ֛ה עַל־עֵ֥ין הַמַּ֖יִם בַּמִּדְבָּ֑ר עַל־הָעַ֖יִן בְּדֶ֥רֶךְ שֽׁוּר׃ </span>|<span class=\"hb\">וַֽיִּמְצָאָ֞הּ מַלְאַ֧ךְ יְהוָ֛ה עַל־עֵ֥ין הַמַּ֖יִם בַּמִּדְבָּ֑ר עַל־הָעַ֖יִן בְּדֶ֥רֶךְ שֽׁוּר׃ </span>|<span class=\"hb\">יְהוָ֛ה </span>|<span class=\"hb\">מַלְאַ֧ךְ </span>\n",
       "2|<a href=\"https://shebanq.ancient-data.org/hebrew/text?book=Genesis&chapter=16&verse=9&version=2017&mr=m&qw=q&tp=txt_p&tr=hb&wget=v&qget=v&nget=vt\" title=\"Genesis 16:9\">Genesis 16:9</a> <span class=\"hb\">וַיֹּ֤אמֶר לָהּ֙ מַלְאַ֣ךְ יְהוָ֔ה שׁ֖וּבִי אֶל־גְּבִרְתֵּ֑ךְ וְהִתְעַנִּ֖י תַּ֥חַת יָדֶֽיהָ׃ </span>|<span class=\"hb\">וַיֹּ֤אמֶר לָהּ֙ מַלְאַ֣ךְ יְהוָ֔ה </span>|<span class=\"hb\">יְהוָ֔ה </span>|<span class=\"hb\">מַלְאַ֣ךְ </span>\n",
       "3|<a href=\"https://shebanq.ancient-data.org/hebrew/text?book=Genesis&chapter=16&verse=10&version=2017&mr=m&qw=q&tp=txt_p&tr=hb&wget=v&qget=v&nget=vt\" title=\"Genesis 16:10\">Genesis 16:10</a> <span class=\"hb\">וַיֹּ֤אמֶר לָהּ֙ מַלְאַ֣ךְ יְהוָ֔ה הַרְבָּ֥ה אַרְבֶּ֖ה אֶת־זַרְעֵ֑ךְ וְלֹ֥א יִסָּפֵ֖ר מֵרֹֽב׃ </span>|<span class=\"hb\">וַיֹּ֤אמֶר לָהּ֙ מַלְאַ֣ךְ יְהוָ֔ה </span>|<span class=\"hb\">יְהוָ֔ה </span>|<span class=\"hb\">מַלְאַ֣ךְ </span>\n",
       "4|<a href=\"https://shebanq.ancient-data.org/hebrew/text?book=Genesis&chapter=16&verse=11&version=2017&mr=m&qw=q&tp=txt_p&tr=hb&wget=v&qget=v&nget=vt\" title=\"Genesis 16:11\">Genesis 16:11</a> <span class=\"hb\">וַיֹּ֤אמֶר לָהּ֙ מַלְאַ֣ךְ יְהוָ֔ה הִנָּ֥ךְ הָרָ֖ה וְיֹלַ֣דְתְּ בֵּ֑ן וְקָרָ֤את שְׁמֹו֙ יִשְׁמָעֵ֔אל כִּֽי־שָׁמַ֥ע יְהוָ֖ה אֶל־עָנְיֵֽךְ׃ </span>|<span class=\"hb\">וַיֹּ֤אמֶר לָהּ֙ מַלְאַ֣ךְ יְהוָ֔ה </span>|<span class=\"hb\">יְהוָ֔ה </span>|<span class=\"hb\">מַלְאַ֣ךְ </span>\n",
       "5|<a href=\"https://shebanq.ancient-data.org/hebrew/text?book=Genesis&chapter=22&verse=11&version=2017&mr=m&qw=q&tp=txt_p&tr=hb&wget=v&qget=v&nget=vt\" title=\"Genesis 22:11\">Genesis 22:11</a> <span class=\"hb\">וַיִּקְרָ֨א אֵלָ֜יו מַלְאַ֤ךְ יְהוָה֙ מִן־הַשָּׁמַ֔יִם וַיֹּ֖אמֶר אַבְרָהָ֣ם׀ אַבְרָהָ֑ם וַיֹּ֖אמֶר הִנֵּֽנִי׃ </span>|<span class=\"hb\">וַיִּקְרָ֨א אֵלָ֜יו מַלְאַ֤ךְ יְהוָה֙ מִן־הַשָּׁמַ֔יִם </span>|<span class=\"hb\">יְהוָה֙ </span>|<span class=\"hb\">מַלְאַ֤ךְ </span>\n",
       "6|<a href=\"https://shebanq.ancient-data.org/hebrew/text?book=Genesis&chapter=22&verse=15&version=2017&mr=m&qw=q&tp=txt_p&tr=hb&wget=v&qget=v&nget=vt\" title=\"Genesis 22:15\">Genesis 22:15</a> <span class=\"hb\">וַיִּקְרָ֛א מַלְאַ֥ךְ יְהוָ֖ה אֶל־אַבְרָהָ֑ם שֵׁנִ֖ית מִן־הַשָּׁמָֽיִם׃ </span>|<span class=\"hb\">וַיִּקְרָ֛א מַלְאַ֥ךְ יְהוָ֖ה אֶל־אַבְרָהָ֑ם שֵׁנִ֖ית מִן־הַשָּׁמָֽיִם׃ </span>|<span class=\"hb\">יְהוָ֖ה </span>|<span class=\"hb\">מַלְאַ֥ךְ </span>\n",
       "7|<a href=\"https://shebanq.ancient-data.org/hebrew/text?book=Numeri&chapter=22&verse=22&version=2017&mr=m&qw=q&tp=txt_p&tr=hb&wget=v&qget=v&nget=vt\" title=\"Numbers 22:22\">Numbers 22:22</a> <span class=\"hb\">וַיִּֽחַר־אַ֣ף אֱלֹהִים֮ כִּֽי־הֹולֵ֣ךְ הוּא֒ וַיִּתְיַצֵּ֞ב מַלְאַ֧ךְ יְהוָ֛ה בַּדֶּ֖רֶךְ לְשָׂטָ֣ן לֹ֑ו וְהוּא֙ רֹכֵ֣ב עַל־אֲתֹנֹ֔ו וּשְׁנֵ֥י נְעָרָ֖יו עִמֹּֽו׃ </span>|<span class=\"hb\">וַיִּתְיַצֵּ֞ב מַלְאַ֧ךְ יְהוָ֛ה בַּדֶּ֖רֶךְ לְשָׂטָ֣ן לֹ֑ו </span>|<span class=\"hb\">יְהוָ֛ה </span>|<span class=\"hb\">מַלְאַ֧ךְ </span>\n",
       "8|<a href=\"https://shebanq.ancient-data.org/hebrew/text?book=Numeri&chapter=22&verse=23&version=2017&mr=m&qw=q&tp=txt_p&tr=hb&wget=v&qget=v&nget=vt\" title=\"Numbers 22:23\">Numbers 22:23</a> <span class=\"hb\">וַתֵּ֣רֶא הָאָתֹון֩ אֶת־מַלְאַ֨ךְ יְהוָ֜ה נִצָּ֣ב בַּדֶּ֗רֶךְ וְחַרְבֹּ֤ו שְׁלוּפָה֙ בְּיָדֹ֔ו וַתֵּ֤ט הָֽאָתֹון֙ מִן־הַדֶּ֔רֶךְ וַתֵּ֖לֶךְ בַּשָּׂדֶ֑ה וַיַּ֤ךְ בִּלְעָם֙ אֶת־הָ֣אָתֹ֔ון לְהַטֹּתָ֖הּ הַדָּֽרֶךְ׃ </span>|<span class=\"hb\">וַתֵּ֣רֶא הָאָתֹון֩ אֶת־מַלְאַ֨ךְ יְהוָ֜ה </span>|<span class=\"hb\">יְהוָ֜ה </span>|<span class=\"hb\">מַלְאַ֨ךְ </span>\n",
       "9|<a href=\"https://shebanq.ancient-data.org/hebrew/text?book=Numeri&chapter=22&verse=24&version=2017&mr=m&qw=q&tp=txt_p&tr=hb&wget=v&qget=v&nget=vt\" title=\"Numbers 22:24\">Numbers 22:24</a> <span class=\"hb\">וַֽיַּעֲמֹד֙ מַלְאַ֣ךְ יְהוָ֔ה בְּמִשְׁעֹ֖ול הַכְּרָמִ֑ים גָּדֵ֥ר מִזֶּ֖ה וְגָדֵ֥ר מִזֶּֽה׃ </span>|<span class=\"hb\">וַֽיַּעֲמֹד֙ מַלְאַ֣ךְ יְהוָ֔ה בְּמִשְׁעֹ֖ול הַכְּרָמִ֑ים </span>|<span class=\"hb\">יְהוָ֔ה </span>|<span class=\"hb\">מַלְאַ֣ךְ </span>\n",
       "10|<a href=\"https://shebanq.ancient-data.org/hebrew/text?book=Numeri&chapter=22&verse=25&version=2017&mr=m&qw=q&tp=txt_p&tr=hb&wget=v&qget=v&nget=vt\" title=\"Numbers 22:25\">Numbers 22:25</a> <span class=\"hb\">וַתֵּ֨רֶא הָאָתֹ֜ון אֶת־מַלְאַ֣ךְ יְהוָ֗ה וַתִּלָּחֵץ֙ אֶל־הַקִּ֔יר וַתִּלְחַ֛ץ אֶת־רֶ֥גֶל בִּלְעָ֖ם אֶל־הַקִּ֑יר וַיֹּ֖סֶף לְהַכֹּתָֽהּ׃ </span>|<span class=\"hb\">וַתֵּ֨רֶא הָאָתֹ֜ון אֶת־מַלְאַ֣ךְ יְהוָ֗ה </span>|<span class=\"hb\">יְהוָ֗ה </span>|<span class=\"hb\">מַלְאַ֣ךְ </span>"
      ],
      "text/plain": [
       "<IPython.core.display.Markdown object>"
      ]
     },
     "metadata": {},
     "output_type": "display_data"
    },
    {
     "name": "stdout",
     "output_type": "stream",
     "text": [
      "{'lexeme': 'דְבַר', 'count': 159, 'expected': 2.6905931774281266, 'MI': 5.884958685924933}\n",
      "  1.20s 158 results\n"
     ]
    },
    {
     "data": {
      "text/markdown": [
       "n | verse | clause | word | word\n",
       "--- | --- | --- | --- | ---\n",
       "1|<a href=\"https://shebanq.ancient-data.org/hebrew/text?book=Genesis&chapter=15&verse=1&version=2017&mr=m&qw=q&tp=txt_p&tr=hb&wget=v&qget=v&nget=vt\" title=\"Genesis 15:1\">Genesis 15:1</a> <span class=\"hb\">אַחַ֣ר׀ הַדְּבָרִ֣ים הָאֵ֗לֶּה הָיָ֤ה דְבַר־יְהוָה֙ אֶל־אַבְרָ֔ם בַּֽמַּחֲזֶ֖ה לֵאמֹ֑ר אַל־תִּירָ֣א אַבְרָ֗ם אָנֹכִי֙ מָגֵ֣ן לָ֔ךְ שְׂכָרְךָ֖ הַרְבֵּ֥ה מְאֹֽד׃ </span>|<span class=\"hb\">אַחַ֣ר׀ הַדְּבָרִ֣ים הָאֵ֗לֶּה הָיָ֤ה דְבַר־יְהוָה֙ אֶל־אַבְרָ֔ם בַּֽמַּחֲזֶ֖ה </span>|<span class=\"hb\">יְהוָה֙ </span>|<span class=\"hb\">דְבַר־</span>\n",
       "2|<a href=\"https://shebanq.ancient-data.org/hebrew/text?book=Genesis&chapter=15&verse=4&version=2017&mr=m&qw=q&tp=txt_p&tr=hb&wget=v&qget=v&nget=vt\" title=\"Genesis 15:4\">Genesis 15:4</a> <span class=\"hb\">וְהִנֵּ֨ה דְבַר־יְהוָ֤ה אֵלָיו֙ לֵאמֹ֔ר לֹ֥א יִֽירָשְׁךָ֖ זֶ֑ה כִּי־אִם֙ אֲשֶׁ֣ר יֵצֵ֣א מִמֵּעֶ֔יךָ ה֖וּא יִֽירָשֶֽׁךָ׃ </span>|<span class=\"hb\">וְהִנֵּ֨ה דְבַר־יְהוָ֤ה אֵלָיו֙ </span>|<span class=\"hb\">יְהוָ֤ה </span>|<span class=\"hb\">דְבַר־</span>\n",
       "3|<a href=\"https://shebanq.ancient-data.org/hebrew/text?book=Exodus&chapter=8&verse=9&version=2017&mr=m&qw=q&tp=txt_p&tr=hb&wget=v&qget=v&nget=vt\" title=\"Exodus 8:9\">Exodus 8:9</a> <span class=\"hb\">וַיַּ֥עַשׂ יְהוָ֖ה כִּדְבַ֣ר מֹשֶׁ֑ה וַיָּמֻ֨תוּ֙ הַֽצְפַרְדְּעִ֔ים מִן־הַבָּתִּ֥ים מִן־הַחֲצֵרֹ֖ת וּמִן־הַשָּׂדֹֽת׃ </span>|<span class=\"hb\">וַיַּ֥עַשׂ יְהוָ֖ה כִּדְבַ֣ר מֹשֶׁ֑ה </span>|<span class=\"hb\">יְהוָ֖ה </span>|<span class=\"hb\">דְבַ֣ר </span>\n",
       "4|<a href=\"https://shebanq.ancient-data.org/hebrew/text?book=Exodus&chapter=8&verse=27&version=2017&mr=m&qw=q&tp=txt_p&tr=hb&wget=v&qget=v&nget=vt\" title=\"Exodus 8:27\">Exodus 8:27</a> <span class=\"hb\">וַיַּ֤עַשׂ יְהוָה֙ כִּדְבַ֣ר מֹשֶׁ֔ה וַיָּ֨סַר֙ הֶעָרֹ֔ב מִפַּרְעֹ֖ה מֵעֲבָדָ֣יו וּמֵעַמֹּ֑ו לֹ֥א נִשְׁאַ֖ר אֶחָֽד׃ </span>|<span class=\"hb\">וַיַּ֤עַשׂ יְהוָה֙ כִּדְבַ֣ר מֹשֶׁ֔ה </span>|<span class=\"hb\">יְהוָה֙ </span>|<span class=\"hb\">דְבַ֣ר </span>\n",
       "5|<a href=\"https://shebanq.ancient-data.org/hebrew/text?book=Numeri&chapter=15&verse=31&version=2017&mr=m&qw=q&tp=txt_p&tr=hb&wget=v&qget=v&nget=vt\" title=\"Numbers 15:31\">Numbers 15:31</a> <span class=\"hb\">כִּ֤י דְבַר־יְהוָה֙ בָּזָ֔ה וְאֶת־מִצְוָתֹ֖ו הֵפַ֑ר הִכָּרֵ֧ת׀ תִּכָּרֵ֛ת הַנֶּ֥פֶשׁ הַהִ֖וא עֲוֹנָ֥ה בָֽהּ׃ פ </span>|<span class=\"hb\">כִּ֤י דְבַר־יְהוָה֙ בָּזָ֔ה </span>|<span class=\"hb\">יְהוָה֙ </span>|<span class=\"hb\">דְבַר־</span>\n",
       "6|<a href=\"https://shebanq.ancient-data.org/hebrew/text?book=Josua&chapter=8&verse=8&version=2017&mr=m&qw=q&tp=txt_p&tr=hb&wget=v&qget=v&nget=vt\" title=\"Joshua 8:8\">Joshua 8:8</a> <span class=\"hb\">וְהָיָ֞ה כְּתָפְשְׂכֶ֣ם אֶת־הָעִ֗יר תַּצִּ֤יתוּ אֶת־הָעִיר֙ בָּאֵ֔שׁ כִּדְבַ֥ר יְהוָ֖ה תַּעֲשׂ֑וּ רְא֖וּ צִוִּ֥יתִי אֶתְכֶֽם׃ </span>|<span class=\"hb\">כִּדְבַ֥ר יְהוָ֖ה תַּעֲשׂ֑וּ </span>|<span class=\"hb\">יְהוָ֖ה </span>|<span class=\"hb\">דְבַ֥ר </span>\n",
       "7|<a href=\"https://shebanq.ancient-data.org/hebrew/text?book=Josua&chapter=8&verse=27&version=2017&mr=m&qw=q&tp=txt_p&tr=hb&wget=v&qget=v&nget=vt\" title=\"Joshua 8:27\">Joshua 8:27</a> <span class=\"hb\">רַ֣ק הַבְּהֵמָ֗ה וּשְׁלַל֙ הָעִ֣יר הַהִ֔יא בָּזְז֥וּ לָהֶ֖ם יִשְׂרָאֵ֑ל כִּדְבַ֣ר יְהוָ֔ה אֲשֶׁ֥ר צִוָּ֖ה אֶת־יְהֹושֻֽׁעַ׃ </span>|<span class=\"hb\">רַ֣ק הַבְּהֵמָ֗ה וּשְׁלַל֙ הָעִ֣יר הַהִ֔יא בָּזְז֥וּ לָהֶ֖ם יִשְׂרָאֵ֑ל כִּדְבַ֣ר יְהוָ֔ה </span>|<span class=\"hb\">יְהוָ֔ה </span>|<span class=\"hb\">דְבַ֣ר </span>\n",
       "8|<a href=\"https://shebanq.ancient-data.org/hebrew/text?book=Samuel_I&chapter=3&verse=1&version=2017&mr=m&qw=q&tp=txt_p&tr=hb&wget=v&qget=v&nget=vt\" title=\"1_Samuel 3:1\">1_Samuel 3:1</a> <span class=\"hb\">וְהַנַּ֧עַר שְׁמוּאֵ֛ל מְשָׁרֵ֥ת אֶת־יְהוָ֖ה לִפְנֵ֣י עֵלִ֑י וּדְבַר־יְהוָ֗ה הָיָ֤ה יָקָר֙ בַּיָּמִ֣ים הָהֵ֔ם אֵ֥ין חָזֹ֖ון נִפְרָֽץ׃ ס </span>|<span class=\"hb\">וּדְבַר־יְהוָ֗ה הָיָ֤ה יָקָר֙ בַּיָּמִ֣ים הָהֵ֔ם </span>|<span class=\"hb\">יְהוָ֗ה </span>|<span class=\"hb\">דְבַר־</span>\n",
       "9|<a href=\"https://shebanq.ancient-data.org/hebrew/text?book=Samuel_I&chapter=3&verse=21&version=2017&mr=m&qw=q&tp=txt_p&tr=hb&wget=v&qget=v&nget=vt\" title=\"1_Samuel 3:21\">1_Samuel 3:21</a> <span class=\"hb\">וַיֹּ֥סֶף יְהוָ֖ה לְהֵרָאֹ֣ה בְשִׁלֹ֑ה כִּֽי־נִגְלָ֨ה יְהוָ֧ה אֶל־שְׁמוּאֵ֛ל בְּשִׁלֹ֖ו בִּדְבַ֥ר יְהוָֽה׃ פ </span>|<span class=\"hb\">כִּֽי־נִגְלָ֨ה יְהוָ֧ה אֶל־שְׁמוּאֵ֛ל בְּשִׁלֹ֖ו בִּדְבַ֥ר יְהוָֽה׃ פ </span>|<span class=\"hb\">יְהוָ֧ה </span>|<span class=\"hb\">דְבַ֥ר </span>\n",
       "10|<a href=\"https://shebanq.ancient-data.org/hebrew/text?book=Samuel_I&chapter=3&verse=21&version=2017&mr=m&qw=q&tp=txt_p&tr=hb&wget=v&qget=v&nget=vt\" title=\"1_Samuel 3:21\">1_Samuel 3:21</a> <span class=\"hb\">וַיֹּ֥סֶף יְהוָ֖ה לְהֵרָאֹ֣ה בְשִׁלֹ֑ה כִּֽי־נִגְלָ֨ה יְהוָ֧ה אֶל־שְׁמוּאֵ֛ל בְּשִׁלֹ֖ו בִּדְבַ֥ר יְהוָֽה׃ פ </span>|<span class=\"hb\">כִּֽי־נִגְלָ֨ה יְהוָ֧ה אֶל־שְׁמוּאֵ֛ל בְּשִׁלֹ֖ו בִּדְבַ֥ר יְהוָֽה׃ פ </span>|<span class=\"hb\">יְהוָֽה׃ פ </span>|<span class=\"hb\">דְבַ֥ר </span>"
      ],
      "text/plain": [
       "<IPython.core.display.Markdown object>"
      ]
     },
     "metadata": {},
     "output_type": "display_data"
    },
    {
     "name": "stdout",
     "output_type": "stream",
     "text": [
      "{'lexeme': 'הֵיכַל', 'count': 29, 'expected': 0.4928314235883202, 'MI': 5.8788148428909945}\n",
      "  1.36s 29 results\n"
     ]
    },
    {
     "data": {
      "text/markdown": [
       "n | verse | clause | word | word\n",
       "--- | --- | --- | --- | ---\n",
       "1|<a href=\"https://shebanq.ancient-data.org/hebrew/text?book=Samuel_I&chapter=1&verse=9&version=2017&mr=m&qw=q&tp=txt_p&tr=hb&wget=v&qget=v&nget=vt\" title=\"1_Samuel 1:9\">1_Samuel 1:9</a> <span class=\"hb\">וַתָּ֣קָם חַנָּ֔ה אַחֲרֵ֛י אָכְלָ֥ה בְשִׁלֹ֖ה וְאַחֲרֵ֣י שָׁתֹ֑ה וְעֵלִ֣י הַכֹּהֵ֗ן יֹשֵׁב֙ עַל־הַכִּסֵּ֔א עַל־מְזוּזַ֖ת הֵיכַ֥ל יְהוָֽה׃ </span>|<span class=\"hb\">וְעֵלִ֣י הַכֹּהֵ֗ן יֹשֵׁב֙ עַל־הַכִּסֵּ֔א עַל־מְזוּזַ֖ת הֵיכַ֥ל יְהוָֽה׃ </span>|<span class=\"hb\">יְהוָֽה׃ </span>|<span class=\"hb\">הֵיכַ֥ל </span>\n",
       "2|<a href=\"https://shebanq.ancient-data.org/hebrew/text?book=Samuel_I&chapter=3&verse=3&version=2017&mr=m&qw=q&tp=txt_p&tr=hb&wget=v&qget=v&nget=vt\" title=\"1_Samuel 3:3\">1_Samuel 3:3</a> <span class=\"hb\">וְנֵ֤ר אֱלֹהִים֙ טֶ֣רֶם יִכְבֶּ֔ה וּשְׁמוּאֵ֖ל שֹׁכֵ֑ב בְּהֵיכַ֣ל יְהוָ֔ה אֲשֶׁר־שָׁ֖ם אֲרֹ֥ון אֱלֹהִֽים׃ פ </span>|<span class=\"hb\">וּשְׁמוּאֵ֖ל שֹׁכֵ֑ב בְּהֵיכַ֣ל יְהוָ֔ה </span>|<span class=\"hb\">יְהוָ֔ה </span>|<span class=\"hb\">הֵיכַ֣ל </span>\n",
       "3|<a href=\"https://shebanq.ancient-data.org/hebrew/text?book=Reges_II&chapter=18&verse=16&version=2017&mr=m&qw=q&tp=txt_p&tr=hb&wget=v&qget=v&nget=vt\" title=\"2_Kings 18:16\">2_Kings 18:16</a> <span class=\"hb\">בָּעֵ֣ת הַהִ֗יא קִצַּ֨ץ חִזְקִיָּ֜ה אֶת־דַּלְתֹ֨ות הֵיכַ֤ל יְהוָה֙ וְאֶת־הָאֹ֣מְנֹ֔ות אֲשֶׁ֣ר צִפָּ֔ה חִזְקִיָּ֖ה מֶ֣לֶךְ יְהוּדָ֑ה וַֽיִּתְּנֵ֖ם לְמֶ֥לֶךְ אַשּֽׁוּר׃ פ </span>|<span class=\"hb\">בָּעֵ֣ת הַהִ֗יא קִצַּ֨ץ חִזְקִיָּ֜ה אֶת־דַּלְתֹ֨ות הֵיכַ֤ל יְהוָה֙ וְאֶת־הָאֹ֣מְנֹ֔ות </span>|<span class=\"hb\">יְהוָה֙ </span>|<span class=\"hb\">הֵיכַ֤ל </span>\n",
       "4|<a href=\"https://shebanq.ancient-data.org/hebrew/text?book=Reges_II&chapter=23&verse=4&version=2017&mr=m&qw=q&tp=txt_p&tr=hb&wget=v&qget=v&nget=vt\" title=\"2_Kings 23:4\">2_Kings 23:4</a> <span class=\"hb\">וַיְצַ֣ו הַמֶּ֡לֶךְ אֶת־חִלְקִיָּהוּ֩ הַכֹּהֵ֨ן הַגָּדֹ֜ול וְאֶת־כֹּהֲנֵ֣י הַמִּשְׁנֶה֮ וְאֶת־שֹׁמְרֵ֣י הַסַּף֒ לְהֹוצִיא֙ מֵהֵיכַ֣ל יְהוָ֔ה אֵ֣ת כָּל־הַכֵּלִ֗ים הָֽעֲשׂוּיִם֙ לַבַּ֣עַל וְלָֽאֲשֵׁרָ֔ה וּלְכֹ֖ל צְבָ֣א הַשָּׁמָ֑יִם וַֽיִּשְׂרְפֵ֞ם מִח֤וּץ לִירוּשָׁלִַ֨ם֙ בְּשַׁדְמֹ֣ות קִדְרֹ֔ון וְנָשָׂ֥א אֶת־עֲפָרָ֖ם בֵּֽית־אֵֽל׃ </span>|<span class=\"hb\">לְהֹוצִיא֙ מֵהֵיכַ֣ל יְהוָ֔ה אֵ֣ת כָּל־הַכֵּלִ֗ים </span>|<span class=\"hb\">יְהוָ֔ה </span>|<span class=\"hb\">הֵיכַ֣ל </span>\n",
       "5|<a href=\"https://shebanq.ancient-data.org/hebrew/text?book=Reges_II&chapter=24&verse=13&version=2017&mr=m&qw=q&tp=txt_p&tr=hb&wget=v&qget=v&nget=vt\" title=\"2_Kings 24:13\">2_Kings 24:13</a> <span class=\"hb\">וַיֹּוצֵ֣א מִשָּׁ֗ם אֶת־כָּל־אֹוצְרֹות֙ בֵּ֣ית יְהוָ֔ה וְאֹֽוצְרֹ֖ות בֵּ֣ית הַמֶּ֑לֶךְ וַיְקַצֵּ֞ץ אֶת־כָּל־כְּלֵ֣י הַזָּהָ֗ב אֲשֶׁ֨ר עָשָׂ֜ה שְׁלֹמֹ֤ה מֶֽלֶךְ־יִשְׂרָאֵל֙ בְּהֵיכַ֣ל יְהוָ֔ה כַּֽאֲשֶׁ֖ר דִּבֶּ֥ר יְהוָֽה׃ </span>|<span class=\"hb\">אֲשֶׁ֨ר עָשָׂ֜ה שְׁלֹמֹ֤ה מֶֽלֶךְ־יִשְׂרָאֵל֙ בְּהֵיכַ֣ל יְהוָ֔ה </span>|<span class=\"hb\">יְהוָ֔ה </span>|<span class=\"hb\">הֵיכַ֣ל </span>\n",
       "6|<a href=\"https://shebanq.ancient-data.org/hebrew/text?book=Jeremia&chapter=7&verse=4&version=2017&mr=m&qw=q&tp=txt_p&tr=hb&wget=v&qget=v&nget=vt\" title=\"Jeremiah 7:4\">Jeremiah 7:4</a> <span class=\"hb\">אַל־תִּבְטְח֣וּ לָכֶ֔ם אֶל־דִּבְרֵ֥י הַשֶּׁ֖קֶר לֵאמֹ֑ר הֵיכַ֤ל יְהוָה֙ הֵיכַ֣ל יְהוָ֔ה הֵיכַ֥ל יְהוָ֖ה הֵֽמָּה׃ </span>|<span class=\"hb\">הֵיכַ֤ל יְהוָה֙ הֵיכַ֣ל יְהוָ֔ה הֵיכַ֥ל יְהוָ֖ה הֵֽמָּה׃ </span>|<span class=\"hb\">יְהוָה֙ </span>|<span class=\"hb\">הֵיכַ֤ל </span>\n",
       "7|<a href=\"https://shebanq.ancient-data.org/hebrew/text?book=Jeremia&chapter=7&verse=4&version=2017&mr=m&qw=q&tp=txt_p&tr=hb&wget=v&qget=v&nget=vt\" title=\"Jeremiah 7:4\">Jeremiah 7:4</a> <span class=\"hb\">אַל־תִּבְטְח֣וּ לָכֶ֔ם אֶל־דִּבְרֵ֥י הַשֶּׁ֖קֶר לֵאמֹ֑ר הֵיכַ֤ל יְהוָה֙ הֵיכַ֣ל יְהוָ֔ה הֵיכַ֥ל יְהוָ֖ה הֵֽמָּה׃ </span>|<span class=\"hb\">הֵיכַ֤ל יְהוָה֙ הֵיכַ֣ל יְהוָ֔ה הֵיכַ֥ל יְהוָ֖ה הֵֽמָּה׃ </span>|<span class=\"hb\">יְהוָה֙ </span>|<span class=\"hb\">הֵיכַ֣ל </span>\n",
       "8|<a href=\"https://shebanq.ancient-data.org/hebrew/text?book=Jeremia&chapter=7&verse=4&version=2017&mr=m&qw=q&tp=txt_p&tr=hb&wget=v&qget=v&nget=vt\" title=\"Jeremiah 7:4\">Jeremiah 7:4</a> <span class=\"hb\">אַל־תִּבְטְח֣וּ לָכֶ֔ם אֶל־דִּבְרֵ֥י הַשֶּׁ֖קֶר לֵאמֹ֑ר הֵיכַ֤ל יְהוָה֙ הֵיכַ֣ל יְהוָ֔ה הֵיכַ֥ל יְהוָ֖ה הֵֽמָּה׃ </span>|<span class=\"hb\">הֵיכַ֤ל יְהוָה֙ הֵיכַ֣ל יְהוָ֔ה הֵיכַ֥ל יְהוָ֖ה הֵֽמָּה׃ </span>|<span class=\"hb\">יְהוָה֙ </span>|<span class=\"hb\">הֵיכַ֥ל </span>\n",
       "9|<a href=\"https://shebanq.ancient-data.org/hebrew/text?book=Jeremia&chapter=7&verse=4&version=2017&mr=m&qw=q&tp=txt_p&tr=hb&wget=v&qget=v&nget=vt\" title=\"Jeremiah 7:4\">Jeremiah 7:4</a> <span class=\"hb\">אַל־תִּבְטְח֣וּ לָכֶ֔ם אֶל־דִּבְרֵ֥י הַשֶּׁ֖קֶר לֵאמֹ֑ר הֵיכַ֤ל יְהוָה֙ הֵיכַ֣ל יְהוָ֔ה הֵיכַ֥ל יְהוָ֖ה הֵֽמָּה׃ </span>|<span class=\"hb\">הֵיכַ֤ל יְהוָה֙ הֵיכַ֣ל יְהוָ֔ה הֵיכַ֥ל יְהוָ֖ה הֵֽמָּה׃ </span>|<span class=\"hb\">יְהוָ֔ה </span>|<span class=\"hb\">הֵיכַ֤ל </span>\n",
       "10|<a href=\"https://shebanq.ancient-data.org/hebrew/text?book=Jeremia&chapter=7&verse=4&version=2017&mr=m&qw=q&tp=txt_p&tr=hb&wget=v&qget=v&nget=vt\" title=\"Jeremiah 7:4\">Jeremiah 7:4</a> <span class=\"hb\">אַל־תִּבְטְח֣וּ לָכֶ֔ם אֶל־דִּבְרֵ֥י הַשֶּׁ֖קֶר לֵאמֹ֑ר הֵיכַ֤ל יְהוָה֙ הֵיכַ֣ל יְהוָ֔ה הֵיכַ֥ל יְהוָ֖ה הֵֽמָּה׃ </span>|<span class=\"hb\">הֵיכַ֤ל יְהוָה֙ הֵיכַ֣ל יְהוָ֔ה הֵיכַ֥ל יְהוָ֖ה הֵֽמָּה׃ </span>|<span class=\"hb\">יְהוָ֔ה </span>|<span class=\"hb\">הֵיכַ֣ל </span>"
      ],
      "text/plain": [
       "<IPython.core.display.Markdown object>"
      ]
     },
     "metadata": {},
     "output_type": "display_data"
    },
    {
     "name": "stdout",
     "output_type": "stream",
     "text": [
      "{'lexeme': 'שָּׂטָן', 'count': 13, 'expected': 0.2264360594865255, 'MI': 5.8432640902831245}\n",
      "  1.36s 13 results\n"
     ]
    },
    {
     "data": {
      "text/markdown": [
       "n | verse | clause | word | word\n",
       "--- | --- | --- | --- | ---\n",
       "1|<a href=\"https://shebanq.ancient-data.org/hebrew/text?book=Sacharia&chapter=3&verse=2&version=2017&mr=m&qw=q&tp=txt_p&tr=hb&wget=v&qget=v&nget=vt\" title=\"Zechariah 3:2\">Zechariah 3:2</a> <span class=\"hb\">וַיֹּ֨אמֶר יְהוָ֜ה אֶל־הַשָּׂטָ֗ן יִגְעַ֨ר יְהוָ֤ה בְּךָ֙ הַשָּׂטָ֔ן וְיִגְעַ֤ר יְהוָה֙ בְּךָ֔ הַבֹּחֵ֖ר בִּירֽוּשָׁלִָ֑ם הֲלֹ֧וא זֶ֦ה א֖וּד מֻצָּ֥ל מֵאֵֽשׁ׃ </span>|<span class=\"hb\">וַיֹּ֨אמֶר יְהוָ֜ה אֶל־הַשָּׂטָ֗ן </span>|<span class=\"hb\">יְהוָ֜ה </span>|<span class=\"hb\">שָּׂטָ֗ן </span>\n",
       "2|<a href=\"https://shebanq.ancient-data.org/hebrew/text?book=Iob&chapter=1&verse=7&version=2017&mr=m&qw=q&tp=txt_p&tr=hb&wget=v&qget=v&nget=vt\" title=\"Job 1:7\">Job 1:7</a> <span class=\"hb\">וַיֹּ֧אמֶר יְהוָ֛ה אֶל־הַשָּׂטָ֖ן מֵאַ֣יִן תָּבֹ֑א וַיַּ֨עַן הַשָּׂטָ֤ן אֶת־יְהוָה֙ וַיֹּאמַ֔ר מִשּׁ֣וּט בָּאָ֔רֶץ וּמֵֽהִתְהַלֵּ֖ךְ בָּֽהּ׃ </span>|<span class=\"hb\">וַיֹּ֧אמֶר יְהוָ֛ה אֶל־הַשָּׂטָ֖ן </span>|<span class=\"hb\">יְהוָ֛ה </span>|<span class=\"hb\">שָּׂטָ֖ן </span>\n",
       "3|<a href=\"https://shebanq.ancient-data.org/hebrew/text?book=Iob&chapter=1&verse=7&version=2017&mr=m&qw=q&tp=txt_p&tr=hb&wget=v&qget=v&nget=vt\" title=\"Job 1:7\">Job 1:7</a> <span class=\"hb\">וַיֹּ֧אמֶר יְהוָ֛ה אֶל־הַשָּׂטָ֖ן מֵאַ֣יִן תָּבֹ֑א וַיַּ֨עַן הַשָּׂטָ֤ן אֶת־יְהוָה֙ וַיֹּאמַ֔ר מִשּׁ֣וּט בָּאָ֔רֶץ וּמֵֽהִתְהַלֵּ֖ךְ בָּֽהּ׃ </span>|<span class=\"hb\">וַיַּ֨עַן הַשָּׂטָ֤ן אֶת־יְהוָה֙ </span>|<span class=\"hb\">יְהוָה֙ </span>|<span class=\"hb\">שָּׂטָ֤ן </span>\n",
       "4|<a href=\"https://shebanq.ancient-data.org/hebrew/text?book=Iob&chapter=1&verse=8&version=2017&mr=m&qw=q&tp=txt_p&tr=hb&wget=v&qget=v&nget=vt\" title=\"Job 1:8\">Job 1:8</a> <span class=\"hb\">וַיֹּ֤אמֶר יְהוָה֙ אֶל־הַשָּׂטָ֔ן הֲשַׂ֥מְתָּ לִבְּךָ֖ עַל־עַבְדִּ֣י אִיֹּ֑וב כִּ֣י אֵ֤ין כָּמֹ֨הוּ֙ בָּאָ֔רֶץ אִ֣ישׁ תָּ֧ם וְיָשָׁ֛ר יְרֵ֥א אֱלֹהִ֖ים וְסָ֥ר מֵרָֽע׃ </span>|<span class=\"hb\">וַיֹּ֤אמֶר יְהוָה֙ אֶל־הַשָּׂטָ֔ן </span>|<span class=\"hb\">יְהוָה֙ </span>|<span class=\"hb\">שָּׂטָ֔ן </span>\n",
       "5|<a href=\"https://shebanq.ancient-data.org/hebrew/text?book=Iob&chapter=1&verse=9&version=2017&mr=m&qw=q&tp=txt_p&tr=hb&wget=v&qget=v&nget=vt\" title=\"Job 1:9\">Job 1:9</a> <span class=\"hb\">וַיַּ֧עַן הַשָּׂטָ֛ן אֶת־יְהוָ֖ה וַיֹּאמַ֑ר הַֽחִנָּ֔ם יָרֵ֥א אִיֹּ֖וב אֱלֹהִֽים׃ </span>|<span class=\"hb\">וַיַּ֧עַן הַשָּׂטָ֛ן אֶת־יְהוָ֖ה </span>|<span class=\"hb\">יְהוָ֖ה </span>|<span class=\"hb\">שָּׂטָ֛ן </span>\n",
       "6|<a href=\"https://shebanq.ancient-data.org/hebrew/text?book=Iob&chapter=1&verse=12&version=2017&mr=m&qw=q&tp=txt_p&tr=hb&wget=v&qget=v&nget=vt\" title=\"Job 1:12\">Job 1:12</a> <span class=\"hb\">וַיֹּ֨אמֶר יְהוָ֜ה אֶל־הַשָּׂטָ֗ן הִנֵּ֤ה כָל־אֲשֶׁר־לֹו֙ בְּיָדֶ֔ךָ רַ֣ק אֵלָ֔יו אַל־תִּשְׁלַ֖ח יָדֶ֑ךָ וַיֵּצֵא֙ הַשָּׂטָ֔ן מֵעִ֖ם פְּנֵ֥י יְהוָֽה׃ </span>|<span class=\"hb\">וַיֹּ֨אמֶר יְהוָ֜ה אֶל־הַשָּׂטָ֗ן </span>|<span class=\"hb\">יְהוָ֜ה </span>|<span class=\"hb\">שָּׂטָ֗ן </span>\n",
       "7|<a href=\"https://shebanq.ancient-data.org/hebrew/text?book=Iob&chapter=1&verse=12&version=2017&mr=m&qw=q&tp=txt_p&tr=hb&wget=v&qget=v&nget=vt\" title=\"Job 1:12\">Job 1:12</a> <span class=\"hb\">וַיֹּ֨אמֶר יְהוָ֜ה אֶל־הַשָּׂטָ֗ן הִנֵּ֤ה כָל־אֲשֶׁר־לֹו֙ בְּיָדֶ֔ךָ רַ֣ק אֵלָ֔יו אַל־תִּשְׁלַ֖ח יָדֶ֑ךָ וַיֵּצֵא֙ הַשָּׂטָ֔ן מֵעִ֖ם פְּנֵ֥י יְהוָֽה׃ </span>|<span class=\"hb\">וַיֵּצֵא֙ הַשָּׂטָ֔ן מֵעִ֖ם פְּנֵ֥י יְהוָֽה׃ </span>|<span class=\"hb\">יְהוָֽה׃ </span>|<span class=\"hb\">שָּׂטָ֔ן </span>\n",
       "8|<a href=\"https://shebanq.ancient-data.org/hebrew/text?book=Iob&chapter=2&verse=2&version=2017&mr=m&qw=q&tp=txt_p&tr=hb&wget=v&qget=v&nget=vt\" title=\"Job 2:2\">Job 2:2</a> <span class=\"hb\">וַיֹּ֤אמֶר יְהוָה֙ אֶל־הַשָּׂטָ֔ן אֵ֥י מִזֶּ֖ה תָּבֹ֑א וַיַּ֨עַן הַשָּׂטָ֤ן אֶת־יְהוָה֙ וַיֹּאמַ֔ר מִשֻּׁ֣ט בָּאָ֔רֶץ וּמֵהִתְהַלֵּ֖ךְ בָּֽהּ׃ </span>|<span class=\"hb\">וַיֹּ֤אמֶר יְהוָה֙ אֶל־הַשָּׂטָ֔ן </span>|<span class=\"hb\">יְהוָה֙ </span>|<span class=\"hb\">שָּׂטָ֔ן </span>\n",
       "9|<a href=\"https://shebanq.ancient-data.org/hebrew/text?book=Iob&chapter=2&verse=2&version=2017&mr=m&qw=q&tp=txt_p&tr=hb&wget=v&qget=v&nget=vt\" title=\"Job 2:2\">Job 2:2</a> <span class=\"hb\">וַיֹּ֤אמֶר יְהוָה֙ אֶל־הַשָּׂטָ֔ן אֵ֥י מִזֶּ֖ה תָּבֹ֑א וַיַּ֨עַן הַשָּׂטָ֤ן אֶת־יְהוָה֙ וַיֹּאמַ֔ר מִשֻּׁ֣ט בָּאָ֔רֶץ וּמֵהִתְהַלֵּ֖ךְ בָּֽהּ׃ </span>|<span class=\"hb\">וַיַּ֨עַן הַשָּׂטָ֤ן אֶת־יְהוָה֙ </span>|<span class=\"hb\">יְהוָה֙ </span>|<span class=\"hb\">שָּׂטָ֤ן </span>\n",
       "10|<a href=\"https://shebanq.ancient-data.org/hebrew/text?book=Iob&chapter=2&verse=3&version=2017&mr=m&qw=q&tp=txt_p&tr=hb&wget=v&qget=v&nget=vt\" title=\"Job 2:3\">Job 2:3</a> <span class=\"hb\">וַיֹּ֨אמֶר יְהוָ֜ה אֶל־הַשָּׂטָ֗ן הֲשַׂ֣מְתָּ לִבְּךָ֮ אֶל־עַבְדִּ֣י אִיֹּוב֒ כִּי֩ אֵ֨ין כָּמֹ֜הוּ בָּאָ֗רֶץ אִ֣ישׁ תָּ֧ם וְיָשָׁ֛ר יְרֵ֥א אֱלֹהִ֖ים וְסָ֣ר מֵרָ֑ע וְעֹדֶ֨נּוּ֙ מַחֲזִ֣יק בְּתֻמָּתֹ֔ו וַתְּסִיתֵ֥נִי בֹ֖ו לְבַלְּעֹ֥ו חִנָּֽם׃ </span>|<span class=\"hb\">וַיֹּ֨אמֶר יְהוָ֜ה אֶל־הַשָּׂטָ֗ן </span>|<span class=\"hb\">יְהוָ֜ה </span>|<span class=\"hb\">שָּׂטָ֗ן </span>"
      ],
      "text/plain": [
       "<IPython.core.display.Markdown object>"
      ]
     },
     "metadata": {},
     "output_type": "display_data"
    },
    {
     "name": "stdout",
     "output_type": "stream",
     "text": [
      "{'lexeme': 'בָּרֲך', 'count': 16, 'expected': 0.2930349005119742, 'MI': 5.770855594755075}\n",
      "  1.34s 16 results\n"
     ]
    },
    {
     "data": {
      "text/markdown": [
       "n | verse | clause | word | word\n",
       "--- | --- | --- | --- | ---\n",
       "1|<a href=\"https://shebanq.ancient-data.org/hebrew/text?book=Judices&chapter=5&verse=2&version=2017&mr=m&qw=q&tp=txt_p&tr=hb&wget=v&qget=v&nget=vt\" title=\"Judges 5:2\">Judges 5:2</a> <span class=\"hb\">בִּפְרֹ֤עַ פְּרָעֹות֙ בְּיִשְׂרָאֵ֔ל בְּהִתְנַדֵּ֖ב עָ֑ם בָּרֲכ֖וּ יְהוָֽה׃ </span>|<span class=\"hb\">בָּרֲכ֖וּ יְהוָֽה׃ </span>|<span class=\"hb\">יְהוָֽה׃ </span>|<span class=\"hb\">בָּרֲכ֖וּ </span>\n",
       "2|<a href=\"https://shebanq.ancient-data.org/hebrew/text?book=Judices&chapter=5&verse=9&version=2017&mr=m&qw=q&tp=txt_p&tr=hb&wget=v&qget=v&nget=vt\" title=\"Judges 5:9\">Judges 5:9</a> <span class=\"hb\">לִבִּי֙ לְחֹוקְקֵ֣י יִשְׂרָאֵ֔ל הַמִּֽתְנַדְּבִ֖ים בָּעָ֑ם בָּרֲכ֖וּ יְהוָֽה׃ </span>|<span class=\"hb\">בָּרֲכ֖וּ יְהוָֽה׃ </span>|<span class=\"hb\">יְהוָֽה׃ </span>|<span class=\"hb\">בָּרֲכ֖וּ </span>\n",
       "3|<a href=\"https://shebanq.ancient-data.org/hebrew/text?book=Psalmi&chapter=103&verse=1&version=2017&mr=m&qw=q&tp=txt_p&tr=hb&wget=v&qget=v&nget=vt\" title=\"Psalms 103:1\">Psalms 103:1</a> <span class=\"hb\">לְדָוִ֨ד׀ בָּרֲכִ֣י נַ֭פְשִׁי אֶת־יְהוָ֑ה וְכָל־קְ֝רָבַ֗י אֶת־שֵׁ֥ם קָדְשֹֽׁו׃ </span>|<span class=\"hb\">בָּרֲכִ֣י אֶת־יְהוָ֑ה </span>|<span class=\"hb\">יְהוָ֑ה </span>|<span class=\"hb\">בָּרֲכִ֣י </span>\n",
       "4|<a href=\"https://shebanq.ancient-data.org/hebrew/text?book=Psalmi&chapter=103&verse=2&version=2017&mr=m&qw=q&tp=txt_p&tr=hb&wget=v&qget=v&nget=vt\" title=\"Psalms 103:2\">Psalms 103:2</a> <span class=\"hb\">בָּרֲכִ֣י נַ֭פְשִׁי אֶת־יְהוָ֑ה וְאַל־תִּ֝שְׁכְּחִ֗י כָּל־גְּמוּלָֽיו׃ </span>|<span class=\"hb\">בָּרֲכִ֣י אֶת־יְהוָ֑ה </span>|<span class=\"hb\">יְהוָ֑ה </span>|<span class=\"hb\">בָּרֲכִ֣י </span>\n",
       "5|<a href=\"https://shebanq.ancient-data.org/hebrew/text?book=Psalmi&chapter=103&verse=20&version=2017&mr=m&qw=q&tp=txt_p&tr=hb&wget=v&qget=v&nget=vt\" title=\"Psalms 103:20\">Psalms 103:20</a> <span class=\"hb\">בָּרֲכ֥וּ יְהוָ֗ה מַלְאָ֫כָ֥יו גִּבֹּ֣רֵי כֹ֭חַ עֹשֵׂ֣י דְבָרֹ֑ו לִ֝שְׁמֹ֗עַ בְּקֹ֣ול דְּבָרֹֽו׃ </span>|<span class=\"hb\">בָּרֲכ֥וּ יְהוָ֗ה </span>|<span class=\"hb\">יְהוָ֗ה </span>|<span class=\"hb\">בָּרֲכ֥וּ </span>\n",
       "6|<a href=\"https://shebanq.ancient-data.org/hebrew/text?book=Psalmi&chapter=103&verse=21&version=2017&mr=m&qw=q&tp=txt_p&tr=hb&wget=v&qget=v&nget=vt\" title=\"Psalms 103:21\">Psalms 103:21</a> <span class=\"hb\">בָּרֲכ֣וּ יְ֭הוָה כָּל־צְבָאָ֑יו מְ֝שָׁרְתָ֗יו עֹשֵׂ֥י רְצֹונֹֽו׃ </span>|<span class=\"hb\">בָּרֲכ֣וּ יְ֭הוָה </span>|<span class=\"hb\">יְ֭הוָה </span>|<span class=\"hb\">בָּרֲכ֣וּ </span>\n",
       "7|<a href=\"https://shebanq.ancient-data.org/hebrew/text?book=Psalmi&chapter=103&verse=22&version=2017&mr=m&qw=q&tp=txt_p&tr=hb&wget=v&qget=v&nget=vt\" title=\"Psalms 103:22\">Psalms 103:22</a> <span class=\"hb\">בָּרֲכ֤וּ יְהוָ֨ה׀ כָּֽל־מַעֲשָׂ֗יו בְּכָל־מְקֹמֹ֥ות מֶמְשַׁלְתֹּ֑ו בָּרֲכִ֥י נַ֝פְשִׁ֗י אֶת־יְהוָֽה׃ </span>|<span class=\"hb\">בָּרֲכ֤וּ יְהוָ֨ה׀ </span>|<span class=\"hb\">יְהוָ֨ה׀ </span>|<span class=\"hb\">בָּרֲכ֤וּ </span>\n",
       "8|<a href=\"https://shebanq.ancient-data.org/hebrew/text?book=Psalmi&chapter=103&verse=22&version=2017&mr=m&qw=q&tp=txt_p&tr=hb&wget=v&qget=v&nget=vt\" title=\"Psalms 103:22\">Psalms 103:22</a> <span class=\"hb\">בָּרֲכ֤וּ יְהוָ֨ה׀ כָּֽל־מַעֲשָׂ֗יו בְּכָל־מְקֹמֹ֥ות מֶמְשַׁלְתֹּ֑ו בָּרֲכִ֥י נַ֝פְשִׁ֗י אֶת־יְהוָֽה׃ </span>|<span class=\"hb\">בָּרֲכִ֥י אֶת־יְהוָֽה׃ </span>|<span class=\"hb\">יְהוָֽה׃ </span>|<span class=\"hb\">בָּרֲכִ֥י </span>\n",
       "9|<a href=\"https://shebanq.ancient-data.org/hebrew/text?book=Psalmi&chapter=104&verse=1&version=2017&mr=m&qw=q&tp=txt_p&tr=hb&wget=v&qget=v&nget=vt\" title=\"Psalms 104:1\">Psalms 104:1</a> <span class=\"hb\">בָּרֲכִ֥י נַפְשִׁ֗י אֶת־יְה֫וָ֥ה יְהוָ֣ה אֱ֭לֹהַי גָּדַ֣לְתָּ מְּאֹ֑ד הֹ֭וד וְהָדָ֣ר לָבָֽשְׁתָּ׃ </span>|<span class=\"hb\">בָּרֲכִ֥י אֶת־יְה֫וָ֥ה </span>|<span class=\"hb\">יְה֫וָ֥ה </span>|<span class=\"hb\">בָּרֲכִ֥י </span>\n",
       "10|<a href=\"https://shebanq.ancient-data.org/hebrew/text?book=Psalmi&chapter=104&verse=35&version=2017&mr=m&qw=q&tp=txt_p&tr=hb&wget=v&qget=v&nget=vt\" title=\"Psalms 104:35\">Psalms 104:35</a> <span class=\"hb\">יִתַּ֤מּוּ חַטָּאִ֨ים׀ מִן־הָאָ֡רֶץ וּרְשָׁעִ֤ים׀ עֹ֤וד אֵינָ֗ם בָּרֲכִ֣י נַ֭פְשִׁי אֶת־יְהוָ֗ה הַֽלְלוּ־יָֽהּ׃ </span>|<span class=\"hb\">בָּרֲכִ֣י אֶת־יְהוָ֗ה </span>|<span class=\"hb\">יְהוָ֗ה </span>|<span class=\"hb\">בָּרֲכִ֣י </span>"
      ],
      "text/plain": [
       "<IPython.core.display.Markdown object>"
      ]
     },
     "metadata": {},
     "output_type": "display_data"
    },
    {
     "name": "stdout",
     "output_type": "stream",
     "text": [
      "{'lexeme': 'חַגַּי', 'count': 8, 'expected': 0.1465174502559871, 'MI': 5.770855594755075}\n",
      "  1.21s 8 results\n"
     ]
    },
    {
     "data": {
      "text/markdown": [
       "n | verse | clause | word | word\n",
       "--- | --- | --- | --- | ---\n",
       "1|<a href=\"https://shebanq.ancient-data.org/hebrew/text?book=Haggai&chapter=1&verse=1&version=2017&mr=m&qw=q&tp=txt_p&tr=hb&wget=v&qget=v&nget=vt\" title=\"Haggai 1:1\">Haggai 1:1</a> <span class=\"hb\">בִּשְׁנַ֤ת שְׁתַּ֨יִם֙ לְדָרְיָ֣וֶשׁ הַמֶּ֔לֶךְ בַּחֹ֨דֶשׁ֙ הַשִּׁשִּׁ֔י בְּיֹ֥ום אֶחָ֖ד לַחֹ֑דֶשׁ הָיָ֨ה דְבַר־יְהוָ֜ה בְּיַד־חַגַּ֣י הַנָּבִ֗יא אֶל־זְרֻבָּבֶ֤ל בֶּן־שְׁאַלְתִּיאֵל֙ פַּחַ֣ת יְהוּדָ֔ה וְאֶל־יְהֹושֻׁ֧עַ בֶּן־יְהֹוצָדָ֛ק הַכֹּהֵ֥ן הַגָּדֹ֖ול לֵאמֹֽר׃ </span>|<span class=\"hb\">בִּשְׁנַ֤ת שְׁתַּ֨יִם֙ לְדָרְיָ֣וֶשׁ הַמֶּ֔לֶךְ בַּחֹ֨דֶשׁ֙ הַשִּׁשִּׁ֔י בְּיֹ֥ום אֶחָ֖ד לַחֹ֑דֶשׁ הָיָ֨ה דְבַר־יְהוָ֜ה בְּיַד־חַגַּ֣י הַנָּבִ֗יא אֶל־זְרֻבָּבֶ֤ל בֶּן־שְׁאַלְתִּיאֵל֙ פַּחַ֣ת יְהוּדָ֔ה וְאֶל־יְהֹושֻׁ֧עַ בֶּן־יְהֹוצָדָ֛ק הַכֹּהֵ֥ן הַגָּדֹ֖ול </span>|<span class=\"hb\">יְהוָ֜ה </span>|<span class=\"hb\">חַגַּ֣י </span>\n",
       "2|<a href=\"https://shebanq.ancient-data.org/hebrew/text?book=Haggai&chapter=1&verse=3&version=2017&mr=m&qw=q&tp=txt_p&tr=hb&wget=v&qget=v&nget=vt\" title=\"Haggai 1:3\">Haggai 1:3</a> <span class=\"hb\">וַֽיְהִי֙ דְּבַר־יְהוָ֔ה בְּיַד־חַגַּ֥י הַנָּבִ֖יא לֵאמֹֽר׃ </span>|<span class=\"hb\">וַֽיְהִי֙ דְּבַר־יְהוָ֔ה בְּיַד־חַגַּ֥י הַנָּבִ֖יא </span>|<span class=\"hb\">יְהוָ֔ה </span>|<span class=\"hb\">חַגַּ֥י </span>\n",
       "3|<a href=\"https://shebanq.ancient-data.org/hebrew/text?book=Haggai&chapter=1&verse=12&version=2017&mr=m&qw=q&tp=txt_p&tr=hb&wget=v&qget=v&nget=vt\" title=\"Haggai 1:12\">Haggai 1:12</a> <span class=\"hb\">וַיִּשְׁמַ֣ע זְרֻבָּבֶ֣ל׀ בֶּֽן־שַׁלְתִּיאֵ֡ל וִיהֹושֻׁ֣עַ בֶּן־יְהֹוצָדָק֩ הַכֹּהֵ֨ן הַגָּדֹ֜ול וְכֹ֣ל׀ שְׁאֵרִ֣ית הָעָ֗ם בְּקֹול֙ יְהוָ֣ה אֱלֹֽהֵיהֶ֔ם וְעַל־דִּבְרֵי֙ חַגַּ֣י הַנָּבִ֔יא כַּאֲשֶׁ֥ר שְׁלָחֹ֖ו יְהוָ֣ה אֱלֹהֵיהֶ֑ם וַיִּֽירְא֥וּ הָעָ֖ם מִפְּנֵ֥י יְהוָֽה׃ </span>|<span class=\"hb\">וַיִּשְׁמַ֣ע זְרֻבָּבֶ֣ל׀ בֶּֽן־שַׁלְתִּיאֵ֡ל וִיהֹושֻׁ֣עַ בֶּן־יְהֹוצָדָק֩ הַכֹּהֵ֨ן הַגָּדֹ֜ול וְכֹ֣ל׀ שְׁאֵרִ֣ית הָעָ֗ם בְּקֹול֙ יְהוָ֣ה אֱלֹֽהֵיהֶ֔ם וְעַל־דִּבְרֵי֙ חַגַּ֣י הַנָּבִ֔יא </span>|<span class=\"hb\">יְהוָ֣ה </span>|<span class=\"hb\">חַגַּ֣י </span>\n",
       "4|<a href=\"https://shebanq.ancient-data.org/hebrew/text?book=Haggai&chapter=1&verse=13&version=2017&mr=m&qw=q&tp=txt_p&tr=hb&wget=v&qget=v&nget=vt\" title=\"Haggai 1:13\">Haggai 1:13</a> <span class=\"hb\">וַ֠יֹּאמֶר חַגַּ֞י מַלְאַ֧ךְ יְהוָ֛ה בְּמַלְאֲכ֥וּת יְהוָ֖ה לָעָ֣ם לֵאמֹ֑ר אֲנִ֥י אִתְּכֶ֖ם נְאֻם־יְהוָֽה׃ </span>|<span class=\"hb\">וַ֠יֹּאמֶר חַגַּ֞י מַלְאַ֧ךְ יְהוָ֛ה בְּמַלְאֲכ֥וּת יְהוָ֖ה לָעָ֣ם </span>|<span class=\"hb\">יְהוָ֛ה </span>|<span class=\"hb\">חַגַּ֞י </span>\n",
       "5|<a href=\"https://shebanq.ancient-data.org/hebrew/text?book=Haggai&chapter=1&verse=13&version=2017&mr=m&qw=q&tp=txt_p&tr=hb&wget=v&qget=v&nget=vt\" title=\"Haggai 1:13\">Haggai 1:13</a> <span class=\"hb\">וַ֠יֹּאמֶר חַגַּ֞י מַלְאַ֧ךְ יְהוָ֛ה בְּמַלְאֲכ֥וּת יְהוָ֖ה לָעָ֣ם לֵאמֹ֑ר אֲנִ֥י אִתְּכֶ֖ם נְאֻם־יְהוָֽה׃ </span>|<span class=\"hb\">וַ֠יֹּאמֶר חַגַּ֞י מַלְאַ֧ךְ יְהוָ֛ה בְּמַלְאֲכ֥וּת יְהוָ֖ה לָעָ֣ם </span>|<span class=\"hb\">יְהוָ֖ה </span>|<span class=\"hb\">חַגַּ֞י </span>\n",
       "6|<a href=\"https://shebanq.ancient-data.org/hebrew/text?book=Haggai&chapter=2&verse=1&version=2017&mr=m&qw=q&tp=txt_p&tr=hb&wget=v&qget=v&nget=vt\" title=\"Haggai 2:1\">Haggai 2:1</a> <span class=\"hb\">בַּשְּׁבִיעִ֕י בְּעֶשְׂרִ֥ים וְאֶחָ֖ד לַחֹ֑דֶשׁ הָיָה֙ דְּבַר־יְהוָ֔ה בְּיַד־חַגַּ֥י הַנָּבִ֖יא לֵאמֹֽר׃ </span>|<span class=\"hb\">בַּשְּׁבִיעִ֕י בְּעֶשְׂרִ֥ים וְאֶחָ֖ד לַחֹ֑דֶשׁ הָיָה֙ דְּבַר־יְהוָ֔ה בְּיַד־חַגַּ֥י הַנָּבִ֖יא </span>|<span class=\"hb\">יְהוָ֔ה </span>|<span class=\"hb\">חַגַּ֥י </span>\n",
       "7|<a href=\"https://shebanq.ancient-data.org/hebrew/text?book=Haggai&chapter=2&verse=10&version=2017&mr=m&qw=q&tp=txt_p&tr=hb&wget=v&qget=v&nget=vt\" title=\"Haggai 2:10\">Haggai 2:10</a> <span class=\"hb\">בְּעֶשְׂרִ֤ים וְאַרְבָּעָה֙ לַתְּשִׁיעִ֔י בִּשְׁנַ֥ת שְׁתַּ֖יִם לְדָרְיָ֑וֶשׁ הָיָה֙ דְּבַר־יְהוָ֔ה אֶל־חַגַּ֥י הַנָּבִ֖יא לֵאמֹֽר׃ </span>|<span class=\"hb\">בְּעֶשְׂרִ֤ים וְאַרְבָּעָה֙ לַתְּשִׁיעִ֔י בִּשְׁנַ֥ת שְׁתַּ֖יִם לְדָרְיָ֑וֶשׁ הָיָה֙ דְּבַר־יְהוָ֔ה אֶל־חַגַּ֥י הַנָּבִ֖יא </span>|<span class=\"hb\">יְהוָ֔ה </span>|<span class=\"hb\">חַגַּ֥י </span>\n",
       "8|<a href=\"https://shebanq.ancient-data.org/hebrew/text?book=Haggai&chapter=2&verse=20&version=2017&mr=m&qw=q&tp=txt_p&tr=hb&wget=v&qget=v&nget=vt\" title=\"Haggai 2:20\">Haggai 2:20</a> <span class=\"hb\">וַיְהִ֨י דְבַר־יְהוָ֤ה׀ שֵׁנִית֙ אֶל־חַגַּ֔י בְּעֶשְׂרִ֧ים וְאַרְבָּעָ֛ה לַחֹ֖דֶשׁ לֵאמֹֽר׃ </span>|<span class=\"hb\">וַיְהִ֨י דְבַר־יְהוָ֤ה׀ שֵׁנִית֙ אֶל־חַגַּ֔י בְּעֶשְׂרִ֧ים וְאַרְבָּעָ֛ה לַחֹ֖דֶשׁ </span>|<span class=\"hb\">יְהוָ֤ה׀ </span>|<span class=\"hb\">חַגַּ֔י </span>"
      ],
      "text/plain": [
       "<IPython.core.display.Markdown object>"
      ]
     },
     "metadata": {},
     "output_type": "display_data"
    },
    {
     "name": "stdout",
     "output_type": "stream",
     "text": [
      "{'lexeme': 'גֹּף', 'count': 7, 'expected': 0.13319768205089735, 'MI': 5.715714040562614}\n",
      "  1.66s 7 results\n"
     ]
    },
    {
     "data": {
      "text/markdown": [
       "n | verse | clause | word | word\n",
       "--- | --- | --- | --- | ---\n",
       "1|<a href=\"https://shebanq.ancient-data.org/hebrew/text?book=Exodus&chapter=32&verse=35&version=2017&mr=m&qw=q&tp=txt_p&tr=hb&wget=v&qget=v&nget=vt\" title=\"Exodus 32:35\">Exodus 32:35</a> <span class=\"hb\">וַיִּגֹּ֥ף יְהוָ֖ה אֶת־הָעָ֑ם עַ֚ל אֲשֶׁ֣ר עָשׂ֣וּ אֶת־הָעֵ֔גֶל אֲשֶׁ֥ר עָשָׂ֖ה אַהֲרֹֽן׃ ס </span>|<span class=\"hb\">וַיִּגֹּ֥ף יְהוָ֖ה אֶת־הָעָ֑ם </span>|<span class=\"hb\">יְהוָ֖ה </span>|<span class=\"hb\">יִּגֹּ֥ף </span>\n",
       "2|<a href=\"https://shebanq.ancient-data.org/hebrew/text?book=Judices&chapter=20&verse=35&version=2017&mr=m&qw=q&tp=txt_p&tr=hb&wget=v&qget=v&nget=vt\" title=\"Judges 20:35\">Judges 20:35</a> <span class=\"hb\">וַיִּגֹּ֨ף יְהוָ֥ה׀ אֶֽת־בִּנְיָמִן֮ לִפְנֵ֣י יִשְׂרָאֵל֒ וַיַּשְׁחִיתוּ֩ בְנֵ֨י יִשְׂרָאֵ֤ל בְּבִנְיָמִן֙ בַּיֹּ֣ום הַה֔וּא עֶשְׂרִ֨ים וַחֲמִשָּׁ֥ה אֶ֛לֶף וּמֵאָ֖ה אִ֑ישׁ כָּל־אֵ֖לֶּה שֹׁ֥לֵף חָֽרֶב׃ </span>|<span class=\"hb\">וַיִּגֹּ֨ף יְהוָ֥ה׀ אֶֽת־בִּנְיָמִן֮ לִפְנֵ֣י יִשְׂרָאֵל֒ </span>|<span class=\"hb\">יְהוָ֥ה׀ </span>|<span class=\"hb\">יִּגֹּ֨ף </span>\n",
       "3|<a href=\"https://shebanq.ancient-data.org/hebrew/text?book=Samuel_I&chapter=25&verse=38&version=2017&mr=m&qw=q&tp=txt_p&tr=hb&wget=v&qget=v&nget=vt\" title=\"1_Samuel 25:38\">1_Samuel 25:38</a> <span class=\"hb\">וַיְהִ֖י כַּעֲשֶׂ֣רֶת הַיָּמִ֑ים וַיִּגֹּ֧ף יְהוָ֛ה אֶת־נָבָ֖ל וַיָּמֹֽת׃ </span>|<span class=\"hb\">וַיִּגֹּ֧ף יְהוָ֛ה אֶת־נָבָ֖ל </span>|<span class=\"hb\">יְהוָ֛ה </span>|<span class=\"hb\">יִּגֹּ֧ף </span>\n",
       "4|<a href=\"https://shebanq.ancient-data.org/hebrew/text?book=Samuel_II&chapter=12&verse=15&version=2017&mr=m&qw=q&tp=txt_p&tr=hb&wget=v&qget=v&nget=vt\" title=\"2_Samuel 12:15\">2_Samuel 12:15</a> <span class=\"hb\">וַיֵּ֥לֶךְ נָתָ֖ן אֶל־בֵּיתֹ֑ו וַיִּגֹּ֣ף יְהוָ֗ה אֶת־הַיֶּ֜לֶד אֲשֶׁ֨ר יָלְדָ֧ה אֵֽשֶׁת־אוּרִיָּ֛ה לְדָוִ֖ד וַיֵּאָנַֽשׁ׃ </span>|<span class=\"hb\">וַיִּגֹּ֣ף יְהוָ֗ה אֶת־הַיֶּ֜לֶד </span>|<span class=\"hb\">יְהוָ֗ה </span>|<span class=\"hb\">יִּגֹּ֣ף </span>\n",
       "5|<a href=\"https://shebanq.ancient-data.org/hebrew/text?book=Sacharia&chapter=14&verse=12&version=2017&mr=m&qw=q&tp=txt_p&tr=hb&wget=v&qget=v&nget=vt\" title=\"Zechariah 14:12\">Zechariah 14:12</a> <span class=\"hb\">וְזֹ֣את׀ תִּֽהְיֶ֣ה הַמַּגֵּפָ֗ה אֲשֶׁ֨ר יִגֹּ֤ף יְהוָה֙ אֶת־כָּל־הָ֣עַמִּ֔ים אֲשֶׁ֥ר צָבְא֖וּ עַל־יְרוּשָׁלִָ֑ם הָמֵ֣ק׀ בְּשָׂרֹ֗ו וְהוּא֙ עֹמֵ֣ד עַל־רַגְלָ֔יו וְעֵינָיו֙ תִּמַּ֣קְנָה בְחֹֽרֵיהֶ֔ן וּלְשֹׁונֹ֖ו תִּמַּ֥ק בְּפִיהֶֽם׃ </span>|<span class=\"hb\">אֲשֶׁ֨ר יִגֹּ֤ף יְהוָה֙ אֶת־כָּל־הָ֣עַמִּ֔ים </span>|<span class=\"hb\">יְהוָה֙ </span>|<span class=\"hb\">יִגֹּ֤ף </span>\n",
       "6|<a href=\"https://shebanq.ancient-data.org/hebrew/text?book=Sacharia&chapter=14&verse=18&version=2017&mr=m&qw=q&tp=txt_p&tr=hb&wget=v&qget=v&nget=vt\" title=\"Zechariah 14:18\">Zechariah 14:18</a> <span class=\"hb\">וְאִם־מִשְׁפַּ֨חַת מִצְרַ֧יִם לֹֽא־תַעֲלֶ֛ה וְלֹ֥א בָאָ֖ה וְלֹ֣א עֲלֵיהֶ֑ם תִּֽהְיֶ֣ה הַמַּגֵּפָ֗ה אֲשֶׁ֨ר יִגֹּ֤ף יְהוָה֙ אֶת־הַגֹּויִ֔ם אֲשֶׁר֙ לֹ֣א יַֽעֲל֔וּ לָחֹ֖ג אֶת־חַ֥ג הַסֻּכֹּֽות׃ </span>|<span class=\"hb\">אֲשֶׁ֨ר יִגֹּ֤ף יְהוָה֙ אֶת־הַגֹּויִ֔ם </span>|<span class=\"hb\">יְהוָה֙ </span>|<span class=\"hb\">יִגֹּ֤ף </span>\n",
       "7|<a href=\"https://shebanq.ancient-data.org/hebrew/text?book=Chronica_II&chapter=14&verse=11&version=2017&mr=m&qw=q&tp=txt_p&tr=hb&wget=v&qget=v&nget=vt\" title=\"2_Chronicles 14:11\">2_Chronicles 14:11</a> <span class=\"hb\">וַיִּגֹּ֤ף יְהוָה֙ אֶת־הַכּוּשִׁ֔ים לִפְנֵ֥י אָסָ֖א וְלִפְנֵ֣י יְהוּדָ֑ה וַיָּנֻ֖סוּ הַכּוּשִֽׁים׃ </span>|<span class=\"hb\">וַיִּגֹּ֤ף יְהוָה֙ אֶת־הַכּוּשִׁ֔ים לִפְנֵ֥י אָסָ֖א וְלִפְנֵ֣י יְהוּדָ֑ה </span>|<span class=\"hb\">יְהוָה֙ </span>|<span class=\"hb\">יִּגֹּ֤ף </span>"
      ],
      "text/plain": [
       "<IPython.core.display.Markdown object>"
      ]
     },
     "metadata": {},
     "output_type": "display_data"
    },
    {
     "name": "stdout",
     "output_type": "stream",
     "text": [
      "{'lexeme': 'צְבָא', 'count': 252, 'expected': 4.795116553832305, 'MI': 5.715714040562614}\n",
      "  1.55s 252 results\n"
     ]
    },
    {
     "data": {
      "text/markdown": [
       "n | verse | clause | word | word\n",
       "--- | --- | --- | --- | ---\n",
       "1|<a href=\"https://shebanq.ancient-data.org/hebrew/text?book=Josua&chapter=5&verse=14&version=2017&mr=m&qw=q&tp=txt_p&tr=hb&wget=v&qget=v&nget=vt\" title=\"Joshua 5:14\">Joshua 5:14</a> <span class=\"hb\">וַיֹּ֣אמֶר׀ לֹ֗א כִּ֛י אֲנִ֥י שַׂר־צְבָֽא־יְהוָ֖ה עַתָּ֣ה בָ֑אתִי וַיִּפֹּל֩ יְהֹושֻׁ֨עַ אֶל־פָּנָ֥יו אַ֨רְצָה֙ וַיִּשְׁתָּ֔חוּ וַיֹּ֣אמֶר לֹ֔ו מָ֥ה אֲדֹנִ֖י מְדַבֵּ֥ר אֶל־עַבְדֹּֽו׃ </span>|<span class=\"hb\">כִּ֛י אֲנִ֥י שַׂר־צְבָֽא־יְהוָ֖ה </span>|<span class=\"hb\">יְהוָ֖ה </span>|<span class=\"hb\">צְבָֽא־</span>\n",
       "2|<a href=\"https://shebanq.ancient-data.org/hebrew/text?book=Josua&chapter=5&verse=15&version=2017&mr=m&qw=q&tp=txt_p&tr=hb&wget=v&qget=v&nget=vt\" title=\"Joshua 5:15\">Joshua 5:15</a> <span class=\"hb\">וַיֹּאמֶר֩ שַׂר־צְבָ֨א יְהוָ֜ה אֶל־יְהֹושֻׁ֗עַ שַׁל־נַֽעַלְךָ֙ מֵעַ֣ל רַגְלֶ֔ךָ כִּ֣י הַמָּקֹ֗ום אֲשֶׁ֥ר אַתָּ֛ה עֹמֵ֥ד עָלָ֖יו קֹ֣דֶשׁ ה֑וּא וַיַּ֥עַשׂ יְהֹושֻׁ֖עַ כֵּֽן׃ </span>|<span class=\"hb\">וַיֹּאמֶר֩ שַׂר־צְבָ֨א יְהוָ֜ה אֶל־יְהֹושֻׁ֗עַ </span>|<span class=\"hb\">יְהוָ֜ה </span>|<span class=\"hb\">צְבָ֨א </span>\n",
       "3|<a href=\"https://shebanq.ancient-data.org/hebrew/text?book=Samuel_I&chapter=1&verse=11&version=2017&mr=m&qw=q&tp=txt_p&tr=hb&wget=v&qget=v&nget=vt\" title=\"1_Samuel 1:11\">1_Samuel 1:11</a> <span class=\"hb\">וַתִּדֹּ֨ר נֶ֜דֶר וַתֹּאמַ֗ר יְהוָ֨ה צְבָאֹ֜ות אִם־רָאֹ֥ה תִרְאֶ֣ה׀ בָּעֳנִ֣י אֲמָתֶ֗ךָ וּזְכַרְתַּ֨נִי֙ וְלֹֽא־תִשְׁכַּ֣ח אֶת־אֲמָתֶ֔ךָ וְנָתַתָּ֥ה לַאֲמָתְךָ֖ זֶ֣רַע אֲנָשִׁ֑ים וּנְתַתִּ֤יו לַֽיהוָה֙ כָּל־יְמֵ֣י חַיָּ֔יו וּמֹורָ֖ה לֹא־יַעֲלֶ֥ה עַל־רֹאשֹֽׁו׃ </span>|<span class=\"hb\">יְהוָ֨ה צְבָאֹ֜ות </span>|<span class=\"hb\">יְהוָ֨ה </span>|<span class=\"hb\">צְבָאֹ֜ות </span>\n",
       "4|<a href=\"https://shebanq.ancient-data.org/hebrew/text?book=Samuel_I&chapter=4&verse=4&version=2017&mr=m&qw=q&tp=txt_p&tr=hb&wget=v&qget=v&nget=vt\" title=\"1_Samuel 4:4\">1_Samuel 4:4</a> <span class=\"hb\">וַיִּשְׁלַ֤ח הָעָם֙ שִׁלֹ֔ה וַיִּשְׂא֣וּ מִשָּׁ֗ם אֵ֣ת אֲרֹ֧ון בְּרִית־יְהוָ֛ה צְבָאֹ֖ות יֹשֵׁ֣ב הַכְּרֻבִ֑ים וְשָׁ֞ם שְׁנֵ֣י בְנֵֽי־עֵלִ֗י עִם־אֲרֹון֙ בְּרִ֣ית הָאֱלֹהִ֔ים חָפְנִ֖י וּפִֽינְחָֽס׃ </span>|<span class=\"hb\">וַיִּשְׂא֣וּ מִשָּׁ֗ם אֵ֣ת אֲרֹ֧ון בְּרִית־יְהוָ֛ה צְבָאֹ֖ות </span>|<span class=\"hb\">יְהוָ֛ה </span>|<span class=\"hb\">צְבָאֹ֖ות </span>\n",
       "5|<a href=\"https://shebanq.ancient-data.org/hebrew/text?book=Samuel_I&chapter=15&verse=2&version=2017&mr=m&qw=q&tp=txt_p&tr=hb&wget=v&qget=v&nget=vt\" title=\"1_Samuel 15:2\">1_Samuel 15:2</a> <span class=\"hb\">כֹּ֤ה אָמַר֙ יְהוָ֣ה צְבָאֹ֔ות פָּקַ֕דְתִּי אֵ֛ת אֲשֶׁר־עָשָׂ֥ה עֲמָלֵ֖ק לְיִשְׂרָאֵ֑ל אֲשֶׁר־שָׂ֥ם לֹו֙ בַּדֶּ֔רֶךְ בַּעֲלֹתֹ֖ו מִמִּצְרָֽיִם׃ </span>|<span class=\"hb\">כֹּ֤ה אָמַר֙ יְהוָ֣ה צְבָאֹ֔ות </span>|<span class=\"hb\">יְהוָ֣ה </span>|<span class=\"hb\">צְבָאֹ֔ות </span>\n",
       "6|<a href=\"https://shebanq.ancient-data.org/hebrew/text?book=Samuel_I&chapter=17&verse=45&version=2017&mr=m&qw=q&tp=txt_p&tr=hb&wget=v&qget=v&nget=vt\" title=\"1_Samuel 17:45\">1_Samuel 17:45</a> <span class=\"hb\">וַיֹּ֤אמֶר דָּוִד֙ אֶל־הַפְּלִשְׁתִּ֔י אַתָּה֙ בָּ֣א אֵלַ֔י בְּחֶ֖רֶב וּבַחֲנִ֣ית וּבְכִידֹ֑ון וְאָנֹכִ֣י בָֽא־אֵלֶ֗יךָ בְּשֵׁם֙ יְהוָ֣ה צְבָאֹ֔ות אֱלֹהֵ֛י מַעַרְכֹ֥ות יִשְׂרָאֵ֖ל אֲשֶׁ֥ר חֵרַֽפְתָּ׃ </span>|<span class=\"hb\">וְאָנֹכִ֣י בָֽא־אֵלֶ֗יךָ בְּשֵׁם֙ יְהוָ֣ה צְבָאֹ֔ות אֱלֹהֵ֛י מַעַרְכֹ֥ות יִשְׂרָאֵ֖ל </span>|<span class=\"hb\">יְהוָ֣ה </span>|<span class=\"hb\">צְבָאֹ֔ות </span>\n",
       "7|<a href=\"https://shebanq.ancient-data.org/hebrew/text?book=Samuel_II&chapter=6&verse=2&version=2017&mr=m&qw=q&tp=txt_p&tr=hb&wget=v&qget=v&nget=vt\" title=\"2_Samuel 6:2\">2_Samuel 6:2</a> <span class=\"hb\">וַיָּ֣קָם׀ וַיֵּ֣לֶךְ דָּוִ֗ד וְכָל־הָעָם֙ אֲשֶׁ֣ר אִתֹּ֔ו מִֽבַּעֲלֵ֖י יְהוּדָ֑ה לְהַעֲלֹ֣ות מִשָּׁ֗ם אֵ֚ת אֲרֹ֣ון הָאֱלֹהִ֔ים אֲשֶׁר־נִקְרָ֣א שֵׁ֗ם שֵׁ֣ם יְהוָ֧ה צְבָאֹ֛ות יֹשֵׁ֥ב הַכְּרֻבִ֖ים עָלָֽיו׃ </span>|<span class=\"hb\">אֲשֶׁר־נִקְרָ֣א שֵׁ֗ם שֵׁ֣ם יְהוָ֧ה צְבָאֹ֛ות עָלָֽיו׃ </span>|<span class=\"hb\">יְהוָ֧ה </span>|<span class=\"hb\">צְבָאֹ֛ות </span>\n",
       "8|<a href=\"https://shebanq.ancient-data.org/hebrew/text?book=Samuel_II&chapter=6&verse=18&version=2017&mr=m&qw=q&tp=txt_p&tr=hb&wget=v&qget=v&nget=vt\" title=\"2_Samuel 6:18\">2_Samuel 6:18</a> <span class=\"hb\">וַיְכַ֣ל דָּוִ֔ד מֵהַעֲלֹ֥ות הָעֹולָ֖ה וְהַשְּׁלָמִ֑ים וַיְבָ֣רֶךְ אֶת־הָעָ֔ם בְּשֵׁ֖ם יְהוָ֥ה צְבָאֹֽות׃ </span>|<span class=\"hb\">וַיְבָ֣רֶךְ אֶת־הָעָ֔ם בְּשֵׁ֖ם יְהוָ֥ה צְבָאֹֽות׃ </span>|<span class=\"hb\">יְהוָ֥ה </span>|<span class=\"hb\">צְבָאֹֽות׃ </span>\n",
       "9|<a href=\"https://shebanq.ancient-data.org/hebrew/text?book=Samuel_II&chapter=7&verse=8&version=2017&mr=m&qw=q&tp=txt_p&tr=hb&wget=v&qget=v&nget=vt\" title=\"2_Samuel 7:8\">2_Samuel 7:8</a> <span class=\"hb\">וְ֠עַתָּה כֹּֽה־תֹאמַ֞ר לְעַבְדִּ֣י לְדָוִ֗ד כֹּ֤ה אָמַר֙ יְהוָ֣ה צְבָאֹ֔ות אֲנִ֤י לְקַחְתִּ֨יךָ֙ מִן־הַנָּוֶ֔ה מֵאַחַ֖ר הַצֹּ֑אן לִֽהְיֹ֣ות נָגִ֔יד עַל־עַמִּ֖י עַל־יִשְׂרָאֵֽל׃ </span>|<span class=\"hb\">כֹּ֤ה אָמַר֙ יְהוָ֣ה צְבָאֹ֔ות </span>|<span class=\"hb\">יְהוָ֣ה </span>|<span class=\"hb\">צְבָאֹ֔ות </span>\n",
       "10|<a href=\"https://shebanq.ancient-data.org/hebrew/text?book=Samuel_II&chapter=7&verse=26&version=2017&mr=m&qw=q&tp=txt_p&tr=hb&wget=v&qget=v&nget=vt\" title=\"2_Samuel 7:26\">2_Samuel 7:26</a> <span class=\"hb\">וְיִגְדַּ֨ל שִׁמְךָ֤ עַד־עֹולָם֙ לֵאמֹ֔ר יְהוָ֣ה צְבָאֹ֔ות אֱלֹהִ֖ים עַל־יִשְׂרָאֵ֑ל וּבֵית֙ עַבְדְּךָ֣ דָוִ֔ד יִהְיֶ֥ה נָכֹ֖ון לְפָנֶֽיךָ׃ </span>|<span class=\"hb\">יְהוָ֣ה צְבָאֹ֔ות אֱלֹהִ֖ים עַל־יִשְׂרָאֵ֑ל </span>|<span class=\"hb\">יְהוָ֣ה </span>|<span class=\"hb\">צְבָאֹ֔ות </span>"
      ],
      "text/plain": [
       "<IPython.core.display.Markdown object>"
      ]
     },
     "metadata": {},
     "output_type": "display_data"
    },
    {
     "name": "stdout",
     "output_type": "stream",
     "text": [
      "{'lexeme': 'נְאֻם', 'count': 260, 'expected': 4.994913076908651, 'MI': 5.701908241037583}\n",
      "  1.28s 260 results\n"
     ]
    },
    {
     "data": {
      "text/markdown": [
       "n | verse | clause | word | word\n",
       "--- | --- | --- | --- | ---\n",
       "1|<a href=\"https://shebanq.ancient-data.org/hebrew/text?book=Genesis&chapter=22&verse=16&version=2017&mr=m&qw=q&tp=txt_p&tr=hb&wget=v&qget=v&nget=vt\" title=\"Genesis 22:16\">Genesis 22:16</a> <span class=\"hb\">וַיֹּ֕אמֶר בִּ֥י נִשְׁבַּ֖עְתִּי נְאֻם־יְהוָ֑ה כִּ֗י יַ֚עַן אֲשֶׁ֤ר עָשִׂ֨יתָ֙ אֶת־הַדָּבָ֣ר הַזֶּ֔ה וְלֹ֥א חָשַׂ֖כְתָּ אֶת־בִּנְךָ֥ אֶת־יְחִידֶֽךָ׃ </span>|<span class=\"hb\">נְאֻם־יְהוָ֑ה </span>|<span class=\"hb\">יְהוָ֑ה </span>|<span class=\"hb\">נְאֻם־</span>\n",
       "2|<a href=\"https://shebanq.ancient-data.org/hebrew/text?book=Numeri&chapter=14&verse=28&version=2017&mr=m&qw=q&tp=txt_p&tr=hb&wget=v&qget=v&nget=vt\" title=\"Numbers 14:28\">Numbers 14:28</a> <span class=\"hb\">אֱמֹ֣ר אֲלֵהֶ֗ם חַי־אָ֨נִי֙ נְאֻם־יְהוָ֔ה אִם־לֹ֕א כַּאֲשֶׁ֥ר דִּבַּרְתֶּ֖ם בְּאָזְנָ֑י כֵּ֖ן אֶֽעֱשֶׂ֥ה לָכֶֽם׃ </span>|<span class=\"hb\">נְאֻם־יְהוָ֔ה </span>|<span class=\"hb\">יְהוָ֔ה </span>|<span class=\"hb\">נְאֻם־</span>\n",
       "3|<a href=\"https://shebanq.ancient-data.org/hebrew/text?book=Samuel_I&chapter=2&verse=30&version=2017&mr=m&qw=q&tp=txt_p&tr=hb&wget=v&qget=v&nget=vt\" title=\"1_Samuel 2:30\">1_Samuel 2:30</a> <span class=\"hb\">לָכֵ֗ן נְאֻם־יְהוָה֮ אֱלֹהֵ֣י יִשְׂרָאֵל֒ אָמֹ֣ור אָמַ֔רְתִּי בֵּֽיתְךָ֙ וּבֵ֣ית אָבִ֔יךָ יִתְהַלְּכ֥וּ לְפָנַ֖י עַד־עֹולָ֑ם וְעַתָּ֤ה נְאֻם־יְהוָה֙ חָלִ֣ילָה לִּ֔י כִּֽי־מְכַבְּדַ֥י אֲכַבֵּ֖ד וּבֹזַ֥י יֵקָֽלּוּ׃ </span>|<span class=\"hb\">לָכֵ֗ן נְאֻם־יְהוָה֮ אֱלֹהֵ֣י יִשְׂרָאֵל֒ </span>|<span class=\"hb\">יְהוָה֮ </span>|<span class=\"hb\">נְאֻם־</span>\n",
       "4|<a href=\"https://shebanq.ancient-data.org/hebrew/text?book=Samuel_I&chapter=2&verse=30&version=2017&mr=m&qw=q&tp=txt_p&tr=hb&wget=v&qget=v&nget=vt\" title=\"1_Samuel 2:30\">1_Samuel 2:30</a> <span class=\"hb\">לָכֵ֗ן נְאֻם־יְהוָה֮ אֱלֹהֵ֣י יִשְׂרָאֵל֒ אָמֹ֣ור אָמַ֔רְתִּי בֵּֽיתְךָ֙ וּבֵ֣ית אָבִ֔יךָ יִתְהַלְּכ֥וּ לְפָנַ֖י עַד־עֹולָ֑ם וְעַתָּ֤ה נְאֻם־יְהוָה֙ חָלִ֣ילָה לִּ֔י כִּֽי־מְכַבְּדַ֥י אֲכַבֵּ֖ד וּבֹזַ֥י יֵקָֽלּוּ׃ </span>|<span class=\"hb\">וְעַתָּ֤ה נְאֻם־יְהוָה֙ </span>|<span class=\"hb\">יְהוָה֙ </span>|<span class=\"hb\">נְאֻם־</span>\n",
       "5|<a href=\"https://shebanq.ancient-data.org/hebrew/text?book=Reges_II&chapter=9&verse=26&version=2017&mr=m&qw=q&tp=txt_p&tr=hb&wget=v&qget=v&nget=vt\" title=\"2_Kings 9:26\">2_Kings 9:26</a> <span class=\"hb\">אִם־לֹ֡א אֶת־דְּמֵ֣י נָבֹות֩ וְאֶת־דְּמֵ֨י בָנָ֜יו רָאִ֤יתִי אֶ֨מֶשׁ֙ נְאֻם־יְהוָ֔ה וְשִׁלַּמְתִּ֥י לְךָ֛ בַּחֶלְקָ֥ה הַזֹּ֖את נְאֻם־יְהוָ֑ה וְעַתָּ֗ה שָׂ֧א הַשְׁלִכֵ֛הוּ בַּחֶלְקָ֖ה כִּדְבַ֥ר יְהוָֽה׃ </span>|<span class=\"hb\">נְאֻם־יְהוָ֔ה </span>|<span class=\"hb\">יְהוָ֔ה </span>|<span class=\"hb\">נְאֻם־</span>\n",
       "6|<a href=\"https://shebanq.ancient-data.org/hebrew/text?book=Reges_II&chapter=9&verse=26&version=2017&mr=m&qw=q&tp=txt_p&tr=hb&wget=v&qget=v&nget=vt\" title=\"2_Kings 9:26\">2_Kings 9:26</a> <span class=\"hb\">אִם־לֹ֡א אֶת־דְּמֵ֣י נָבֹות֩ וְאֶת־דְּמֵ֨י בָנָ֜יו רָאִ֤יתִי אֶ֨מֶשׁ֙ נְאֻם־יְהוָ֔ה וְשִׁלַּמְתִּ֥י לְךָ֛ בַּחֶלְקָ֥ה הַזֹּ֖את נְאֻם־יְהוָ֑ה וְעַתָּ֗ה שָׂ֧א הַשְׁלִכֵ֛הוּ בַּחֶלְקָ֖ה כִּדְבַ֥ר יְהוָֽה׃ </span>|<span class=\"hb\">נְאֻם־יְהוָ֑ה </span>|<span class=\"hb\">יְהוָ֑ה </span>|<span class=\"hb\">נְאֻם־</span>\n",
       "7|<a href=\"https://shebanq.ancient-data.org/hebrew/text?book=Reges_II&chapter=19&verse=33&version=2017&mr=m&qw=q&tp=txt_p&tr=hb&wget=v&qget=v&nget=vt\" title=\"2_Kings 19:33\">2_Kings 19:33</a> <span class=\"hb\">בַּדֶּ֥רֶךְ אֲשֶׁר־יָבֹ֖א בָּ֣הּ יָשׁ֑וּב וְאֶל־הָעִ֥יר הַזֹּ֛את לֹ֥א יָבֹ֖א נְאֻם־יְהוָֽה׃ </span>|<span class=\"hb\">נְאֻם־יְהוָֽה׃ </span>|<span class=\"hb\">יְהוָֽה׃ </span>|<span class=\"hb\">נְאֻם־</span>\n",
       "8|<a href=\"https://shebanq.ancient-data.org/hebrew/text?book=Reges_II&chapter=22&verse=19&version=2017&mr=m&qw=q&tp=txt_p&tr=hb&wget=v&qget=v&nget=vt\" title=\"2_Kings 22:19\">2_Kings 22:19</a> <span class=\"hb\">יַ֠עַן רַךְ־לְבָ֨בְךָ֜ וַתִּכָּנַ֣ע׀ מִפְּנֵ֣י יְהוָ֗ה בְּֽשָׁמְעֲךָ֡ אֲשֶׁ֣ר דִּבַּרְתִּי֩ עַל־הַמָּקֹ֨ום הַזֶּ֜ה וְעַל־יֹשְׁבָ֗יו לִהְיֹ֤ות לְשַׁמָּה֙ וְלִקְלָלָ֔ה וַתִּקְרַע֙ אֶת־בְּגָדֶ֔יךָ וַתִּבְכֶּ֖ה לְפָנָ֑י וְגַ֧ם אָנֹכִ֛י שָׁמַ֖עְתִּי נְאֻם־יְהוָֽה׃ </span>|<span class=\"hb\">נְאֻם־יְהוָֽה׃ </span>|<span class=\"hb\">יְהוָֽה׃ </span>|<span class=\"hb\">נְאֻם־</span>\n",
       "9|<a href=\"https://shebanq.ancient-data.org/hebrew/text?book=Jesaia&chapter=1&verse=24&version=2017&mr=m&qw=q&tp=txt_p&tr=hb&wget=v&qget=v&nget=vt\" title=\"Isaiah 1:24\">Isaiah 1:24</a> <span class=\"hb\">לָכֵ֗ן נְאֻ֤ם הָֽאָדֹון֙ יְהוָ֣ה צְבָאֹ֔ות אֲבִ֖יר יִשְׂרָאֵ֑ל הֹ֚וי אֶנָּחֵ֣ם מִצָּרַ֔י וְאִנָּקְמָ֖ה מֵאֹויְבָֽי׃ </span>|<span class=\"hb\">לָכֵ֗ן נְאֻ֤ם הָֽאָדֹון֙ יְהוָ֣ה צְבָאֹ֔ות אֲבִ֖יר יִשְׂרָאֵ֑ל </span>|<span class=\"hb\">יְהוָ֣ה </span>|<span class=\"hb\">נְאֻ֤ם </span>\n",
       "10|<a href=\"https://shebanq.ancient-data.org/hebrew/text?book=Jesaia&chapter=14&verse=22&version=2017&mr=m&qw=q&tp=txt_p&tr=hb&wget=v&qget=v&nget=vt\" title=\"Isaiah 14:22\">Isaiah 14:22</a> <span class=\"hb\">וְקַמְתִּ֣י עֲלֵיהֶ֔ם נְאֻ֖ם יְהוָ֣ה צְבָאֹ֑ות וְהִכְרַתִּ֨י לְבָבֶ֜ל שֵׁ֥ם וּשְׁאָ֛ר וְנִ֥ין וָנֶ֖כֶד נְאֻם־יְהוָֽה׃ </span>|<span class=\"hb\">נְאֻ֖ם יְהוָ֣ה צְבָאֹ֑ות </span>|<span class=\"hb\">יְהוָ֣ה </span>|<span class=\"hb\">נְאֻ֖ם </span>"
      ],
      "text/plain": [
       "<IPython.core.display.Markdown object>"
      ]
     },
     "metadata": {},
     "output_type": "display_data"
    },
    {
     "name": "stdout",
     "output_type": "stream",
     "text": [
      "{'lexeme': 'נִיחַ', 'count': 11, 'expected': 0.21311629128143578, 'MI': 5.689718832029669}\n",
      "  1.29s 11 results\n"
     ]
    },
    {
     "data": {
      "text/markdown": [
       "n | verse | clause | word | word\n",
       "--- | --- | --- | --- | ---\n",
       "1|<a href=\"https://shebanq.ancient-data.org/hebrew/text?book=Deuteronomium&chapter=3&verse=20&version=2017&mr=m&qw=q&tp=txt_p&tr=hb&wget=v&qget=v&nget=vt\" title=\"Deuteronomy 3:20\">Deuteronomy 3:20</a> <span class=\"hb\">עַ֠ד אֲשֶׁר־יָנִ֨יחַ יְהוָ֥ה׀ לַֽאֲחֵיכֶם֮ כָּכֶם֒ וְיָרְשׁ֣וּ גַם־הֵ֔ם אֶת־הָאָ֕רֶץ אֲשֶׁ֨ר יְהוָ֧ה אֱלֹהֵיכֶ֛ם נֹתֵ֥ן לָהֶ֖ם בְּעֵ֣בֶר הַיַּרְדֵּ֑ן וְשַׁבְתֶּ֗ם אִ֚ישׁ לִֽירֻשָּׁתֹ֔ו אֲשֶׁ֥ר נָתַ֖תִּי לָכֶֽם׃ </span>|<span class=\"hb\">עַ֠ד אֲשֶׁר־יָנִ֨יחַ יְהוָ֥ה׀ לַֽאֲחֵיכֶם֮ כָּכֶם֒ </span>|<span class=\"hb\">יְהוָ֥ה׀ </span>|<span class=\"hb\">יָנִ֨יחַ </span>\n",
       "2|<a href=\"https://shebanq.ancient-data.org/hebrew/text?book=Deuteronomium&chapter=25&verse=19&version=2017&mr=m&qw=q&tp=txt_p&tr=hb&wget=v&qget=v&nget=vt\" title=\"Deuteronomy 25:19\">Deuteronomy 25:19</a> <span class=\"hb\">וְהָיָ֡ה בְּהָנִ֣יחַ יְהוָ֣ה אֱלֹהֶ֣יךָ׀ לְ֠ךָ מִכָּל־אֹ֨יְבֶ֜יךָ מִסָּבִ֗יב בָּאָ֨רֶץ֙ אֲשֶׁ֣ר יְהוָֽה־אֱ֠לֹהֶיךָ נֹתֵ֨ן לְךָ֤ נַחֲלָה֙ לְרִשְׁתָּ֔הּ תִּמְחֶה֙ אֶת־זֵ֣כֶר עֲמָלֵ֔ק מִתַּ֖חַת הַשָּׁמָ֑יִם לֹ֖א תִּשְׁכָּֽח׃ פ </span>|<span class=\"hb\">בְּהָנִ֣יחַ יְהוָ֣ה אֱלֹהֶ֣יךָ׀ לְ֠ךָ מִכָּל־אֹ֨יְבֶ֜יךָ מִסָּבִ֗יב בָּאָ֨רֶץ֙ </span>|<span class=\"hb\">יְהוָ֣ה </span>|<span class=\"hb\">הָנִ֣יחַ </span>\n",
       "3|<a href=\"https://shebanq.ancient-data.org/hebrew/text?book=Josua&chapter=1&verse=13&version=2017&mr=m&qw=q&tp=txt_p&tr=hb&wget=v&qget=v&nget=vt\" title=\"Joshua 1:13\">Joshua 1:13</a> <span class=\"hb\">זָכֹור֙ אֶת־הַדָּבָ֔ר אֲשֶׁ֨ר צִוָּ֥ה אֶתְכֶ֛ם מֹשֶׁ֥ה עֶֽבֶד־יְהוָ֖ה לֵאמֹ֑ר יְהוָ֤ה אֱלֹהֵיכֶם֙ מֵנִ֣יחַ לָכֶ֔ם וְנָתַ֥ן לָכֶ֖ם אֶת־הָאָ֥רֶץ הַזֹּֽאת׃ </span>|<span class=\"hb\">יְהוָ֤ה אֱלֹהֵיכֶם֙ מֵנִ֣יחַ לָכֶ֔ם </span>|<span class=\"hb\">יְהוָ֤ה </span>|<span class=\"hb\">מֵנִ֣יחַ </span>\n",
       "4|<a href=\"https://shebanq.ancient-data.org/hebrew/text?book=Josua&chapter=1&verse=15&version=2017&mr=m&qw=q&tp=txt_p&tr=hb&wget=v&qget=v&nget=vt\" title=\"Joshua 1:15\">Joshua 1:15</a> <span class=\"hb\">עַ֠ד אֲשֶׁר־יָנִ֨יחַ יְהוָ֥ה׀ לַֽאֲחֵיכֶם֮ כָּכֶם֒ וְיָרְשׁ֣וּ גַם־הֵ֔מָּה אֶת־הָאָ֕רֶץ אֲשֶׁר־יְהוָ֥ה אֱלֹֽהֵיכֶ֖ם נֹתֵ֣ן לָהֶ֑ם וְשַׁבְתֶּ֞ם לְאֶ֤רֶץ יְרֻשַּׁתְכֶם֙ וִֽירִשְׁתֶּ֣ם אֹותָ֔הּ אֲשֶׁ֣ר׀ נָתַ֣ן לָכֶ֗ם מֹשֶׁה֙ עֶ֣בֶד יְהוָ֔ה בְּעֵ֥בֶר הַיַּרְדֵּ֖ן מִזְרַ֥ח הַשָּֽׁמֶשׁ׃ </span>|<span class=\"hb\">עַ֠ד אֲשֶׁר־יָנִ֨יחַ יְהוָ֥ה׀ לַֽאֲחֵיכֶם֮ כָּכֶם֒ </span>|<span class=\"hb\">יְהוָ֥ה׀ </span>|<span class=\"hb\">יָנִ֨יחַ </span>\n",
       "5|<a href=\"https://shebanq.ancient-data.org/hebrew/text?book=Josua&chapter=22&verse=4&version=2017&mr=m&qw=q&tp=txt_p&tr=hb&wget=v&qget=v&nget=vt\" title=\"Joshua 22:4\">Joshua 22:4</a> <span class=\"hb\">וְעַתָּ֗ה הֵנִ֨יחַ יְהוָ֤ה אֱלֹֽהֵיכֶם֙ לַֽאֲחֵיכֶ֔ם כַּאֲשֶׁ֖ר דִּבֶּ֣ר לָהֶ֑ם וְעַתָּ֡ה פְּנוּ֩ וּלְכ֨וּ לָכֶ֜ם לְאָהֳלֵיכֶ֗ם אֶל־אֶ֨רֶץ֙ אֲחֻזַּתְכֶ֔ם אֲשֶׁ֣ר׀ נָתַ֣ן לָכֶ֗ם מֹשֶׁה֙ עֶ֣בֶד יְהוָ֔ה בְּעֵ֖בֶר הַיַּרְדֵּֽן׃ </span>|<span class=\"hb\">וְעַתָּ֗ה הֵנִ֨יחַ יְהוָ֤ה אֱלֹֽהֵיכֶם֙ לַֽאֲחֵיכֶ֔ם </span>|<span class=\"hb\">יְהוָ֤ה </span>|<span class=\"hb\">הֵנִ֨יחַ </span>\n",
       "6|<a href=\"https://shebanq.ancient-data.org/hebrew/text?book=Josua&chapter=23&verse=1&version=2017&mr=m&qw=q&tp=txt_p&tr=hb&wget=v&qget=v&nget=vt\" title=\"Joshua 23:1\">Joshua 23:1</a> <span class=\"hb\">וַֽיְהִי֙ מִיָּמִ֣ים רַבִּ֔ים אַ֠חֲרֵי אֲשֶׁר־הֵנִ֨יחַ יְהוָ֧ה לְיִשְׂרָאֵ֛ל מִכָּל־אֹיְבֵיהֶ֖ם מִסָּבִ֑יב וִיהֹושֻׁ֣עַ זָקֵ֔ן בָּ֖א בַּיָּמִֽים׃ </span>|<span class=\"hb\">אַ֠חֲרֵי אֲשֶׁר־הֵנִ֨יחַ יְהוָ֧ה לְיִשְׂרָאֵ֛ל מִכָּל־אֹיְבֵיהֶ֖ם מִסָּבִ֑יב </span>|<span class=\"hb\">יְהוָ֧ה </span>|<span class=\"hb\">הֵנִ֨יחַ </span>\n",
       "7|<a href=\"https://shebanq.ancient-data.org/hebrew/text?book=Reges_I&chapter=5&verse=18&version=2017&mr=m&qw=q&tp=txt_p&tr=hb&wget=v&qget=v&nget=vt\" title=\"1_Kings 5:18\">1_Kings 5:18</a> <span class=\"hb\">וְעַתָּ֕ה הֵנִ֨יחַ יְהוָ֧ה אֱלֹהַ֛י לִ֖י מִסָּבִ֑יב אֵ֣ין שָׂטָ֔ן וְאֵ֖ין פֶּ֥גַע רָֽע׃ </span>|<span class=\"hb\">וְעַתָּ֕ה הֵנִ֨יחַ יְהוָ֧ה אֱלֹהַ֛י לִ֖י מִסָּבִ֑יב </span>|<span class=\"hb\">יְהוָ֧ה </span>|<span class=\"hb\">הֵנִ֨יחַ </span>\n",
       "8|<a href=\"https://shebanq.ancient-data.org/hebrew/text?book=Jesaia&chapter=14&verse=3&version=2017&mr=m&qw=q&tp=txt_p&tr=hb&wget=v&qget=v&nget=vt\" title=\"Isaiah 14:3\">Isaiah 14:3</a> <span class=\"hb\">וְהָיָ֗ה בְּיֹ֨ום הָנִ֤יחַ יְהוָה֙ לְךָ֔ מֵֽעָצְבְּךָ֖ וּמֵרָגְזֶ֑ךָ וּמִן־הָעֲבֹדָ֥ה הַקָּשָׁ֖ה אֲשֶׁ֥ר עֻבַּד־בָּֽךְ׃ </span>|<span class=\"hb\">הָנִ֤יחַ יְהוָה֙ לְךָ֔ מֵֽעָצְבְּךָ֖ וּמֵרָגְזֶ֑ךָ וּמִן־הָעֲבֹדָ֥ה הַקָּשָׁ֖ה </span>|<span class=\"hb\">יְהוָה֙ </span>|<span class=\"hb\">הָנִ֤יחַ </span>\n",
       "9|<a href=\"https://shebanq.ancient-data.org/hebrew/text?book=Jesaia&chapter=30&verse=32&version=2017&mr=m&qw=q&tp=txt_p&tr=hb&wget=v&qget=v&nget=vt\" title=\"Isaiah 30:32\">Isaiah 30:32</a> <span class=\"hb\">וְהָיָ֗ה כֹּ֤ל מַֽעֲבַר֙ מַטֵּ֣ה מֽוּסָדָ֔ה אֲשֶׁ֨ר יָנִ֤יחַ יְהוָה֙ עָלָ֔יו בְּתֻפִּ֖ים וּבְכִנֹּרֹ֑ות וּבְמִלְחֲמֹ֥ות תְּנוּפָ֖ה נִלְחַם־בָּֽם׃</span>|<span class=\"hb\">אֲשֶׁ֨ר יָנִ֤יחַ יְהוָה֙ עָלָ֔יו </span>|<span class=\"hb\">יְהוָה֙ </span>|<span class=\"hb\">יָנִ֤יחַ </span>\n",
       "10|<a href=\"https://shebanq.ancient-data.org/hebrew/text?book=Chronica_I&chapter=23&verse=25&version=2017&mr=m&qw=q&tp=txt_p&tr=hb&wget=v&qget=v&nget=vt\" title=\"1_Chronicles 23:25\">1_Chronicles 23:25</a> <span class=\"hb\">כִּ֚י אָמַ֣ר דָּוִ֔יד הֵנִ֛יחַ יְהוָ֥ה אֱלֹהֵֽי־יִשְׂרָאֵ֖ל לְעַמֹּ֑ו וַיִּשְׁכֹּ֥ן בִּירוּשָׁלִַ֖ם עַד־לְעֹולָֽם׃ </span>|<span class=\"hb\">הֵנִ֛יחַ יְהוָ֥ה אֱלֹהֵֽי־יִשְׂרָאֵ֖ל לְעַמֹּ֑ו </span>|<span class=\"hb\">יְהוָ֥ה </span>|<span class=\"hb\">הֵנִ֛יחַ </span>"
      ],
      "text/plain": [
       "<IPython.core.display.Markdown object>"
      ]
     },
     "metadata": {},
     "output_type": "display_data"
    },
    {
     "name": "stdout",
     "output_type": "stream",
     "text": [
      "{'lexeme': 'צִוָּה', 'count': 135, 'expected': 2.6506338728128576, 'MI': 5.670478189899554}\n",
      "  1.19s 135 results\n"
     ]
    },
    {
     "data": {
      "text/markdown": [
       "n | verse | clause | word | word\n",
       "--- | --- | --- | --- | ---\n",
       "1|<a href=\"https://shebanq.ancient-data.org/hebrew/text?book=Exodus&chapter=7&verse=6&version=2017&mr=m&qw=q&tp=txt_p&tr=hb&wget=v&qget=v&nget=vt\" title=\"Exodus 7:6\">Exodus 7:6</a> <span class=\"hb\">וַיַּ֥עַשׂ מֹשֶׁ֖ה וְאַהֲרֹ֑ן כַּאֲשֶׁ֨ר צִוָּ֧ה יְהוָ֛ה אֹתָ֖ם כֵּ֥ן עָשֽׂוּ׃ </span>|<span class=\"hb\">כַּאֲשֶׁ֨ר צִוָּ֧ה יְהוָ֛ה אֹתָ֖ם </span>|<span class=\"hb\">יְהוָ֛ה </span>|<span class=\"hb\">צִוָּ֧ה </span>\n",
       "2|<a href=\"https://shebanq.ancient-data.org/hebrew/text?book=Exodus&chapter=7&verse=10&version=2017&mr=m&qw=q&tp=txt_p&tr=hb&wget=v&qget=v&nget=vt\" title=\"Exodus 7:10\">Exodus 7:10</a> <span class=\"hb\">וַיָּבֹ֨א מֹשֶׁ֤ה וְאַהֲרֹן֙ אֶל־פַּרְעֹ֔ה וַיַּ֣עַשׂוּ כֵ֔ן כַּאֲשֶׁ֖ר צִוָּ֣ה יְהוָ֑ה וַיַּשְׁלֵ֨ךְ אַהֲרֹ֜ן אֶת־מַטֵּ֗הוּ לִפְנֵ֥י פַרְעֹ֛ה וְלִפְנֵ֥י עֲבָדָ֖יו וַיְהִ֥י לְתַנִּֽין׃ </span>|<span class=\"hb\">כַּאֲשֶׁ֖ר צִוָּ֣ה יְהוָ֑ה </span>|<span class=\"hb\">יְהוָ֑ה </span>|<span class=\"hb\">צִוָּ֣ה </span>\n",
       "3|<a href=\"https://shebanq.ancient-data.org/hebrew/text?book=Exodus&chapter=7&verse=20&version=2017&mr=m&qw=q&tp=txt_p&tr=hb&wget=v&qget=v&nget=vt\" title=\"Exodus 7:20\">Exodus 7:20</a> <span class=\"hb\">וַיַּֽעֲשׂוּ־כֵן֩ מֹשֶׁ֨ה וְאַהֲרֹ֜ן כַּאֲשֶׁ֣ר׀ צִוָּ֣ה יְהוָ֗ה וַיָּ֤רֶם בַּמַּטֶּה֙ וַיַּ֤ךְ אֶת־הַמַּ֨יִם֙ אֲשֶׁ֣ר בַּיְאֹ֔ר לְעֵינֵ֣י פַרְעֹ֔ה וּלְעֵינֵ֖י עֲבָדָ֑יו וַיֵּהָֽפְכ֛וּ כָּל־הַמַּ֥יִם אֲשֶׁר־בַּיְאֹ֖ר לְדָֽם׃ </span>|<span class=\"hb\">כַּאֲשֶׁ֣ר׀ צִוָּ֣ה יְהוָ֗ה </span>|<span class=\"hb\">יְהוָ֗ה </span>|<span class=\"hb\">צִוָּ֣ה </span>\n",
       "4|<a href=\"https://shebanq.ancient-data.org/hebrew/text?book=Exodus&chapter=12&verse=28&version=2017&mr=m&qw=q&tp=txt_p&tr=hb&wget=v&qget=v&nget=vt\" title=\"Exodus 12:28\">Exodus 12:28</a> <span class=\"hb\">וַיֵּלְכ֥וּ וַיַּֽעֲשׂ֖וּ בְּנֵ֣י יִשְׂרָאֵ֑ל כַּאֲשֶׁ֨ר צִוָּ֧ה יְהוָ֛ה אֶת־מֹשֶׁ֥ה וְאַהֲרֹ֖ן כֵּ֥ן עָשֽׂוּ׃ ס </span>|<span class=\"hb\">כַּאֲשֶׁ֨ר צִוָּ֧ה יְהוָ֛ה אֶת־מֹשֶׁ֥ה וְאַהֲרֹ֖ן </span>|<span class=\"hb\">יְהוָ֛ה </span>|<span class=\"hb\">צִוָּ֧ה </span>\n",
       "5|<a href=\"https://shebanq.ancient-data.org/hebrew/text?book=Exodus&chapter=12&verse=50&version=2017&mr=m&qw=q&tp=txt_p&tr=hb&wget=v&qget=v&nget=vt\" title=\"Exodus 12:50\">Exodus 12:50</a> <span class=\"hb\">וַיַּֽעֲשׂ֖וּ כָּל־בְּנֵ֣י יִשְׂרָאֵ֑ל כַּאֲשֶׁ֨ר צִוָּ֧ה יְהוָ֛ה אֶת־מֹשֶׁ֥ה וְאֶֽת־אַהֲרֹ֖ן כֵּ֥ן עָשֽׂוּ׃ ס </span>|<span class=\"hb\">כַּאֲשֶׁ֨ר צִוָּ֧ה יְהוָ֛ה אֶת־מֹשֶׁ֥ה וְאֶֽת־אַהֲרֹ֖ן </span>|<span class=\"hb\">יְהוָ֛ה </span>|<span class=\"hb\">צִוָּ֧ה </span>\n",
       "6|<a href=\"https://shebanq.ancient-data.org/hebrew/text?book=Exodus&chapter=16&verse=16&version=2017&mr=m&qw=q&tp=txt_p&tr=hb&wget=v&qget=v&nget=vt\" title=\"Exodus 16:16\">Exodus 16:16</a> <span class=\"hb\">זֶ֤ה הַדָּבָר֙ אֲשֶׁ֣ר צִוָּ֣ה יְהוָ֔ה לִקְט֣וּ מִמֶּ֔נּוּ אִ֖ישׁ לְפִ֣י אָכְלֹ֑ו עֹ֣מֶר לַגֻּלְגֹּ֗לֶת מִסְפַּר֙ נַפְשֹׁ֣תֵיכֶ֔ם אִ֛ישׁ לַאֲשֶׁ֥ר בְּאָהֳלֹ֖ו תִּקָּֽחוּ׃ </span>|<span class=\"hb\">אֲשֶׁ֣ר צִוָּ֣ה יְהוָ֔ה </span>|<span class=\"hb\">יְהוָ֔ה </span>|<span class=\"hb\">צִוָּ֣ה </span>\n",
       "7|<a href=\"https://shebanq.ancient-data.org/hebrew/text?book=Exodus&chapter=16&verse=32&version=2017&mr=m&qw=q&tp=txt_p&tr=hb&wget=v&qget=v&nget=vt\" title=\"Exodus 16:32\">Exodus 16:32</a> <span class=\"hb\">וַיֹּ֣אמֶר מֹשֶׁ֗ה זֶ֤ה הַדָּבָר֙ אֲשֶׁ֣ר צִוָּ֣ה יְהוָ֔ה מְלֹ֤א הָעֹ֨מֶר֙ מִמֶּ֔נּוּ לְמִשְׁמֶ֖רֶת לְדֹרֹתֵיכֶ֑ם לְמַ֣עַן׀ יִרְא֣וּ אֶת־הַלֶּ֗חֶם אֲשֶׁ֨ר הֶאֱכַ֤לְתִּי אֶתְכֶם֙ בַּמִּדְבָּ֔ר בְּהֹוצִיאִ֥י אֶתְכֶ֖ם מֵאֶ֥רֶץ מִצְרָֽיִם׃ </span>|<span class=\"hb\">אֲשֶׁ֣ר צִוָּ֣ה יְהוָ֔ה </span>|<span class=\"hb\">יְהוָ֔ה </span>|<span class=\"hb\">צִוָּ֣ה </span>\n",
       "8|<a href=\"https://shebanq.ancient-data.org/hebrew/text?book=Exodus&chapter=16&verse=34&version=2017&mr=m&qw=q&tp=txt_p&tr=hb&wget=v&qget=v&nget=vt\" title=\"Exodus 16:34\">Exodus 16:34</a> <span class=\"hb\">כַּאֲשֶׁ֛ר צִוָּ֥ה יְהוָ֖ה אֶל־מֹשֶׁ֑ה וַיַּנִּיחֵ֧הוּ אַהֲרֹ֛ן לִפְנֵ֥י הָעֵדֻ֖ת לְמִשְׁמָֽרֶת׃ </span>|<span class=\"hb\">כַּאֲשֶׁ֛ר צִוָּ֥ה יְהוָ֖ה אֶל־מֹשֶׁ֑ה </span>|<span class=\"hb\">יְהוָ֖ה </span>|<span class=\"hb\">צִוָּ֥ה </span>\n",
       "9|<a href=\"https://shebanq.ancient-data.org/hebrew/text?book=Exodus&chapter=34&verse=4&version=2017&mr=m&qw=q&tp=txt_p&tr=hb&wget=v&qget=v&nget=vt\" title=\"Exodus 34:4\">Exodus 34:4</a> <span class=\"hb\">וַיִּפְסֹ֡ל שְׁנֵֽי־לֻחֹ֨ת אֲבָנִ֜ים כָּרִאשֹׁנִ֗ים וַיַּשְׁכֵּ֨ם מֹשֶׁ֤ה בַבֹּ֨קֶר֙ וַיַּ֨עַל֙ אֶל־הַ֣ר סִינַ֔י כַּאֲשֶׁ֛ר צִוָּ֥ה יְהוָ֖ה אֹתֹ֑ו וַיִּקַּ֣ח בְּיָדֹ֔ו שְׁנֵ֖י לֻחֹ֥ת אֲבָנִֽים׃ </span>|<span class=\"hb\">כַּאֲשֶׁ֛ר צִוָּ֥ה יְהוָ֖ה אֹתֹ֑ו </span>|<span class=\"hb\">יְהוָ֖ה </span>|<span class=\"hb\">צִוָּ֥ה </span>\n",
       "10|<a href=\"https://shebanq.ancient-data.org/hebrew/text?book=Exodus&chapter=35&verse=1&version=2017&mr=m&qw=q&tp=txt_p&tr=hb&wget=v&qget=v&nget=vt\" title=\"Exodus 35:1\">Exodus 35:1</a> <span class=\"hb\">וַיַּקְהֵ֣ל מֹשֶׁ֗ה אֶֽת־כָּל־עֲדַ֛ת בְּנֵ֥י יִשְׂרָאֵ֖ל וַיֹּ֣אמֶר אֲלֵהֶ֑ם אֵ֚לֶּה הַדְּבָרִ֔ים אֲשֶׁר־צִוָּ֥ה יְהוָ֖ה לַעֲשֹׂ֥ת אֹתָֽם׃ </span>|<span class=\"hb\">אֲשֶׁר־צִוָּ֥ה יְהוָ֖ה </span>|<span class=\"hb\">יְהוָ֖ה </span>|<span class=\"hb\">צִוָּ֥ה </span>"
      ],
      "text/plain": [
       "<IPython.core.display.Markdown object>"
      ]
     },
     "metadata": {},
     "output_type": "display_data"
    },
    {
     "name": "stdout",
     "output_type": "stream",
     "text": [
      "{'lexeme': 'בָרֶך', 'count': 14, 'expected': 0.27971513230688444, 'MI': 5.645324712671216}\n",
      "  1.17s 14 results\n"
     ]
    },
    {
     "data": {
      "text/markdown": [
       "n | verse | clause | word | word\n",
       "--- | --- | --- | --- | ---\n",
       "1|<a href=\"https://shebanq.ancient-data.org/hebrew/text?book=Genesis&chapter=27&verse=7&version=2017&mr=m&qw=q&tp=txt_p&tr=hb&wget=v&qget=v&nget=vt\" title=\"Genesis 27:7\">Genesis 27:7</a> <span class=\"hb\">הָבִ֨יאָה לִּ֥י צַ֛יִד וַעֲשֵׂה־לִ֥י מַטְעַמִּ֖ים וְאֹכֵ֑לָה וַאֲבָרֶכְכָ֛ה לִפְנֵ֥י יְהוָ֖ה לִפְנֵ֥י מֹותִֽי׃ </span>|<span class=\"hb\">וַאֲבָרֶכְכָ֛ה לִפְנֵ֥י יְהוָ֖ה לִפְנֵ֥י מֹותִֽי׃ </span>|<span class=\"hb\">יְהוָ֖ה </span>|<span class=\"hb\">אֲבָרֶכְכָ֛ה </span>\n",
       "2|<a href=\"https://shebanq.ancient-data.org/hebrew/text?book=Numeri&chapter=6&verse=24&version=2017&mr=m&qw=q&tp=txt_p&tr=hb&wget=v&qget=v&nget=vt\" title=\"Numbers 6:24\">Numbers 6:24</a> <span class=\"hb\">יְבָרֶכְךָ֥ יְהוָ֖ה וְיִשְׁמְרֶֽךָ׃ ס </span>|<span class=\"hb\">יְבָרֶכְךָ֥ יְהוָ֖ה </span>|<span class=\"hb\">יְהוָ֖ה </span>|<span class=\"hb\">יְבָרֶכְךָ֥ </span>\n",
       "3|<a href=\"https://shebanq.ancient-data.org/hebrew/text?book=Deuteronomium&chapter=14&verse=24&version=2017&mr=m&qw=q&tp=txt_p&tr=hb&wget=v&qget=v&nget=vt\" title=\"Deuteronomy 14:24\">Deuteronomy 14:24</a> <span class=\"hb\">וְכִֽי־יִרְבֶּ֨ה מִמְּךָ֜ הַדֶּ֗רֶךְ כִּ֣י לֹ֣א תוּכַל֮ שְׂאֵתֹו֒ כִּֽי־יִרְחַ֤ק מִמְּךָ֙ הַמָּקֹ֔ום אֲשֶׁ֤ר יִבְחַר֙ יְהוָ֣ה אֱלֹהֶ֔יךָ לָשׂ֥וּם שְׁמֹ֖ו שָׁ֑ם כִּ֥י יְבָרֶכְךָ֖ יְהוָ֥ה אֱלֹהֶֽיךָ׃ </span>|<span class=\"hb\">כִּ֥י יְבָרֶכְךָ֖ יְהוָ֥ה אֱלֹהֶֽיךָ׃ </span>|<span class=\"hb\">יְהוָ֥ה </span>|<span class=\"hb\">יְבָרֶכְךָ֖ </span>\n",
       "4|<a href=\"https://shebanq.ancient-data.org/hebrew/text?book=Deuteronomium&chapter=14&verse=29&version=2017&mr=m&qw=q&tp=txt_p&tr=hb&wget=v&qget=v&nget=vt\" title=\"Deuteronomy 14:29\">Deuteronomy 14:29</a> <span class=\"hb\">וּבָ֣א הַלֵּוִ֡י כִּ֣י אֵֽין־לֹו֩ חֵ֨לֶק וְנַחֲלָ֜ה עִמָּ֗ךְ וְ֠הַגֵּר וְהַיָּתֹ֤ום וְהָֽאַלְמָנָה֙ אֲשֶׁ֣ר בִּשְׁעָרֶ֔יךָ וְאָכְל֖וּ וְשָׂבֵ֑עוּ לְמַ֤עַן יְבָרֶכְךָ֙ יְהוָ֣ה אֱלֹהֶ֔יךָ בְּכָל־מַעֲשֵׂ֥ה יָדְךָ֖ אֲשֶׁ֥ר תַּעֲשֶֽׂה׃ ס </span>|<span class=\"hb\">לְמַ֤עַן יְבָרֶכְךָ֙ יְהוָ֣ה אֱלֹהֶ֔יךָ בְּכָל־מַעֲשֵׂ֥ה יָדְךָ֖ </span>|<span class=\"hb\">יְהוָ֣ה </span>|<span class=\"hb\">יְבָרֶכְךָ֙ </span>\n",
       "5|<a href=\"https://shebanq.ancient-data.org/hebrew/text?book=Deuteronomium&chapter=15&verse=4&version=2017&mr=m&qw=q&tp=txt_p&tr=hb&wget=v&qget=v&nget=vt\" title=\"Deuteronomy 15:4\">Deuteronomy 15:4</a> <span class=\"hb\">אֶ֕פֶס כִּ֛י לֹ֥א יִֽהְיֶה־בְּךָ֖ אֶבְיֹ֑ון כִּֽי־בָרֵ֤ךְ יְבָֽרֶכְךָ֙ יְהוָ֔ה בָּאָ֕רֶץ אֲשֶׁר֙ יְהוָ֣ה אֱלֹהֶ֔יךָ נֹֽתֵן־לְךָ֥ נַחֲלָ֖ה לְרִשְׁתָּֽהּ׃ </span>|<span class=\"hb\">כִּֽי־בָרֵ֤ךְ יְבָֽרֶכְךָ֙ יְהוָ֔ה בָּאָ֕רֶץ </span>|<span class=\"hb\">יְהוָ֔ה </span>|<span class=\"hb\">יְבָֽרֶכְךָ֙ </span>\n",
       "6|<a href=\"https://shebanq.ancient-data.org/hebrew/text?book=Deuteronomium&chapter=15&verse=10&version=2017&mr=m&qw=q&tp=txt_p&tr=hb&wget=v&qget=v&nget=vt\" title=\"Deuteronomy 15:10\">Deuteronomy 15:10</a> <span class=\"hb\">נָתֹ֤ון תִּתֵּן֙ לֹ֔ו וְלֹא־יֵרַ֥ע לְבָבְךָ֖ בְּתִתְּךָ֣ לֹ֑ו כִּ֞י בִּגְלַ֣ל׀ הַדָּבָ֣ר הַזֶּ֗ה יְבָרֶכְךָ֙ יְהוָ֣ה אֱלֹהֶ֔יךָ בְּכָֽל־מַעֲשֶׂ֔ךָ וּבְכֹ֖ל מִשְׁלַ֥ח יָדֶֽךָ׃ </span>|<span class=\"hb\">כִּ֞י בִּגְלַ֣ל׀ הַדָּבָ֣ר הַזֶּ֗ה יְבָרֶכְךָ֙ יְהוָ֣ה אֱלֹהֶ֔יךָ בְּכָֽל־מַעֲשֶׂ֔ךָ וּבְכֹ֖ל מִשְׁלַ֥ח יָדֶֽךָ׃ </span>|<span class=\"hb\">יְהוָ֣ה </span>|<span class=\"hb\">יְבָרֶכְךָ֙ </span>\n",
       "7|<a href=\"https://shebanq.ancient-data.org/hebrew/text?book=Deuteronomium&chapter=16&verse=10&version=2017&mr=m&qw=q&tp=txt_p&tr=hb&wget=v&qget=v&nget=vt\" title=\"Deuteronomy 16:10\">Deuteronomy 16:10</a> <span class=\"hb\">וְעָשִׂ֜יתָ חַ֤ג שָׁבֻעֹות֙ לַיהוָ֣ה אֱלֹהֶ֔יךָ מִסַּ֛ת נִדְבַ֥ת יָדְךָ֖ אֲשֶׁ֣ר תִּתֵּ֑ן כַּאֲשֶׁ֥ר יְבָרֶכְךָ֖ יְהוָ֥ה אֱלֹהֶֽיךָ׃ </span>|<span class=\"hb\">כַּאֲשֶׁ֥ר יְבָרֶכְךָ֖ יְהוָ֥ה אֱלֹהֶֽיךָ׃ </span>|<span class=\"hb\">יְהוָ֥ה </span>|<span class=\"hb\">יְבָרֶכְךָ֖ </span>\n",
       "8|<a href=\"https://shebanq.ancient-data.org/hebrew/text?book=Deuteronomium&chapter=16&verse=15&version=2017&mr=m&qw=q&tp=txt_p&tr=hb&wget=v&qget=v&nget=vt\" title=\"Deuteronomy 16:15\">Deuteronomy 16:15</a> <span class=\"hb\">שִׁבְעַ֣ת יָמִ֗ים תָּחֹג֙ לַיהוָ֣ה אֱלֹהֶ֔יךָ בַּמָּקֹ֖ום אֲשֶׁר־יִבְחַ֣ר יְהוָ֑ה כִּ֣י יְבָרֶכְךָ֞ יְהוָ֣ה אֱלֹהֶ֗יךָ בְּכֹ֤ל תְּבוּאָֽתְךָ֙ וּבְכֹל֙ מַעֲשֵׂ֣ה יָדֶ֔יךָ וְהָיִ֖יתָ אַ֥ךְ שָׂמֵֽחַ׃ </span>|<span class=\"hb\">כִּ֣י יְבָרֶכְךָ֞ יְהוָ֣ה אֱלֹהֶ֗יךָ בְּכֹ֤ל תְּבוּאָֽתְךָ֙ וּבְכֹל֙ מַעֲשֵׂ֣ה יָדֶ֔יךָ </span>|<span class=\"hb\">יְהוָ֣ה </span>|<span class=\"hb\">יְבָרֶכְךָ֞ </span>\n",
       "9|<a href=\"https://shebanq.ancient-data.org/hebrew/text?book=Deuteronomium&chapter=23&verse=21&version=2017&mr=m&qw=q&tp=txt_p&tr=hb&wget=v&qget=v&nget=vt\" title=\"Deuteronomy 23:21\">Deuteronomy 23:21</a> <span class=\"hb\">לַנָּכְרִ֣י תַשִּׁ֔יךְ וּלְאָחִ֖יךָ לֹ֣א תַשִּׁ֑יךְ לְמַ֨עַן יְבָרֶכְךָ֜ יְהוָ֣ה אֱלֹהֶ֗יךָ בְּכֹל֙ מִשְׁלַ֣ח יָדֶ֔ךָ עַל־הָאָ֕רֶץ אֲשֶׁר־אַתָּ֥ה בָא־שָׁ֖מָּה לְרִשְׁתָּֽהּ׃ ס </span>|<span class=\"hb\">לְמַ֨עַן יְבָרֶכְךָ֜ יְהוָ֣ה אֱלֹהֶ֗יךָ בְּכֹל֙ מִשְׁלַ֣ח יָדֶ֔ךָ עַל־הָאָ֕רֶץ </span>|<span class=\"hb\">יְהוָ֣ה </span>|<span class=\"hb\">יְבָרֶכְךָ֜ </span>\n",
       "10|<a href=\"https://shebanq.ancient-data.org/hebrew/text?book=Deuteronomium&chapter=24&verse=19&version=2017&mr=m&qw=q&tp=txt_p&tr=hb&wget=v&qget=v&nget=vt\" title=\"Deuteronomy 24:19\">Deuteronomy 24:19</a> <span class=\"hb\">כִּ֣י תִקְצֹר֩ קְצִֽירְךָ֨ בְשָׂדֶ֜ךָ וְשָֽׁכַחְתָּ֧ עֹ֣מֶר בַּשָּׂדֶ֗ה לֹ֤א תָשׁוּב֙ לְקַחְתֹּ֔ו לַגֵּ֛ר לַיָּתֹ֥ום וְלָאַלְמָנָ֖ה יִהְיֶ֑ה לְמַ֤עַן יְבָרֶכְךָ֙ יְהוָ֣ה אֱלֹהֶ֔יךָ בְּכֹ֖ל מַעֲשֵׂ֥ה יָדֶֽיךָ׃ </span>|<span class=\"hb\">לְמַ֤עַן יְבָרֶכְךָ֙ יְהוָ֣ה אֱלֹהֶ֔יךָ בְּכֹ֖ל מַעֲשֵׂ֥ה יָדֶֽיךָ׃ </span>|<span class=\"hb\">יְהוָ֣ה </span>|<span class=\"hb\">יְבָרֶכְךָ֙ </span>"
      ],
      "text/plain": [
       "<IPython.core.display.Markdown object>"
      ]
     },
     "metadata": {},
     "output_type": "display_data"
    },
    {
     "name": "stdout",
     "output_type": "stream",
     "text": [
      "{'lexeme': 'בָּחַר', 'count': 12, 'expected': 0.23975582769161524, 'MI': 5.645324712671216}\n",
      "  1.41s 12 results\n"
     ]
    },
    {
     "data": {
      "text/markdown": [
       "n | verse | clause | word | word\n",
       "--- | --- | --- | --- | ---\n",
       "1|<a href=\"https://shebanq.ancient-data.org/hebrew/text?book=Deuteronomium&chapter=7&verse=6&version=2017&mr=m&qw=q&tp=txt_p&tr=hb&wget=v&qget=v&nget=vt\" title=\"Deuteronomy 7:6\">Deuteronomy 7:6</a> <span class=\"hb\">כִּ֣י עַ֤ם קָדֹושׁ֙ אַתָּ֔ה לַיהוָ֖ה אֱלֹהֶ֑יךָ בְּךָ֞ בָּחַ֣ר׀ יְהוָ֣ה אֱלֹהֶ֗יךָ לִהְיֹ֥ות לֹו֙ לְעַ֣ם סְגֻלָּ֔ה מִכֹּל֙ הָֽעַמִּ֔ים אֲשֶׁ֖ר עַל־פְּנֵ֥י הָאֲדָמָֽה׃ ס </span>|<span class=\"hb\">בְּךָ֞ בָּחַ֣ר׀ יְהוָ֣ה אֱלֹהֶ֗יךָ מִכֹּל֙ הָֽעַמִּ֔ים </span>|<span class=\"hb\">יְהוָ֣ה </span>|<span class=\"hb\">בָּחַ֣ר׀ </span>\n",
       "2|<a href=\"https://shebanq.ancient-data.org/hebrew/text?book=Deuteronomium&chapter=14&verse=2&version=2017&mr=m&qw=q&tp=txt_p&tr=hb&wget=v&qget=v&nget=vt\" title=\"Deuteronomy 14:2\">Deuteronomy 14:2</a> <span class=\"hb\">כִּ֣י עַ֤ם קָדֹושׁ֙ אַתָּ֔ה לַיהוָ֖ה אֱלֹהֶ֑יךָ וּבְךָ֞ בָּחַ֣ר יְהוָ֗ה לִֽהְיֹ֥ות לֹו֙ לְעַ֣ם סְגֻלָּ֔ה מִכֹּל֙ הָֽעַמִּ֔ים אֲשֶׁ֖ר עַל־פְּנֵ֥י הָאֲדָמָֽה׃ ס </span>|<span class=\"hb\">וּבְךָ֞ בָּחַ֣ר יְהוָ֗ה מִכֹּל֙ הָֽעַמִּ֔ים </span>|<span class=\"hb\">יְהוָ֗ה </span>|<span class=\"hb\">בָּחַ֣ר </span>\n",
       "3|<a href=\"https://shebanq.ancient-data.org/hebrew/text?book=Deuteronomium&chapter=18&verse=5&version=2017&mr=m&qw=q&tp=txt_p&tr=hb&wget=v&qget=v&nget=vt\" title=\"Deuteronomy 18:5\">Deuteronomy 18:5</a> <span class=\"hb\">כִּ֣י בֹ֗ו בָּחַ֛ר יְהוָ֥ה אֱלֹהֶ֖יךָ מִכָּל־שְׁבָטֶ֑יךָ לַעֲמֹ֨ד לְשָׁרֵ֧ת בְּשֵׁם־יְהוָ֛ה ה֥וּא וּבָנָ֖יו כָּל־הַיָּמִֽים׃ ס </span>|<span class=\"hb\">כִּ֣י בֹ֗ו בָּחַ֛ר יְהוָ֥ה אֱלֹהֶ֖יךָ מִכָּל־שְׁבָטֶ֑יךָ ה֥וּא וּבָנָ֖יו כָּל־הַיָּמִֽים׃ ס </span>|<span class=\"hb\">יְהוָ֥ה </span>|<span class=\"hb\">בָּחַ֛ר </span>\n",
       "4|<a href=\"https://shebanq.ancient-data.org/hebrew/text?book=Deuteronomium&chapter=21&verse=5&version=2017&mr=m&qw=q&tp=txt_p&tr=hb&wget=v&qget=v&nget=vt\" title=\"Deuteronomy 21:5\">Deuteronomy 21:5</a> <span class=\"hb\">וְנִגְּשׁ֣וּ הַכֹּהֲנִים֮ בְּנֵ֣י לֵוִי֒ כִּ֣י בָ֗ם בָּחַ֞ר יְהוָ֤ה אֱלֹהֶ֨יךָ֙ לְשָׁ֣רְתֹ֔ו וּלְבָרֵ֖ךְ בְּשֵׁ֣ם יְהוָ֑ה וְעַל־פִּיהֶ֥ם יִהְיֶ֖ה כָּל־רִ֥יב וְכָל־נָֽגַע׃ </span>|<span class=\"hb\">כִּ֣י בָ֗ם בָּחַ֞ר יְהוָ֤ה אֱלֹהֶ֨יךָ֙ </span>|<span class=\"hb\">יְהוָ֤ה </span>|<span class=\"hb\">בָּחַ֞ר </span>\n",
       "5|<a href=\"https://shebanq.ancient-data.org/hebrew/text?book=Samuel_I&chapter=10&verse=24&version=2017&mr=m&qw=q&tp=txt_p&tr=hb&wget=v&qget=v&nget=vt\" title=\"1_Samuel 10:24\">1_Samuel 10:24</a> <span class=\"hb\">וַיֹּ֨אמֶר שְׁמוּאֵ֜ל אֶל־כָּל־הָעָ֗ם הַרְּאִיתֶם֙ אֲשֶׁ֣ר בָּֽחַר־בֹּ֣ו יְהוָ֔ה כִּ֛י אֵ֥ין כָּמֹ֖הוּ בְּכָל־הָעָ֑ם וַיָּרִ֧עוּ כָל־הָעָ֛ם וַיֹּאמְר֖וּ יְחִ֥י הַמֶּֽלֶךְ׃ פ </span>|<span class=\"hb\">אֲשֶׁ֣ר בָּֽחַר־בֹּ֣ו יְהוָ֔ה </span>|<span class=\"hb\">יְהוָ֔ה </span>|<span class=\"hb\">בָּֽחַר־</span>\n",
       "6|<a href=\"https://shebanq.ancient-data.org/hebrew/text?book=Samuel_II&chapter=16&verse=18&version=2017&mr=m&qw=q&tp=txt_p&tr=hb&wget=v&qget=v&nget=vt\" title=\"2_Samuel 16:18\">2_Samuel 16:18</a> <span class=\"hb\">וַיֹּ֣אמֶר חוּשַׁי֮ אֶל־אַבְשָׁלֹם֒ לֹ֕א כִּי֩ אֲשֶׁ֨ר בָּחַ֧ר יְהוָ֛ה וְהָעָ֥ם הַזֶּ֖ה וְכָל־אִ֣ישׁ יִשְׂרָאֵ֑ל לֹ֥ו אֶהְיֶ֖ה וְאִתֹּ֥ו אֵשֵֽׁב׃ </span>|<span class=\"hb\">אֲשֶׁ֨ר בָּחַ֧ר יְהוָ֛ה וְהָעָ֥ם הַזֶּ֖ה וְכָל־אִ֣ישׁ יִשְׂרָאֵ֑ל </span>|<span class=\"hb\">יְהוָ֛ה </span>|<span class=\"hb\">בָּחַ֧ר </span>\n",
       "7|<a href=\"https://shebanq.ancient-data.org/hebrew/text?book=Reges_I&chapter=14&verse=21&version=2017&mr=m&qw=q&tp=txt_p&tr=hb&wget=v&qget=v&nget=vt\" title=\"1_Kings 14:21\">1_Kings 14:21</a> <span class=\"hb\">וּרְחַבְעָם֙ בֶּן־שְׁלֹמֹ֔ה מָלַ֖ךְ בִּֽיהוּדָ֑ה בֶּן־אַרְבָּעִ֣ים וְאַחַ֣ת שָׁנָה֩ רְחַבְעָ֨ם בְּמָלְכֹ֜ו וּֽשֲׁבַ֨ע עֶשְׂרֵ֥ה שָׁנָ֣ה׀ מָלַ֣ךְ בִּירוּשָׁלִַ֗ם הָ֠עִיר אֲשֶׁר־בָּחַ֨ר יְהוָ֜ה לָשׂ֨וּם אֶת־שְׁמֹ֥ו שָׁם֙ מִכֹּל֙ שִׁבְטֵ֣י יִשְׂרָאֵ֔ל וְשֵׁ֣ם אִמֹּ֔ו נַעֲמָ֖ה הָעַמֹּנִֽית׃ </span>|<span class=\"hb\">אֲשֶׁר־בָּחַ֨ר יְהוָ֜ה מִכֹּל֙ שִׁבְטֵ֣י יִשְׂרָאֵ֔ל </span>|<span class=\"hb\">יְהוָ֜ה </span>|<span class=\"hb\">בָּחַ֨ר </span>\n",
       "8|<a href=\"https://shebanq.ancient-data.org/hebrew/text?book=Jeremia&chapter=33&verse=24&version=2017&mr=m&qw=q&tp=txt_p&tr=hb&wget=v&qget=v&nget=vt\" title=\"Jeremiah 33:24\">Jeremiah 33:24</a> <span class=\"hb\">הֲלֹ֣וא רָאִ֗יתָ מָֽה־הָעָ֤ם הַזֶּה֙ דִּבְּר֣וּ לֵאמֹ֔ר שְׁתֵּ֣י הַמִּשְׁפָּחֹ֗ות אֲשֶׁ֨ר בָּחַ֧ר יְהוָ֛ה בָּהֶ֖ם וַיִּמְאָסֵ֑ם וְאֶת־עַמִּי֙ יִנְאָצ֔וּן מִֽהְיֹ֥ות עֹ֖וד גֹּ֥וי לִפְנֵיהֶֽם׃ ס </span>|<span class=\"hb\">אֲשֶׁ֨ר בָּחַ֧ר יְהוָ֛ה בָּהֶ֖ם </span>|<span class=\"hb\">יְהוָ֛ה </span>|<span class=\"hb\">בָּחַ֧ר </span>\n",
       "9|<a href=\"https://shebanq.ancient-data.org/hebrew/text?book=Chronica_I&chapter=15&verse=2&version=2017&mr=m&qw=q&tp=txt_p&tr=hb&wget=v&qget=v&nget=vt\" title=\"1_Chronicles 15:2\">1_Chronicles 15:2</a> <span class=\"hb\">אָ֚ז אָמַ֣ר דָּוִ֔יד לֹ֤א לָשֵׂאת֙ אֶת־אֲרֹ֣ון הָֽאֱלֹהִ֔ים כִּ֖י אִם־הַלְוִיִּ֑ם כִּי־בָ֣ם׀ בָּחַ֣ר יְהוָ֗ה לָשֵׂ֞את אֶת־אֲרֹ֧ון יְהוָ֛ה וּֽלְשָׁרְתֹ֖ו עַד־עֹולָֽם׃ ס </span>|<span class=\"hb\">כִּי־בָ֣ם׀ בָּחַ֣ר יְהוָ֗ה </span>|<span class=\"hb\">יְהוָ֗ה </span>|<span class=\"hb\">בָּחַ֣ר </span>\n",
       "10|<a href=\"https://shebanq.ancient-data.org/hebrew/text?book=Chronica_I&chapter=28&verse=10&version=2017&mr=m&qw=q&tp=txt_p&tr=hb&wget=v&qget=v&nget=vt\" title=\"1_Chronicles 28:10\">1_Chronicles 28:10</a> <span class=\"hb\">רְאֵ֣ה׀ עַתָּ֗ה כִּֽי־יְהוָ֛ה בָּ֧חַר בְּךָ֛ לִבְנֹֽות־בַּ֥יִת לַמִּקְדָּ֖שׁ חֲזַ֥ק וַעֲשֵֽׂה׃ פ </span>|<span class=\"hb\">כִּֽי־יְהוָ֛ה בָּ֧חַר בְּךָ֛ </span>|<span class=\"hb\">יְהוָ֛ה </span>|<span class=\"hb\">בָּ֧חַר </span>"
      ],
      "text/plain": [
       "<IPython.core.display.Markdown object>"
      ]
     },
     "metadata": {},
     "output_type": "display_data"
    },
    {
     "name": "stdout",
     "output_type": "stream",
     "text": [
      "{'lexeme': 'זְעֲק', 'count': 10, 'expected': 0.19979652307634604, 'MI': 5.645324712671216}\n",
      "  1.34s 10 results\n"
     ]
    },
    {
     "data": {
      "text/markdown": [
       "n | verse | clause | word | word\n",
       "--- | --- | --- | --- | ---\n",
       "1|<a href=\"https://shebanq.ancient-data.org/hebrew/text?book=Judices&chapter=3&verse=9&version=2017&mr=m&qw=q&tp=txt_p&tr=hb&wget=v&qget=v&nget=vt\" title=\"Judges 3:9\">Judges 3:9</a> <span class=\"hb\">וַיִּזְעֲק֤וּ בְנֵֽי־יִשְׂרָאֵל֙ אֶל־יְהוָ֔ה וַיָּ֨קֶם יְהוָ֥ה מֹושִׁ֛יעַ לִבְנֵ֥י יִשְׂרָאֵ֖ל וַיֹּֽושִׁיעֵ֑ם אֵ֚ת עָתְנִיאֵ֣ל בֶּן־קְנַ֔ז אֲחִ֥י כָלֵ֖ב הַקָּטֹ֥ן מִמֶּֽנּוּ׃ </span>|<span class=\"hb\">וַיִּזְעֲק֤וּ בְנֵֽי־יִשְׂרָאֵל֙ אֶל־יְהוָ֔ה </span>|<span class=\"hb\">יְהוָ֔ה </span>|<span class=\"hb\">יִּזְעֲק֤וּ </span>\n",
       "2|<a href=\"https://shebanq.ancient-data.org/hebrew/text?book=Judices&chapter=3&verse=15&version=2017&mr=m&qw=q&tp=txt_p&tr=hb&wget=v&qget=v&nget=vt\" title=\"Judges 3:15\">Judges 3:15</a> <span class=\"hb\">וַיִּזְעֲק֣וּ בְנֵֽי־יִשְׂרָאֵל֮ אֶל־יְהוָה֒ וַיָּקֶם֩ יְהוָ֨ה לָהֶ֜ם מֹושִׁ֗יעַ אֶת־אֵה֤וּד בֶּן־גֵּרָא֙ בֶּן־הַיְמִינִ֔י אִ֥ישׁ אִטֵּ֖ר יַד־יְמִינֹ֑ו וַיִּשְׁלְח֨וּ בְנֵי־יִשְׂרָאֵ֤ל בְּיָדֹו֙ מִנְחָ֔ה לְעֶגְלֹ֖ון מֶ֥לֶךְ מֹואָֽב׃ </span>|<span class=\"hb\">וַיִּזְעֲק֣וּ בְנֵֽי־יִשְׂרָאֵל֮ אֶל־יְהוָה֒ </span>|<span class=\"hb\">יְהוָה֒ </span>|<span class=\"hb\">יִּזְעֲק֣וּ </span>\n",
       "3|<a href=\"https://shebanq.ancient-data.org/hebrew/text?book=Judices&chapter=6&verse=6&version=2017&mr=m&qw=q&tp=txt_p&tr=hb&wget=v&qget=v&nget=vt\" title=\"Judges 6:6\">Judges 6:6</a> <span class=\"hb\">וַיִּדַּ֧ל יִשְׂרָאֵ֛ל מְאֹ֖ד מִפְּנֵ֣י מִדְיָ֑ן וַיִּזְעֲק֥וּ בְנֵֽי־יִשְׂרָאֵ֖ל אֶל־יְהוָֽה׃ פ </span>|<span class=\"hb\">וַיִּזְעֲק֥וּ בְנֵֽי־יִשְׂרָאֵ֖ל אֶל־יְהוָֽה׃ פ </span>|<span class=\"hb\">יְהוָֽה׃ פ </span>|<span class=\"hb\">יִּזְעֲק֥וּ </span>\n",
       "4|<a href=\"https://shebanq.ancient-data.org/hebrew/text?book=Judices&chapter=10&verse=10&version=2017&mr=m&qw=q&tp=txt_p&tr=hb&wget=v&qget=v&nget=vt\" title=\"Judges 10:10\">Judges 10:10</a> <span class=\"hb\">וַֽיִּזְעֲקוּ֙ בְּנֵ֣י יִשְׂרָאֵ֔ל אֶל־יְהוָ֖ה לֵאמֹ֑ר חָטָ֣אנוּ לָ֔ךְ וְכִ֤י עָזַ֨בְנוּ֙ אֶת־אֱלֹהֵ֔ינוּ וַֽנַּעֲבֹ֖ד אֶת־הַבְּעָלִֽים׃ פ </span>|<span class=\"hb\">וַֽיִּזְעֲקוּ֙ בְּנֵ֣י יִשְׂרָאֵ֔ל אֶל־יְהוָ֖ה </span>|<span class=\"hb\">יְהוָ֖ה </span>|<span class=\"hb\">יִּזְעֲקוּ֙ </span>\n",
       "5|<a href=\"https://shebanq.ancient-data.org/hebrew/text?book=Samuel_I&chapter=12&verse=8&version=2017&mr=m&qw=q&tp=txt_p&tr=hb&wget=v&qget=v&nget=vt\" title=\"1_Samuel 12:8\">1_Samuel 12:8</a> <span class=\"hb\">כַּֽאֲשֶׁר־בָּ֥א יַעֲקֹ֖ב מִצְרָ֑יִם וַיִּזְעֲק֤וּ אֲבֹֽותֵיכֶם֙ אֶל־יְהוָ֔ה וַיִּשְׁלַ֨ח יְהוָ֜ה אֶת־מֹשֶׁ֣ה וְאֶֽת־אַהֲרֹ֗ן וַיֹּוצִ֤יאוּ אֶת־אֲבֹֽתֵיכֶם֙ מִמִּצְרַ֔יִם וַיֹּשִׁב֖וּם בַּמָּקֹ֥ום הַזֶּֽה׃ </span>|<span class=\"hb\">וַיִּזְעֲק֤וּ אֲבֹֽותֵיכֶם֙ אֶל־יְהוָ֔ה </span>|<span class=\"hb\">יְהוָ֔ה </span>|<span class=\"hb\">יִּזְעֲק֤וּ </span>\n",
       "6|<a href=\"https://shebanq.ancient-data.org/hebrew/text?book=Samuel_I&chapter=12&verse=10&version=2017&mr=m&qw=q&tp=txt_p&tr=hb&wget=v&qget=v&nget=vt\" title=\"1_Samuel 12:10\">1_Samuel 12:10</a> <span class=\"hb\">וַיִּזְעֲק֤וּ אֶל־יְהוָה֙ וַיֹּאמְר֣וּ חָטָ֔אנוּ כִּ֤י עָזַ֨בְנוּ֙ אֶת־יְהוָ֔ה וַנַּעֲבֹ֥ד אֶת־הַבְּעָלִ֖ים וְאֶת־הָעַשְׁתָּרֹ֑ות וְעַתָּ֗ה הַצִּילֵ֛נוּ מִיַּ֥ד אֹיְבֵ֖ינוּ וְנַעַבְדֶֽךָּ׃ </span>|<span class=\"hb\">וַיִּזְעֲק֤וּ אֶל־יְהוָה֙ </span>|<span class=\"hb\">יְהוָה֙ </span>|<span class=\"hb\">יִּזְעֲק֤וּ </span>\n",
       "7|<a href=\"https://shebanq.ancient-data.org/hebrew/text?book=Micha&chapter=3&verse=4&version=2017&mr=m&qw=q&tp=txt_p&tr=hb&wget=v&qget=v&nget=vt\" title=\"Micah 3:4\">Micah 3:4</a> <span class=\"hb\">אָ֚ז יִזְעֲק֣וּ אֶל־יְהוָ֔ה וְלֹ֥א יַעֲנֶ֖ה אֹותָ֑ם וְיַסְתֵּ֨ר פָּנָ֤יו מֵהֶם֙ בָּעֵ֣ת הַהִ֔יא כַּאֲשֶׁ֥ר הֵרֵ֖עוּ מַעַלְלֵיהֶֽם׃ פ </span>|<span class=\"hb\">אָ֚ז יִזְעֲק֣וּ אֶל־יְהוָ֔ה </span>|<span class=\"hb\">יְהוָ֔ה </span>|<span class=\"hb\">יִזְעֲק֣וּ </span>\n",
       "8|<a href=\"https://shebanq.ancient-data.org/hebrew/text?book=Psalmi&chapter=107&verse=13&version=2017&mr=m&qw=q&tp=txt_p&tr=hb&wget=v&qget=v&nget=vt\" title=\"Psalms 107:13\">Psalms 107:13</a> <span class=\"hb\">וַיִּזְעֲק֣וּ אֶל־יְ֭הוָה בַּצַּ֣ר לָהֶ֑ם מִ֝מְּצֻֽקֹותֵיהֶ֗ם יֹושִׁיעֵֽם׃ </span>|<span class=\"hb\">וַיִּזְעֲק֣וּ אֶל־יְ֭הוָה בַּצַּ֣ר לָהֶ֑ם </span>|<span class=\"hb\">יְ֭הוָה </span>|<span class=\"hb\">יִּזְעֲק֣וּ </span>\n",
       "9|<a href=\"https://shebanq.ancient-data.org/hebrew/text?book=Psalmi&chapter=107&verse=19&version=2017&mr=m&qw=q&tp=txt_p&tr=hb&wget=v&qget=v&nget=vt\" title=\"Psalms 107:19\">Psalms 107:19</a> <span class=\"hb\">וַיִּזְעֲק֣וּ אֶל־יְ֭הוָה בַּצַּ֣ר לָהֶ֑ם מִ֝מְּצֻֽקֹותֵיהֶ֗ם יֹושִׁיעֵֽם׃ </span>|<span class=\"hb\">וַיִּזְעֲק֣וּ אֶל־יְ֭הוָה בַּצַּ֣ר לָהֶ֑ם </span>|<span class=\"hb\">יְ֭הוָה </span>|<span class=\"hb\">יִּזְעֲק֣וּ </span>\n",
       "10|<a href=\"https://shebanq.ancient-data.org/hebrew/text?book=Nehemia&chapter=9&verse=4&version=2017&mr=m&qw=q&tp=txt_p&tr=hb&wget=v&qget=v&nget=vt\" title=\"Nehemiah 9:4\">Nehemiah 9:4</a> <span class=\"hb\">וַיָּ֜קָם עַֽל־מַֽעֲלֵ֣ה הַלְוִיִּ֗ם יֵשׁ֨וּעַ וּבָנִ֜י קַדְמִיאֵ֧ל שְׁבַנְיָ֛ה בֻּנִּ֥י שֵׁרֵבְיָ֖ה בָּנִ֣י כְנָ֑נִי וַֽיִּזְעֲקוּ֙ בְּקֹ֣ול גָּדֹ֔ול אֶל־יְהוָ֖ה אֱלֹהֵיהֶֽם׃ </span>|<span class=\"hb\">וַֽיִּזְעֲקוּ֙ בְּקֹ֣ול גָּדֹ֔ול אֶל־יְהוָ֖ה אֱלֹהֵיהֶֽם׃ </span>|<span class=\"hb\">יְהוָ֖ה </span>|<span class=\"hb\">יִּזְעֲקוּ֙ </span>"
      ],
      "text/plain": [
       "<IPython.core.display.Markdown object>"
      ]
     },
     "metadata": {},
     "output_type": "display_data"
    },
    {
     "name": "stdout",
     "output_type": "stream",
     "text": [
      "{'lexeme': 'יָּשָׁר', 'count': 25, 'expected': 0.5594302646137689, 'MI': 5.4818259803883365}\n",
      "  1.29s 25 results\n"
     ]
    },
    {
     "data": {
      "text/markdown": [
       "n | verse | clause | word | word\n",
       "--- | --- | --- | --- | ---\n",
       "1|<a href=\"https://shebanq.ancient-data.org/hebrew/text?book=Deuteronomium&chapter=6&verse=18&version=2017&mr=m&qw=q&tp=txt_p&tr=hb&wget=v&qget=v&nget=vt\" title=\"Deuteronomy 6:18\">Deuteronomy 6:18</a> <span class=\"hb\">וְעָשִׂ֛יתָ הַיָּשָׁ֥ר וְהַטֹּ֖וב בְּעֵינֵ֣י יְהוָ֑ה לְמַ֨עַן֙ יִ֣יטַב לָ֔ךְ וּבָ֗אתָ וְיָֽרַשְׁתָּ֙ אֶת־הָאָ֣רֶץ הַטֹּבָ֔ה אֲשֶׁר־נִשְׁבַּ֥ע יְהוָ֖ה לַאֲבֹתֶֽיךָ׃ </span>|<span class=\"hb\">וְעָשִׂ֛יתָ הַיָּשָׁ֥ר וְהַטֹּ֖וב בְּעֵינֵ֣י יְהוָ֑ה </span>|<span class=\"hb\">יְהוָ֑ה </span>|<span class=\"hb\">יָּשָׁ֥ר </span>\n",
       "2|<a href=\"https://shebanq.ancient-data.org/hebrew/text?book=Deuteronomium&chapter=12&verse=25&version=2017&mr=m&qw=q&tp=txt_p&tr=hb&wget=v&qget=v&nget=vt\" title=\"Deuteronomy 12:25\">Deuteronomy 12:25</a> <span class=\"hb\">לֹ֖א תֹּאכְלֶ֑נּוּ לְמַ֨עַן יִיטַ֤ב לְךָ֙ וּלְבָנֶ֣יךָ אַחֲרֶ֔יךָ כִּֽי־תַעֲשֶׂ֥ה הַיָּשָׁ֖ר בְּעֵינֵ֥י יְהוָֽה׃ </span>|<span class=\"hb\">הַיָּשָׁ֖ר בְּעֵינֵ֥י יְהוָֽה׃ </span>|<span class=\"hb\">יְהוָֽה׃ </span>|<span class=\"hb\">יָּשָׁ֖ר </span>\n",
       "3|<a href=\"https://shebanq.ancient-data.org/hebrew/text?book=Deuteronomium&chapter=12&verse=28&version=2017&mr=m&qw=q&tp=txt_p&tr=hb&wget=v&qget=v&nget=vt\" title=\"Deuteronomy 12:28\">Deuteronomy 12:28</a> <span class=\"hb\">שְׁמֹ֣ר וְשָׁמַעְתָּ֗ אֵ֚ת כָּל־הַדְּבָרִ֣ים הָאֵ֔לֶּה אֲשֶׁ֥ר אָנֹכִ֖י מְצַוֶּ֑ךָּ לְמַעַן֩ יִיטַ֨ב לְךָ֜ וּלְבָנֶ֤יךָ אַחֲרֶ֨יךָ֙ עַד־עֹולָ֔ם כִּ֤י תַעֲשֶׂה֙ הַטֹּ֣וב וְהַיָּשָׁ֔ר בְּעֵינֵ֖י יְהוָ֥ה אֱלֹהֶֽיךָ׃ ס </span>|<span class=\"hb\">וְהַיָּשָׁ֔ר בְּעֵינֵ֖י יְהוָ֥ה אֱלֹהֶֽיךָ׃ ס </span>|<span class=\"hb\">יְהוָ֥ה </span>|<span class=\"hb\">יָּשָׁ֔ר </span>\n",
       "4|<a href=\"https://shebanq.ancient-data.org/hebrew/text?book=Deuteronomium&chapter=13&verse=19&version=2017&mr=m&qw=q&tp=txt_p&tr=hb&wget=v&qget=v&nget=vt\" title=\"Deuteronomy 13:19\">Deuteronomy 13:19</a> <span class=\"hb\">כִּ֣י תִשְׁמַ֗ע בְּקֹול֙ יְהוָ֣ה אֱלֹהֶ֔יךָ לִשְׁמֹר֙ אֶת־כָּל־מִצְוֹתָ֔יו אֲשֶׁ֛ר אָנֹכִ֥י מְצַוְּךָ֖ הַיֹּ֑ום לַעֲשֹׂות֙ הַיָּשָׁ֔ר בְּעֵינֵ֖י יְהוָ֥ה אֱלֹהֶֽיךָ׃ ס </span>|<span class=\"hb\">הַיָּשָׁ֔ר בְּעֵינֵ֖י יְהוָ֥ה אֱלֹהֶֽיךָ׃ ס </span>|<span class=\"hb\">יְהוָ֥ה </span>|<span class=\"hb\">יָּשָׁ֔ר </span>\n",
       "5|<a href=\"https://shebanq.ancient-data.org/hebrew/text?book=Deuteronomium&chapter=21&verse=9&version=2017&mr=m&qw=q&tp=txt_p&tr=hb&wget=v&qget=v&nget=vt\" title=\"Deuteronomy 21:9\">Deuteronomy 21:9</a> <span class=\"hb\">וְאַתָּ֗ה תְּבַעֵ֛ר הַדָּ֥ם הַנָּקִ֖י מִקִּרְבֶּ֑ךָ כִּֽי־תַעֲשֶׂ֥ה הַיָּשָׁ֖ר בְּעֵינֵ֥י יְהוָֽה׃ ס </span>|<span class=\"hb\">הַיָּשָׁ֖ר בְּעֵינֵ֥י יְהוָֽה׃ ס </span>|<span class=\"hb\">יְהוָֽה׃ ס </span>|<span class=\"hb\">יָּשָׁ֖ר </span>\n",
       "6|<a href=\"https://shebanq.ancient-data.org/hebrew/text?book=Reges_I&chapter=15&verse=5&version=2017&mr=m&qw=q&tp=txt_p&tr=hb&wget=v&qget=v&nget=vt\" title=\"1_Kings 15:5\">1_Kings 15:5</a> <span class=\"hb\">אֲשֶׁ֨ר עָשָׂ֥ה דָוִ֛ד אֶת־הַיָּשָׁ֖ר בְּעֵינֵ֣י יְהוָ֑ה וְלֹֽא־סָ֞ר מִכֹּ֣ל אֲשֶׁר־צִוָּ֗הוּ כֹּ֚ל יְמֵ֣י חַיָּ֔יו רַ֕ק בִּדְבַ֖ר אוּרִיָּ֥ה הַחִתִּֽי׃ </span>|<span class=\"hb\">אֲשֶׁ֨ר עָשָׂ֥ה דָוִ֛ד אֶת־הַיָּשָׁ֖ר בְּעֵינֵ֣י יְהוָ֑ה </span>|<span class=\"hb\">יְהוָ֑ה </span>|<span class=\"hb\">יָּשָׁ֖ר </span>\n",
       "7|<a href=\"https://shebanq.ancient-data.org/hebrew/text?book=Reges_I&chapter=15&verse=11&version=2017&mr=m&qw=q&tp=txt_p&tr=hb&wget=v&qget=v&nget=vt\" title=\"1_Kings 15:11\">1_Kings 15:11</a> <span class=\"hb\">וַיַּ֧עַשׂ אָסָ֛א הַיָּשָׁ֖ר בְּעֵינֵ֣י יְהוָ֑ה כְּדָוִ֖ד אָבִֽיו׃ </span>|<span class=\"hb\">הַיָּשָׁ֖ר בְּעֵינֵ֣י יְהוָ֑ה </span>|<span class=\"hb\">יְהוָ֑ה </span>|<span class=\"hb\">יָּשָׁ֖ר </span>\n",
       "8|<a href=\"https://shebanq.ancient-data.org/hebrew/text?book=Reges_I&chapter=22&verse=43&version=2017&mr=m&qw=q&tp=txt_p&tr=hb&wget=v&qget=v&nget=vt\" title=\"1_Kings 22:43\">1_Kings 22:43</a> <span class=\"hb\">וַיֵּ֗לֶךְ בְּכָל־דֶּ֛רֶךְ אָסָ֥א אָבִ֖יו לֹא־סָ֣ר מִמֶּ֑נּוּ לַעֲשֹׂ֥ות הַיָּשָׁ֖ר בְּעֵינֵ֥י יְהוָֽה׃ </span>|<span class=\"hb\">הַיָּשָׁ֖ר בְּעֵינֵ֥י יְהוָֽה׃ </span>|<span class=\"hb\">יְהוָֽה׃ </span>|<span class=\"hb\">יָּשָׁ֖ר </span>\n",
       "9|<a href=\"https://shebanq.ancient-data.org/hebrew/text?book=Reges_II&chapter=12&verse=3&version=2017&mr=m&qw=q&tp=txt_p&tr=hb&wget=v&qget=v&nget=vt\" title=\"2_Kings 12:3\">2_Kings 12:3</a> <span class=\"hb\">וַיַּ֨עַשׂ יְהֹואָ֧שׁ הַיָּשָׁ֛ר בְּעֵינֵ֥י יְהוָ֖ה כָּל־יָמָ֑יו אֲשֶׁ֣ר הֹורָ֔הוּ יְהֹויָדָ֖ע הַכֹּהֵֽן׃ </span>|<span class=\"hb\">הַיָּשָׁ֛ר בְּעֵינֵ֥י יְהוָ֖ה </span>|<span class=\"hb\">יְהוָ֖ה </span>|<span class=\"hb\">יָּשָׁ֛ר </span>\n",
       "10|<a href=\"https://shebanq.ancient-data.org/hebrew/text?book=Reges_II&chapter=14&verse=3&version=2017&mr=m&qw=q&tp=txt_p&tr=hb&wget=v&qget=v&nget=vt\" title=\"2_Kings 14:3\">2_Kings 14:3</a> <span class=\"hb\">וַיַּ֤עַשׂ הַיָּשָׁר֙ בְּעֵינֵ֣י יְהוָ֔ה רַ֕ק לֹ֖א כְּדָוִ֣ד אָבִ֑יו כְּכֹ֧ל אֲשֶׁר־עָשָׂ֛ה יֹואָ֥שׁ אָבִ֖יו עָשָֽׂה׃ </span>|<span class=\"hb\">הַיָּשָׁר֙ בְּעֵינֵ֣י יְהוָ֔ה </span>|<span class=\"hb\">יְהוָ֔ה </span>|<span class=\"hb\">יָּשָׁר֙ </span>"
      ],
      "text/plain": [
       "<IPython.core.display.Markdown object>"
      ]
     },
     "metadata": {},
     "output_type": "display_data"
    },
    {
     "name": "stdout",
     "output_type": "stream",
     "text": [
      "{'lexeme': 'ושַׁע', 'count': 7, 'expected': 0.17315698666616658, 'MI': 5.337202417308884}\n",
      "  1.61s 7 results\n"
     ]
    },
    {
     "data": {
      "text/markdown": [
       "n | verse | clause | word | word\n",
       "--- | --- | --- | --- | ---\n",
       "1|<a href=\"https://shebanq.ancient-data.org/hebrew/text?book=Exodus&chapter=14&verse=30&version=2017&mr=m&qw=q&tp=txt_p&tr=hb&wget=v&qget=v&nget=vt\" title=\"Exodus 14:30\">Exodus 14:30</a> <span class=\"hb\">וַיֹּ֨ושַׁע יְהוָ֜ה בַּיֹּ֥ום הַה֛וּא אֶת־יִשְׂרָאֵ֖ל מִיַּ֣ד מִצְרָ֑יִם וַיַּ֤רְא יִשְׂרָאֵל֙ אֶת־מִצְרַ֔יִם מֵ֖ת עַל־שְׂפַ֥ת הַיָּֽם׃ </span>|<span class=\"hb\">וַיֹּ֨ושַׁע יְהוָ֜ה בַּיֹּ֥ום הַה֛וּא אֶת־יִשְׂרָאֵ֖ל מִיַּ֣ד מִצְרָ֑יִם </span>|<span class=\"hb\">יְהוָ֜ה </span>|<span class=\"hb\">יֹּ֨ושַׁע </span>\n",
       "2|<a href=\"https://shebanq.ancient-data.org/hebrew/text?book=Samuel_I&chapter=14&verse=23&version=2017&mr=m&qw=q&tp=txt_p&tr=hb&wget=v&qget=v&nget=vt\" title=\"1_Samuel 14:23\">1_Samuel 14:23</a> <span class=\"hb\">וַיֹּ֧ושַׁע יְהוָ֛ה בַּיֹּ֥ום הַה֖וּא אֶת־יִשְׂרָאֵ֑ל וְהַ֨מִּלְחָמָ֔ה עָבְרָ֖ה אֶת־בֵּ֥ית אָֽוֶן׃ </span>|<span class=\"hb\">וַיֹּ֧ושַׁע יְהוָ֛ה בַּיֹּ֥ום הַה֖וּא אֶת־יִשְׂרָאֵ֑ל </span>|<span class=\"hb\">יְהוָ֛ה </span>|<span class=\"hb\">יֹּ֧ושַׁע </span>\n",
       "3|<a href=\"https://shebanq.ancient-data.org/hebrew/text?book=Samuel_II&chapter=8&verse=14&version=2017&mr=m&qw=q&tp=txt_p&tr=hb&wget=v&qget=v&nget=vt\" title=\"2_Samuel 8:14\">2_Samuel 8:14</a> <span class=\"hb\">וַיָּ֨שֶׂם בֶּאֱדֹ֜ום נְצִבִ֗ים בְּכָל־אֱדֹום֙ שָׂ֣ם נְצִבִ֔ים וַיְהִ֥י כָל־אֱדֹ֖ום עֲבָדִ֣ים לְדָוִ֑ד וַיֹּ֤ושַׁע יְהוָה֙ אֶת־דָּוִ֔ד בְּכֹ֖ל אֲשֶׁ֥ר הָלָֽךְ׃ </span>|<span class=\"hb\">וַיֹּ֤ושַׁע יְהוָה֙ אֶת־דָּוִ֔ד בְּכֹ֖ל </span>|<span class=\"hb\">יְהוָה֙ </span>|<span class=\"hb\">יֹּ֤ושַׁע </span>\n",
       "4|<a href=\"https://shebanq.ancient-data.org/hebrew/text?book=Chronica_I&chapter=11&verse=14&version=2017&mr=m&qw=q&tp=txt_p&tr=hb&wget=v&qget=v&nget=vt\" title=\"1_Chronicles 11:14\">1_Chronicles 11:14</a> <span class=\"hb\">וַיִּֽתְיַצְּב֤וּ בְתֹוךְ־הַחֶלְקָה֙ וַיַּצִּיל֔וּהָ וַיַּכּ֖וּ אֶת־פְּלִשְׁתִּ֑ים וַיֹּ֥ושַׁע יְהוָ֖ה תְּשׁוּעָ֥ה גְדֹולָֽה׃ </span>|<span class=\"hb\">וַיֹּ֥ושַׁע יְהוָ֖ה תְּשׁוּעָ֥ה גְדֹולָֽה׃ </span>|<span class=\"hb\">יְהוָ֖ה </span>|<span class=\"hb\">יֹּ֥ושַׁע </span>\n",
       "5|<a href=\"https://shebanq.ancient-data.org/hebrew/text?book=Chronica_I&chapter=18&verse=6&version=2017&mr=m&qw=q&tp=txt_p&tr=hb&wget=v&qget=v&nget=vt\" title=\"1_Chronicles 18:6\">1_Chronicles 18:6</a> <span class=\"hb\">וַיָּ֤שֶׂם דָּוִיד֙ בַּאֲרַ֣ם דַּרְמֶ֔שֶׂק וַיְהִ֤י אֲרָם֙ לְדָוִ֔יד עֲבָדִ֖ים נֹשְׂאֵ֣י מִנְחָ֑ה וַיֹּ֤ושַׁע יְהוָה֙ לְדָוִ֔יד בְּכֹ֖ל אֲשֶׁ֥ר הָלָֽךְ׃ </span>|<span class=\"hb\">וַיֹּ֤ושַׁע יְהוָה֙ לְדָוִ֔יד בְּכֹ֖ל </span>|<span class=\"hb\">יְהוָה֙ </span>|<span class=\"hb\">יֹּ֤ושַׁע </span>\n",
       "6|<a href=\"https://shebanq.ancient-data.org/hebrew/text?book=Chronica_I&chapter=18&verse=13&version=2017&mr=m&qw=q&tp=txt_p&tr=hb&wget=v&qget=v&nget=vt\" title=\"1_Chronicles 18:13\">1_Chronicles 18:13</a> <span class=\"hb\">וַיָּ֤שֶׂם בֶּֽאֱדֹום֙ נְצִיבִ֔ים וַיִּהְי֥וּ כָל־אֱדֹ֖ום עֲבָדִ֣ים לְדָוִ֑יד וַיֹּ֤ושַׁע יְהוָה֙ אֶת־דָּוִ֔יד בְּכֹ֖ל אֲשֶׁ֥ר הָלָֽךְ׃ </span>|<span class=\"hb\">וַיֹּ֤ושַׁע יְהוָה֙ אֶת־דָּוִ֔יד בְּכֹ֖ל </span>|<span class=\"hb\">יְהוָה֙ </span>|<span class=\"hb\">יֹּ֤ושַׁע </span>\n",
       "7|<a href=\"https://shebanq.ancient-data.org/hebrew/text?book=Chronica_II&chapter=32&verse=22&version=2017&mr=m&qw=q&tp=txt_p&tr=hb&wget=v&qget=v&nget=vt\" title=\"2_Chronicles 32:22\">2_Chronicles 32:22</a> <span class=\"hb\">וַיֹּושַׁע֩ יְהוָ֨ה אֶת־יְחִזְקִיָּ֜הוּ וְאֵ֣ת׀ יֹשְׁבֵ֣י יְרוּשָׁלִַ֗ם מִיַּ֛ד סַנְחֵרִ֥יב מֶֽלֶךְ־אַשּׁ֖וּר וּמִיַּד־כֹּ֑ל וַֽיְנַהֲלֵ֖ם מִסָּבִֽיב׃ </span>|<span class=\"hb\">וַיֹּושַׁע֩ יְהוָ֨ה אֶת־יְחִזְקִיָּ֜הוּ וְאֵ֣ת׀ יֹשְׁבֵ֣י יְרוּשָׁלִַ֗ם מִיַּ֛ד סַנְחֵרִ֥יב מֶֽלֶךְ־אַשּׁ֖וּר וּמִיַּד־כֹּ֑ל </span>|<span class=\"hb\">יְהוָ֨ה </span>|<span class=\"hb\">יֹּושַׁע֩ </span>"
      ],
      "text/plain": [
       "<IPython.core.display.Markdown object>"
      ]
     },
     "metadata": {},
     "output_type": "display_data"
    },
    {
     "name": "stdout",
     "output_type": "stream",
     "text": [
      "{'lexeme': 'יִרְא', 'count': 38, 'expected': 0.9457035425613712, 'MI': 5.328467607331276}\n",
      "  1.39s 38 results\n"
     ]
    },
    {
     "data": {
      "text/markdown": [
       "n | verse | clause | word | word\n",
       "--- | --- | --- | --- | ---\n",
       "1|<a href=\"https://shebanq.ancient-data.org/hebrew/text?book=Deuteronomium&chapter=6&verse=24&version=2017&mr=m&qw=q&tp=txt_p&tr=hb&wget=v&qget=v&nget=vt\" title=\"Deuteronomy 6:24\">Deuteronomy 6:24</a> <span class=\"hb\">וַיְצַוֵּ֣נוּ יְהוָ֗ה לַעֲשֹׂות֙ אֶת־כָּל־הַחֻקִּ֣ים הָאֵ֔לֶּה לְיִרְאָ֖ה אֶת־יְהוָ֣ה אֱלֹהֵ֑ינוּ לְטֹ֥וב לָ֨נוּ֙ כָּל־הַיָּמִ֔ים לְחַיֹּתֵ֖נוּ כְּהַיֹּ֥ום הַזֶּֽה׃ </span>|<span class=\"hb\">לְיִרְאָ֖ה אֶת־יְהוָ֣ה אֱלֹהֵ֑ינוּ </span>|<span class=\"hb\">יְהוָ֣ה </span>|<span class=\"hb\">יִרְאָ֖ה </span>\n",
       "2|<a href=\"https://shebanq.ancient-data.org/hebrew/text?book=Deuteronomium&chapter=10&verse=12&version=2017&mr=m&qw=q&tp=txt_p&tr=hb&wget=v&qget=v&nget=vt\" title=\"Deuteronomy 10:12\">Deuteronomy 10:12</a> <span class=\"hb\">וְעַתָּה֙ יִשְׂרָאֵ֔ל מָ֚ה יְהוָ֣ה אֱלֹהֶ֔יךָ שֹׁאֵ֖ל מֵעִמָּ֑ךְ כִּ֣י אִם־לְ֠יִרְאָה אֶת־יְהוָ֨ה אֱלֹהֶ֜יךָ לָלֶ֤כֶת בְּכָל־דְּרָכָיו֙ וּלְאַהֲבָ֣ה אֹתֹ֔ו וְלַֽעֲבֹד֙ אֶת־יְהוָ֣ה אֱלֹהֶ֔יךָ בְּכָל־לְבָבְךָ֖ וּבְכָל־נַפְשֶֽׁךָ׃ </span>|<span class=\"hb\">לְ֠יִרְאָה אֶת־יְהוָ֨ה אֱלֹהֶ֜יךָ </span>|<span class=\"hb\">יְהוָ֨ה </span>|<span class=\"hb\">יִרְאָה </span>\n",
       "3|<a href=\"https://shebanq.ancient-data.org/hebrew/text?book=Deuteronomium&chapter=14&verse=23&version=2017&mr=m&qw=q&tp=txt_p&tr=hb&wget=v&qget=v&nget=vt\" title=\"Deuteronomy 14:23\">Deuteronomy 14:23</a> <span class=\"hb\">וְאָכַלְתָּ֞ לִפְנֵ֣י׀ יְהוָ֣ה אֱלֹהֶ֗יךָ בַּמָּקֹ֣ום אֲשֶׁר־יִבְחַר֮ לְשַׁכֵּ֣ן שְׁמֹ֣ו שָׁם֒ מַעְשַׂ֤ר דְּגָֽנְךָ֙ תִּֽירֹשְׁךָ֣ וְיִצְהָרֶ֔ךָ וּבְכֹרֹ֥ת בְּקָרְךָ֖ וְצֹאנֶ֑ךָ לְמַ֣עַן תִּלְמַ֗ד לְיִרְאָ֛ה אֶת־יְהוָ֥ה אֱלֹהֶ֖יךָ כָּל־הַיָּמִֽים׃ </span>|<span class=\"hb\">לְיִרְאָ֛ה אֶת־יְהוָ֥ה אֱלֹהֶ֖יךָ כָּל־הַיָּמִֽים׃ </span>|<span class=\"hb\">יְהוָ֥ה </span>|<span class=\"hb\">יִרְאָ֛ה </span>\n",
       "4|<a href=\"https://shebanq.ancient-data.org/hebrew/text?book=Deuteronomium&chapter=17&verse=19&version=2017&mr=m&qw=q&tp=txt_p&tr=hb&wget=v&qget=v&nget=vt\" title=\"Deuteronomy 17:19\">Deuteronomy 17:19</a> <span class=\"hb\">וְהָיְתָ֣ה עִמֹּ֔ו וְקָ֥רָא בֹ֖ו כָּל־יְמֵ֣י חַיָּ֑יו לְמַ֣עַן יִלְמַ֗ד לְיִרְאָה֙ אֶת־יְהוָ֣ה אֱלֹהָ֔יו לִ֠שְׁמֹר אֶֽת־כָּל־דִּבְרֵ֞י הַתֹּורָ֥ה הַזֹּ֛את וְאֶת־הַחֻקִּ֥ים הָאֵ֖לֶּה לַעֲשֹׂתָֽם׃ </span>|<span class=\"hb\">לְיִרְאָה֙ אֶת־יְהוָ֣ה אֱלֹהָ֔יו </span>|<span class=\"hb\">יְהוָ֣ה </span>|<span class=\"hb\">יִרְאָה֙ </span>\n",
       "5|<a href=\"https://shebanq.ancient-data.org/hebrew/text?book=Deuteronomium&chapter=28&verse=58&version=2017&mr=m&qw=q&tp=txt_p&tr=hb&wget=v&qget=v&nget=vt\" title=\"Deuteronomy 28:58\">Deuteronomy 28:58</a> <span class=\"hb\">אִם־לֹ֨א תִשְׁמֹ֜ר לַעֲשֹׂ֗ות אֶת־כָּל־דִּבְרֵי֙ הַתֹּורָ֣ה הַזֹּ֔את הַכְּתוּבִ֖ים בַּסֵּ֣פֶר הַזֶּ֑ה לְ֠יִרְאָה אֶת־הַשֵּׁ֞ם הַנִּכְבָּ֤ד וְהַנֹּורָא֙ הַזֶּ֔ה אֵ֖ת יְהוָ֥ה אֱלֹהֶֽיךָ׃ </span>|<span class=\"hb\">לְ֠יִרְאָה אֶת־הַשֵּׁ֞ם הַנִּכְבָּ֤ד וְהַנֹּורָא֙ הַזֶּ֔ה אֵ֖ת יְהוָ֥ה אֱלֹהֶֽיךָ׃ </span>|<span class=\"hb\">יְהוָ֥ה </span>|<span class=\"hb\">יִרְאָה </span>\n",
       "6|<a href=\"https://shebanq.ancient-data.org/hebrew/text?book=Deuteronomium&chapter=31&verse=13&version=2017&mr=m&qw=q&tp=txt_p&tr=hb&wget=v&qget=v&nget=vt\" title=\"Deuteronomy 31:13\">Deuteronomy 31:13</a> <span class=\"hb\">וּבְנֵיהֶ֞ם אֲשֶׁ֣ר לֹֽא־יָדְע֗וּ יִשְׁמְעוּ֙ וְלָ֣מְד֔וּ לְיִרְאָ֖ה אֶת־יְהוָ֣ה אֱלֹהֵיכֶ֑ם כָּל־הַיָּמִ֗ים אֲשֶׁ֨ר אַתֶּ֤ם חַיִּים֙ עַל־הָ֣אֲדָמָ֔ה אֲשֶׁ֨ר אַתֶּ֜ם עֹבְרִ֧ים אֶת־הַיַּרְדֵּ֛ן שָׁ֖מָּה לְרִשְׁתָּֽהּ׃ פ </span>|<span class=\"hb\">לְיִרְאָ֖ה אֶת־יְהוָ֣ה אֱלֹהֵיכֶ֑ם כָּל־הַיָּמִ֗ים </span>|<span class=\"hb\">יְהוָ֣ה </span>|<span class=\"hb\">יִרְאָ֖ה </span>\n",
       "7|<a href=\"https://shebanq.ancient-data.org/hebrew/text?book=Jesaia&chapter=11&verse=2&version=2017&mr=m&qw=q&tp=txt_p&tr=hb&wget=v&qget=v&nget=vt\" title=\"Isaiah 11:2\">Isaiah 11:2</a> <span class=\"hb\">וְנָחָ֥ה עָלָ֖יו ר֣וּחַ יְהוָ֑ה ר֧וּחַ חָכְמָ֣ה וּבִינָ֗ה ר֤וּחַ עֵצָה֙ וּגְבוּרָ֔ה ר֥וּחַ דַּ֖עַת וְיִרְאַ֥ת יְהוָֽה׃ </span>|<span class=\"hb\">וְנָחָ֥ה עָלָ֖יו ר֣וּחַ יְהוָ֑ה ר֧וּחַ חָכְמָ֣ה וּבִינָ֗ה ר֤וּחַ עֵצָה֙ וּגְבוּרָ֔ה ר֥וּחַ דַּ֖עַת וְיִרְאַ֥ת יְהוָֽה׃ </span>|<span class=\"hb\">יְהוָ֑ה </span>|<span class=\"hb\">יִרְאַ֥ת </span>\n",
       "8|<a href=\"https://shebanq.ancient-data.org/hebrew/text?book=Jesaia&chapter=11&verse=2&version=2017&mr=m&qw=q&tp=txt_p&tr=hb&wget=v&qget=v&nget=vt\" title=\"Isaiah 11:2\">Isaiah 11:2</a> <span class=\"hb\">וְנָחָ֥ה עָלָ֖יו ר֣וּחַ יְהוָ֑ה ר֧וּחַ חָכְמָ֣ה וּבִינָ֗ה ר֤וּחַ עֵצָה֙ וּגְבוּרָ֔ה ר֥וּחַ דַּ֖עַת וְיִרְאַ֥ת יְהוָֽה׃ </span>|<span class=\"hb\">וְנָחָ֥ה עָלָ֖יו ר֣וּחַ יְהוָ֑ה ר֧וּחַ חָכְמָ֣ה וּבִינָ֗ה ר֤וּחַ עֵצָה֙ וּגְבוּרָ֔ה ר֥וּחַ דַּ֖עַת וְיִרְאַ֥ת יְהוָֽה׃ </span>|<span class=\"hb\">יְהוָֽה׃ </span>|<span class=\"hb\">יִרְאַ֥ת </span>\n",
       "9|<a href=\"https://shebanq.ancient-data.org/hebrew/text?book=Jesaia&chapter=11&verse=3&version=2017&mr=m&qw=q&tp=txt_p&tr=hb&wget=v&qget=v&nget=vt\" title=\"Isaiah 11:3\">Isaiah 11:3</a> <span class=\"hb\">וַהֲרִיחֹ֖ו בְּיִרְאַ֣ת יְהוָ֑ה וְלֹֽא־לְמַרְאֵ֤ה עֵינָיו֙ יִשְׁפֹּ֔וט וְלֹֽא־לְמִשְׁמַ֥ע אָזְנָ֖יו יֹוכִֽיחַ׃ </span>|<span class=\"hb\">וַהֲרִיחֹ֖ו בְּיִרְאַ֣ת יְהוָ֑ה </span>|<span class=\"hb\">יְהוָ֑ה </span>|<span class=\"hb\">יִרְאַ֣ת </span>\n",
       "10|<a href=\"https://shebanq.ancient-data.org/hebrew/text?book=Jesaia&chapter=33&verse=6&version=2017&mr=m&qw=q&tp=txt_p&tr=hb&wget=v&qget=v&nget=vt\" title=\"Isaiah 33:6\">Isaiah 33:6</a> <span class=\"hb\">וְהָיָה֙ אֱמוּנַ֣ת עִתֶּ֔יךָ חֹ֥סֶן יְשׁוּעֹ֖ת חָכְמַ֣ת וָדָ֑עַת יִרְאַ֥ת יְהוָ֖ה הִ֥יא אֹוצָרֹֽו׃ ס </span>|<span class=\"hb\">יִרְאַ֥ת יְהוָ֖ה </span>|<span class=\"hb\">יְהוָ֖ה </span>|<span class=\"hb\">יִרְאַ֥ת </span>"
      ],
      "text/plain": [
       "<IPython.core.display.Markdown object>"
      ]
     },
     "metadata": {},
     "output_type": "display_data"
    },
    {
     "name": "stdout",
     "output_type": "stream",
     "text": [
      "{'lexeme': 'עִבְד', 'count': 9, 'expected': 0.2264360594865255, 'MI': 5.312749373584345}\n",
      "  1.33s 9 results\n"
     ]
    },
    {
     "data": {
      "text/markdown": [
       "n | verse | clause | word | word\n",
       "--- | --- | --- | --- | ---\n",
       "1|<a href=\"https://shebanq.ancient-data.org/hebrew/text?book=Exodus&chapter=10&verse=8&version=2017&mr=m&qw=q&tp=txt_p&tr=hb&wget=v&qget=v&nget=vt\" title=\"Exodus 10:8\">Exodus 10:8</a> <span class=\"hb\">וַיּוּשַׁ֞ב אֶת־מֹשֶׁ֤ה וְאֶֽת־אַהֲרֹן֙ אֶל־פַּרְעֹ֔ה וַיֹּ֣אמֶר אֲלֵהֶ֔ם לְכ֥וּ עִבְד֖וּ אֶת־יְהוָ֣ה אֱלֹהֵיכֶ֑ם מִ֥י וָמִ֖י הַהֹלְכִֽים׃ </span>|<span class=\"hb\">עִבְד֖וּ אֶת־יְהוָ֣ה אֱלֹהֵיכֶ֑ם </span>|<span class=\"hb\">יְהוָ֣ה </span>|<span class=\"hb\">עִבְד֖וּ </span>\n",
       "2|<a href=\"https://shebanq.ancient-data.org/hebrew/text?book=Exodus&chapter=10&verse=11&version=2017&mr=m&qw=q&tp=txt_p&tr=hb&wget=v&qget=v&nget=vt\" title=\"Exodus 10:11\">Exodus 10:11</a> <span class=\"hb\">לֹ֣א כֵ֗ן לְכֽוּ־נָ֤א הַגְּבָרִים֙ וְעִבְד֣וּ אֶת־יְהוָ֔ה כִּ֥י אֹתָ֖הּ אַתֶּ֣ם מְבַקְשִׁ֑ים וַיְגָ֣רֶשׁ אֹתָ֔ם מֵאֵ֖ת פְּנֵ֥י פַרְעֹֽה׃ פ </span>|<span class=\"hb\">וְעִבְד֣וּ אֶת־יְהוָ֔ה </span>|<span class=\"hb\">יְהוָ֔ה </span>|<span class=\"hb\">עִבְד֣וּ </span>\n",
       "3|<a href=\"https://shebanq.ancient-data.org/hebrew/text?book=Exodus&chapter=10&verse=24&version=2017&mr=m&qw=q&tp=txt_p&tr=hb&wget=v&qget=v&nget=vt\" title=\"Exodus 10:24\">Exodus 10:24</a> <span class=\"hb\">וַיִּקְרָ֨א פַרְעֹ֜ה אֶל־מֹשֶׁ֗ה וַיֹּ֨אמֶר֙ לְכוּ֙ עִבְד֣וּ אֶת־יְהוָ֔ה רַ֛ק צֹאנְכֶ֥ם וּבְקַרְכֶ֖ם יֻצָּ֑ג גַּֽם־טַפְּכֶ֖ם יֵלֵ֥ךְ עִמָּכֶֽם׃ </span>|<span class=\"hb\">עִבְד֣וּ אֶת־יְהוָ֔ה </span>|<span class=\"hb\">יְהוָ֔ה </span>|<span class=\"hb\">עִבְד֣וּ </span>\n",
       "4|<a href=\"https://shebanq.ancient-data.org/hebrew/text?book=Exodus&chapter=12&verse=31&version=2017&mr=m&qw=q&tp=txt_p&tr=hb&wget=v&qget=v&nget=vt\" title=\"Exodus 12:31\">Exodus 12:31</a> <span class=\"hb\">וַיִּקְרָא֩ לְמֹשֶׁ֨ה וּֽלְאַהֲרֹ֜ן לַ֗יְלָה וַיֹּ֨אמֶר֙ ק֤וּמוּ צְּאוּ֙ מִתֹּ֣וךְ עַמִּ֔י גַּם־אַתֶּ֖ם גַּם־בְּנֵ֣י יִשְׂרָאֵ֑ל וּלְכ֛וּ עִבְד֥וּ אֶת־יְהוָ֖ה כְּדַבֶּרְכֶֽם׃ </span>|<span class=\"hb\">עִבְד֥וּ אֶת־יְהוָ֖ה </span>|<span class=\"hb\">יְהוָ֖ה </span>|<span class=\"hb\">עִבְד֥וּ </span>\n",
       "5|<a href=\"https://shebanq.ancient-data.org/hebrew/text?book=Josua&chapter=24&verse=14&version=2017&mr=m&qw=q&tp=txt_p&tr=hb&wget=v&qget=v&nget=vt\" title=\"Joshua 24:14\">Joshua 24:14</a> <span class=\"hb\">וְעַתָּ֞ה יְר֧אוּ אֶת־יְהוָ֛ה וְעִבְד֥וּ אֹתֹ֖ו בְּתָמִ֣ים וּבֶֽאֱמֶ֑ת וְהָסִ֣ירוּ אֶת־אֱלֹהִ֗ים אֲשֶׁר֩ עָבְד֨וּ אֲבֹותֵיכֶ֜ם בְּעֵ֤בֶר הַנָּהָר֙ וּבְמִצְרַ֔יִם וְעִבְד֖וּ אֶת־יְהוָֽה׃ </span>|<span class=\"hb\">וְעִבְד֖וּ אֶת־יְהוָֽה׃ </span>|<span class=\"hb\">יְהוָֽה׃ </span>|<span class=\"hb\">עִבְד֖וּ </span>\n",
       "6|<a href=\"https://shebanq.ancient-data.org/hebrew/text?book=Psalmi&chapter=2&verse=11&version=2017&mr=m&qw=q&tp=txt_p&tr=hb&wget=v&qget=v&nget=vt\" title=\"Psalms 2:11\">Psalms 2:11</a> <span class=\"hb\">עִבְד֣וּ אֶת־יְהוָ֣ה בְּיִרְאָ֑ה וְ֝גִ֗ילוּ בִּרְעָדָֽה׃ </span>|<span class=\"hb\">עִבְד֣וּ אֶת־יְהוָ֣ה בְּיִרְאָ֑ה </span>|<span class=\"hb\">יְהוָ֣ה </span>|<span class=\"hb\">עִבְד֣וּ </span>\n",
       "7|<a href=\"https://shebanq.ancient-data.org/hebrew/text?book=Psalmi&chapter=100&verse=2&version=2017&mr=m&qw=q&tp=txt_p&tr=hb&wget=v&qget=v&nget=vt\" title=\"Psalms 100:2\">Psalms 100:2</a> <span class=\"hb\">עִבְד֣וּ אֶת־יְהוָ֣ה בְּשִׂמְחָ֑ה בֹּ֥אוּ לְ֝פָנָ֗יו בִּרְנָנָֽה׃ </span>|<span class=\"hb\">עִבְד֣וּ אֶת־יְהוָ֣ה בְּשִׂמְחָ֑ה </span>|<span class=\"hb\">יְהוָ֣ה </span>|<span class=\"hb\">עִבְד֣וּ </span>\n",
       "8|<a href=\"https://shebanq.ancient-data.org/hebrew/text?book=Chronica_II&chapter=30&verse=8&version=2017&mr=m&qw=q&tp=txt_p&tr=hb&wget=v&qget=v&nget=vt\" title=\"2_Chronicles 30:8\">2_Chronicles 30:8</a> <span class=\"hb\">עַתָּ֕ה אַל־תַּקְשׁ֥וּ עָרְפְּכֶ֖ם כַּאֲבֹותֵיכֶ֑ם תְּנוּ־יָ֣ד לַיהוָ֗ה וּבֹ֤אוּ לְמִקְדָּשֹׁו֙ אֲשֶׁ֣ר הִקְדִּ֣ישׁ לְעֹולָ֔ם וְעִבְדוּ֙ אֶת־יְהוָ֣ה אֱלֹהֵיכֶ֔ם וְיָשֹׁ֥ב מִכֶּ֖ם חֲרֹ֥ון אַפֹּֽו׃ </span>|<span class=\"hb\">וְעִבְדוּ֙ אֶת־יְהוָ֣ה אֱלֹהֵיכֶ֔ם </span>|<span class=\"hb\">יְהוָ֣ה </span>|<span class=\"hb\">עִבְדוּ֙ </span>\n",
       "9|<a href=\"https://shebanq.ancient-data.org/hebrew/text?book=Chronica_II&chapter=35&verse=3&version=2017&mr=m&qw=q&tp=txt_p&tr=hb&wget=v&qget=v&nget=vt\" title=\"2_Chronicles 35:3\">2_Chronicles 35:3</a> <span class=\"hb\">וַיֹּ֣אמֶר לַ֠לְוִיִּם הַמְּבִינִ֨ים לְכָל־יִשְׂרָאֵ֜ל הַקְּדֹושִׁ֣ים לַיהוָ֗ה תְּנ֤וּ אֶת־אֲרֹון־הַקֹּ֨דֶשׁ֙ בַּ֠בַּיִת אֲשֶׁ֨ר בָּנָ֜ה שְׁלֹמֹ֤ה בֶן־דָּוִיד֙ מֶ֣לֶךְ יִשְׂרָאֵ֔ל אֵין־לָכֶ֥ם מַשָּׂ֖א בַּכָּתֵ֑ף עַתָּ֗ה עִבְדוּ֙ אֶת־יְהוָ֣ה אֱלֹֽהֵיכֶ֔ם וְאֵ֖ת עַמֹּ֥ו יִשְׂרָאֵֽל׃ </span>|<span class=\"hb\">עַתָּ֗ה עִבְדוּ֙ אֶת־יְהוָ֣ה אֱלֹֽהֵיכֶ֔ם וְאֵ֖ת עַמֹּ֥ו יִשְׂרָאֵֽל׃ </span>|<span class=\"hb\">יְהוָ֣ה </span>|<span class=\"hb\">עִבְדוּ֙ </span>"
      ],
      "text/plain": [
       "<IPython.core.display.Markdown object>"
      ]
     },
     "metadata": {},
     "output_type": "display_data"
    },
    {
     "name": "stdout",
     "output_type": "stream",
     "text": [
      "{'lexeme': 'כֹּה', 'count': 255, 'expected': 6.473407347673612, 'MI': 5.299828146645449}\n",
      "  1.18s 255 results\n"
     ]
    },
    {
     "data": {
      "text/markdown": [
       "n | verse | clause | word | word\n",
       "--- | --- | --- | --- | ---\n",
       "1|<a href=\"https://shebanq.ancient-data.org/hebrew/text?book=Exodus&chapter=4&verse=22&version=2017&mr=m&qw=q&tp=txt_p&tr=hb&wget=v&qget=v&nget=vt\" title=\"Exodus 4:22\">Exodus 4:22</a> <span class=\"hb\">וְאָמַרְתָּ֖ אֶל־פַּרְעֹ֑ה כֹּ֚ה אָמַ֣ר יְהוָ֔ה בְּנִ֥י בְכֹרִ֖י יִשְׂרָאֵֽל׃ </span>|<span class=\"hb\">כֹּ֚ה אָמַ֣ר יְהוָ֔ה </span>|<span class=\"hb\">יְהוָ֔ה </span>|<span class=\"hb\">כֹּ֚ה </span>\n",
       "2|<a href=\"https://shebanq.ancient-data.org/hebrew/text?book=Exodus&chapter=5&verse=1&version=2017&mr=m&qw=q&tp=txt_p&tr=hb&wget=v&qget=v&nget=vt\" title=\"Exodus 5:1\">Exodus 5:1</a> <span class=\"hb\">וְאַחַ֗ר בָּ֚אוּ מֹשֶׁ֣ה וְאַהֲרֹ֔ן וַיֹּאמְר֖וּ אֶל־פַּרְעֹ֑ה כֹּֽה־אָמַ֤ר יְהוָה֙ אֱלֹהֵ֣י יִשְׂרָאֵ֔ל שַׁלַּח֙ אֶת־עַמִּ֔י וְיָחֹ֥גּוּ לִ֖י בַּמִּדְבָּֽר׃ </span>|<span class=\"hb\">כֹּֽה־אָמַ֤ר יְהוָה֙ אֱלֹהֵ֣י יִשְׂרָאֵ֔ל </span>|<span class=\"hb\">יְהוָה֙ </span>|<span class=\"hb\">כֹּֽה־</span>\n",
       "3|<a href=\"https://shebanq.ancient-data.org/hebrew/text?book=Exodus&chapter=7&verse=17&version=2017&mr=m&qw=q&tp=txt_p&tr=hb&wget=v&qget=v&nget=vt\" title=\"Exodus 7:17\">Exodus 7:17</a> <span class=\"hb\">כֹּ֚ה אָמַ֣ר יְהוָ֔ה בְּזֹ֣את תֵּדַ֔ע כִּ֖י אֲנִ֣י יְהוָ֑ה הִנֵּ֨ה אָנֹכִ֜י מַכֶּ֣ה׀ בַּמַּטֶּ֣ה אֲשֶׁר־בְּיָדִ֗י עַל־הַמַּ֛יִם אֲשֶׁ֥ר בַּיְאֹ֖ר וְנֶהֶפְכ֥וּ לְדָֽם׃ </span>|<span class=\"hb\">כֹּ֚ה אָמַ֣ר יְהוָ֔ה </span>|<span class=\"hb\">יְהוָ֔ה </span>|<span class=\"hb\">כֹּ֚ה </span>\n",
       "4|<a href=\"https://shebanq.ancient-data.org/hebrew/text?book=Exodus&chapter=7&verse=26&version=2017&mr=m&qw=q&tp=txt_p&tr=hb&wget=v&qget=v&nget=vt\" title=\"Exodus 7:26\">Exodus 7:26</a> <span class=\"hb\">וַיֹּ֤אמֶר יְהוָה֙ אֶל־מֹשֶׁ֔ה בֹּ֖א אֶל־פַּרְעֹ֑ה וְאָמַרְתָּ֣ אֵלָ֗יו כֹּ֚ה אָמַ֣ר יְהוָ֔ה שַׁלַּ֥ח אֶת־עַמִּ֖י וְיַֽעַבְדֻֽנִי׃ </span>|<span class=\"hb\">כֹּ֚ה אָמַ֣ר יְהוָ֔ה </span>|<span class=\"hb\">יְהוָ֔ה </span>|<span class=\"hb\">כֹּ֚ה </span>\n",
       "5|<a href=\"https://shebanq.ancient-data.org/hebrew/text?book=Exodus&chapter=8&verse=16&version=2017&mr=m&qw=q&tp=txt_p&tr=hb&wget=v&qget=v&nget=vt\" title=\"Exodus 8:16\">Exodus 8:16</a> <span class=\"hb\">וַיֹּ֨אמֶר יְהוָ֜ה אֶל־מֹשֶׁ֗ה הַשְׁכֵּ֤ם בַּבֹּ֨קֶר֙ וְהִתְיַצֵּב֙ לִפְנֵ֣י פַרְעֹ֔ה הִנֵּ֖ה יֹוצֵ֣א הַמָּ֑יְמָה וְאָמַרְתָּ֣ אֵלָ֗יו כֹּ֚ה אָמַ֣ר יְהוָ֔ה שַׁלַּ֥ח עַמִּ֖י וְיַֽעַבְדֻֽנִי׃ </span>|<span class=\"hb\">כֹּ֚ה אָמַ֣ר יְהוָ֔ה </span>|<span class=\"hb\">יְהוָ֔ה </span>|<span class=\"hb\">כֹּ֚ה </span>\n",
       "6|<a href=\"https://shebanq.ancient-data.org/hebrew/text?book=Exodus&chapter=9&verse=1&version=2017&mr=m&qw=q&tp=txt_p&tr=hb&wget=v&qget=v&nget=vt\" title=\"Exodus 9:1\">Exodus 9:1</a> <span class=\"hb\">וַיֹּ֤אמֶר יְהוָה֙ אֶל־מֹשֶׁ֔ה בֹּ֖א אֶל־פַּרְעֹ֑ה וְדִבַּרְתָּ֣ אֵלָ֗יו כֹּֽה־אָמַ֤ר יְהוָה֙ אֱלֹהֵ֣י הָֽעִבְרִ֔ים שַׁלַּ֥ח אֶת־עַמִּ֖י וְיַֽעַבְדֻֽנִי׃ </span>|<span class=\"hb\">כֹּֽה־אָמַ֤ר יְהוָה֙ אֱלֹהֵ֣י הָֽעִבְרִ֔ים </span>|<span class=\"hb\">יְהוָה֙ </span>|<span class=\"hb\">כֹּֽה־</span>\n",
       "7|<a href=\"https://shebanq.ancient-data.org/hebrew/text?book=Exodus&chapter=9&verse=13&version=2017&mr=m&qw=q&tp=txt_p&tr=hb&wget=v&qget=v&nget=vt\" title=\"Exodus 9:13\">Exodus 9:13</a> <span class=\"hb\">וַיֹּ֤אמֶר יְהוָה֙ אֶל־מֹשֶׁ֔ה הַשְׁכֵּ֣ם בַּבֹּ֔קֶר וְהִתְיַצֵּ֖ב לִפְנֵ֣י פַרְעֹ֑ה וְאָמַרְתָּ֣ אֵלָ֗יו כֹּֽה־אָמַ֤ר יְהוָה֙ אֱלֹהֵ֣י הָֽעִבְרִ֔ים שַׁלַּ֥ח אֶת־עַמִּ֖י וְיַֽעַבְדֻֽנִי׃ </span>|<span class=\"hb\">כֹּֽה־אָמַ֤ר יְהוָה֙ אֱלֹהֵ֣י הָֽעִבְרִ֔ים </span>|<span class=\"hb\">יְהוָה֙ </span>|<span class=\"hb\">כֹּֽה־</span>\n",
       "8|<a href=\"https://shebanq.ancient-data.org/hebrew/text?book=Exodus&chapter=10&verse=3&version=2017&mr=m&qw=q&tp=txt_p&tr=hb&wget=v&qget=v&nget=vt\" title=\"Exodus 10:3\">Exodus 10:3</a> <span class=\"hb\">וַיָּבֹ֨א מֹשֶׁ֣ה וְאַהֲרֹן֮ אֶל־פַּרְעֹה֒ וַיֹּאמְר֣וּ אֵלָ֗יו כֹּֽה־אָמַ֤ר יְהוָה֙ אֱלֹהֵ֣י הָֽעִבְרִ֔ים עַד־מָתַ֣י מֵאַ֔נְתָּ לֵעָנֹ֖ת מִפָּנָ֑י שַׁלַּ֥ח עַמִּ֖י וְיַֽעַבְדֻֽנִי׃ </span>|<span class=\"hb\">כֹּֽה־אָמַ֤ר יְהוָה֙ אֱלֹהֵ֣י הָֽעִבְרִ֔ים </span>|<span class=\"hb\">יְהוָה֙ </span>|<span class=\"hb\">כֹּֽה־</span>\n",
       "9|<a href=\"https://shebanq.ancient-data.org/hebrew/text?book=Exodus&chapter=11&verse=4&version=2017&mr=m&qw=q&tp=txt_p&tr=hb&wget=v&qget=v&nget=vt\" title=\"Exodus 11:4\">Exodus 11:4</a> <span class=\"hb\">וַיֹּ֣אמֶר מֹשֶׁ֔ה כֹּ֖ה אָמַ֣ר יְהוָ֑ה כַּחֲצֹ֣ת הַלַּ֔יְלָה אֲנִ֥י יֹוצֵ֖א בְּתֹ֥וךְ מִצְרָֽיִם׃ </span>|<span class=\"hb\">כֹּ֖ה אָמַ֣ר יְהוָ֑ה </span>|<span class=\"hb\">יְהוָ֑ה </span>|<span class=\"hb\">כֹּ֖ה </span>\n",
       "10|<a href=\"https://shebanq.ancient-data.org/hebrew/text?book=Exodus&chapter=32&verse=27&version=2017&mr=m&qw=q&tp=txt_p&tr=hb&wget=v&qget=v&nget=vt\" title=\"Exodus 32:27\">Exodus 32:27</a> <span class=\"hb\">וַיֹּ֣אמֶר לָהֶ֗ם כֹּֽה־אָמַ֤ר יְהוָה֙ אֱלֹהֵ֣י יִשְׂרָאֵ֔ל שִׂ֥ימוּ אִישׁ־חַרְבֹּ֖ו עַל־יְרֵכֹ֑ו עִבְר֨וּ וָשׁ֜וּבוּ מִשַּׁ֤עַר לָשַׁ֨עַר֙ בַּֽמַּחֲנֶ֔ה וְהִרְג֧וּ אִֽישׁ־אֶת־אָחִ֛יו וְאִ֥ישׁ אֶת־רֵעֵ֖הוּ וְאִ֥ישׁ אֶת־קְרֹבֹֽו׃ </span>|<span class=\"hb\">כֹּֽה־אָמַ֤ר יְהוָה֙ אֱלֹהֵ֣י יִשְׂרָאֵ֔ל </span>|<span class=\"hb\">יְהוָה֙ </span>|<span class=\"hb\">כֹּֽה־</span>"
      ],
      "text/plain": [
       "<IPython.core.display.Markdown object>"
      ]
     },
     "metadata": {},
     "output_type": "display_data"
    }
   ],
   "source": [
    "from tf.extra.bhsa import Bhsa\n",
    "B = Bhsa(api, 'search', version='2017')\n",
    "\n",
    "for found in sorted_collocations_mi[0:20]:\n",
    "    print(found)\n",
    "    best_lexeme = found[\"lexeme\"]\n",
    "    results = B.search('''\n",
    "verse\n",
    "    clause\n",
    "        word g_lex_utf8={lex1}\n",
    "        word g_lex_utf8={lex2}\n",
    "'''.format(lex1=WORD_TO_STUDY, lex2=best_lexeme))\n",
    "\n",
    "    B.table(results, end=10)"
   ]
  }
 ],
 "metadata": {
  "kernelspec": {
   "display_name": "Python 3",
   "language": "python",
   "name": "python3"
  },
  "language_info": {
   "codemirror_mode": {
    "name": "ipython",
    "version": 3
   },
   "file_extension": ".py",
   "mimetype": "text/x-python",
   "name": "python",
   "nbconvert_exporter": "python",
   "pygments_lexer": "ipython3",
   "version": "3.6.5"
  }
 },
 "nbformat": 4,
 "nbformat_minor": 2
}
